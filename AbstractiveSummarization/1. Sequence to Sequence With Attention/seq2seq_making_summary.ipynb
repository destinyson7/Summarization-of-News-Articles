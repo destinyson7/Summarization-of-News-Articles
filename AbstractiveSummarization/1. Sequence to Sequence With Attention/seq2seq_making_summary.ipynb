{
  "nbformat": 4,
  "nbformat_minor": 0,
  "metadata": {
    "colab": {
      "name": "seq2seq_making_summary.ipynb",
      "provenance": []
    },
    "kernelspec": {
      "name": "python3",
      "display_name": "Python 3"
    },
    "accelerator": "GPU",
    "widgets": {
      "application/vnd.jupyter.widget-state+json": {
        "6cedba0cf9bc41d79e5368b6ed76daf2": {
          "model_module": "@jupyter-widgets/controls",
          "model_name": "HBoxModel",
          "state": {
            "_view_name": "HBoxView",
            "_dom_classes": [],
            "_model_name": "HBoxModel",
            "_view_module": "@jupyter-widgets/controls",
            "_model_module_version": "1.5.0",
            "_view_count": null,
            "_view_module_version": "1.5.0",
            "box_style": "",
            "layout": "IPY_MODEL_4f0f07a2bb18434cb639006fcb65b527",
            "_model_module": "@jupyter-widgets/controls",
            "children": [
              "IPY_MODEL_76e71bf89e404f5e9ea6b7279ddaa7bc",
              "IPY_MODEL_e4c1138df86f4a52935959a58bc2bde5"
            ]
          }
        },
        "4f0f07a2bb18434cb639006fcb65b527": {
          "model_module": "@jupyter-widgets/base",
          "model_name": "LayoutModel",
          "state": {
            "_view_name": "LayoutView",
            "grid_template_rows": null,
            "right": null,
            "justify_content": null,
            "_view_module": "@jupyter-widgets/base",
            "overflow": null,
            "_model_module_version": "1.2.0",
            "_view_count": null,
            "flex_flow": null,
            "width": null,
            "min_width": null,
            "border": null,
            "align_items": null,
            "bottom": null,
            "_model_module": "@jupyter-widgets/base",
            "top": null,
            "grid_column": null,
            "overflow_y": null,
            "overflow_x": null,
            "grid_auto_flow": null,
            "grid_area": null,
            "grid_template_columns": null,
            "flex": null,
            "_model_name": "LayoutModel",
            "justify_items": null,
            "grid_row": null,
            "max_height": null,
            "align_content": null,
            "visibility": null,
            "align_self": null,
            "height": null,
            "min_height": null,
            "padding": null,
            "grid_auto_rows": null,
            "grid_gap": null,
            "max_width": null,
            "order": null,
            "_view_module_version": "1.2.0",
            "grid_template_areas": null,
            "object_position": null,
            "object_fit": null,
            "grid_auto_columns": null,
            "margin": null,
            "display": null,
            "left": null
          }
        },
        "76e71bf89e404f5e9ea6b7279ddaa7bc": {
          "model_module": "@jupyter-widgets/controls",
          "model_name": "FloatProgressModel",
          "state": {
            "_view_name": "ProgressView",
            "style": "IPY_MODEL_52ae03ec25fa4a06be065f6da0a179e1",
            "_dom_classes": [],
            "description": "Downloading: ",
            "_model_name": "FloatProgressModel",
            "bar_style": "success",
            "max": 3528,
            "_view_module": "@jupyter-widgets/controls",
            "_model_module_version": "1.5.0",
            "value": 3528,
            "_view_count": null,
            "_view_module_version": "1.5.0",
            "orientation": "horizontal",
            "min": 0,
            "description_tooltip": null,
            "_model_module": "@jupyter-widgets/controls",
            "layout": "IPY_MODEL_af3f6df636db4638abe3752ebf150ebb"
          }
        },
        "e4c1138df86f4a52935959a58bc2bde5": {
          "model_module": "@jupyter-widgets/controls",
          "model_name": "HTMLModel",
          "state": {
            "_view_name": "HTMLView",
            "style": "IPY_MODEL_2405bf629c7f475bb9af2829ca25c858",
            "_dom_classes": [],
            "description": "",
            "_model_name": "HTMLModel",
            "placeholder": "​",
            "_view_module": "@jupyter-widgets/controls",
            "_model_module_version": "1.5.0",
            "value": " 9.38k/? [00:00&lt;00:00, 18.0kB/s]",
            "_view_count": null,
            "_view_module_version": "1.5.0",
            "description_tooltip": null,
            "_model_module": "@jupyter-widgets/controls",
            "layout": "IPY_MODEL_ceff22c9b3794ef5aeb79593f5c83768"
          }
        },
        "52ae03ec25fa4a06be065f6da0a179e1": {
          "model_module": "@jupyter-widgets/controls",
          "model_name": "ProgressStyleModel",
          "state": {
            "_view_name": "StyleView",
            "_model_name": "ProgressStyleModel",
            "description_width": "initial",
            "_view_module": "@jupyter-widgets/base",
            "_model_module_version": "1.5.0",
            "_view_count": null,
            "_view_module_version": "1.2.0",
            "bar_color": null,
            "_model_module": "@jupyter-widgets/controls"
          }
        },
        "af3f6df636db4638abe3752ebf150ebb": {
          "model_module": "@jupyter-widgets/base",
          "model_name": "LayoutModel",
          "state": {
            "_view_name": "LayoutView",
            "grid_template_rows": null,
            "right": null,
            "justify_content": null,
            "_view_module": "@jupyter-widgets/base",
            "overflow": null,
            "_model_module_version": "1.2.0",
            "_view_count": null,
            "flex_flow": null,
            "width": null,
            "min_width": null,
            "border": null,
            "align_items": null,
            "bottom": null,
            "_model_module": "@jupyter-widgets/base",
            "top": null,
            "grid_column": null,
            "overflow_y": null,
            "overflow_x": null,
            "grid_auto_flow": null,
            "grid_area": null,
            "grid_template_columns": null,
            "flex": null,
            "_model_name": "LayoutModel",
            "justify_items": null,
            "grid_row": null,
            "max_height": null,
            "align_content": null,
            "visibility": null,
            "align_self": null,
            "height": null,
            "min_height": null,
            "padding": null,
            "grid_auto_rows": null,
            "grid_gap": null,
            "max_width": null,
            "order": null,
            "_view_module_version": "1.2.0",
            "grid_template_areas": null,
            "object_position": null,
            "object_fit": null,
            "grid_auto_columns": null,
            "margin": null,
            "display": null,
            "left": null
          }
        },
        "2405bf629c7f475bb9af2829ca25c858": {
          "model_module": "@jupyter-widgets/controls",
          "model_name": "DescriptionStyleModel",
          "state": {
            "_view_name": "StyleView",
            "_model_name": "DescriptionStyleModel",
            "description_width": "",
            "_view_module": "@jupyter-widgets/base",
            "_model_module_version": "1.5.0",
            "_view_count": null,
            "_view_module_version": "1.2.0",
            "_model_module": "@jupyter-widgets/controls"
          }
        },
        "ceff22c9b3794ef5aeb79593f5c83768": {
          "model_module": "@jupyter-widgets/base",
          "model_name": "LayoutModel",
          "state": {
            "_view_name": "LayoutView",
            "grid_template_rows": null,
            "right": null,
            "justify_content": null,
            "_view_module": "@jupyter-widgets/base",
            "overflow": null,
            "_model_module_version": "1.2.0",
            "_view_count": null,
            "flex_flow": null,
            "width": null,
            "min_width": null,
            "border": null,
            "align_items": null,
            "bottom": null,
            "_model_module": "@jupyter-widgets/base",
            "top": null,
            "grid_column": null,
            "overflow_y": null,
            "overflow_x": null,
            "grid_auto_flow": null,
            "grid_area": null,
            "grid_template_columns": null,
            "flex": null,
            "_model_name": "LayoutModel",
            "justify_items": null,
            "grid_row": null,
            "max_height": null,
            "align_content": null,
            "visibility": null,
            "align_self": null,
            "height": null,
            "min_height": null,
            "padding": null,
            "grid_auto_rows": null,
            "grid_gap": null,
            "max_width": null,
            "order": null,
            "_view_module_version": "1.2.0",
            "grid_template_areas": null,
            "object_position": null,
            "object_fit": null,
            "grid_auto_columns": null,
            "margin": null,
            "display": null,
            "left": null
          }
        },
        "299cb0421d034b18b4858bc4fe68bfc7": {
          "model_module": "@jupyter-widgets/controls",
          "model_name": "HBoxModel",
          "state": {
            "_view_name": "HBoxView",
            "_dom_classes": [],
            "_model_name": "HBoxModel",
            "_view_module": "@jupyter-widgets/controls",
            "_model_module_version": "1.5.0",
            "_view_count": null,
            "_view_module_version": "1.5.0",
            "box_style": "",
            "layout": "IPY_MODEL_2eb6b7844c76469fa2fd12e9e168e04c",
            "_model_module": "@jupyter-widgets/controls",
            "children": [
              "IPY_MODEL_14a542cf979e4c2195107bc053a1cf94",
              "IPY_MODEL_404520b4b598445c86e382d67552fee2"
            ]
          }
        },
        "2eb6b7844c76469fa2fd12e9e168e04c": {
          "model_module": "@jupyter-widgets/base",
          "model_name": "LayoutModel",
          "state": {
            "_view_name": "LayoutView",
            "grid_template_rows": null,
            "right": null,
            "justify_content": null,
            "_view_module": "@jupyter-widgets/base",
            "overflow": null,
            "_model_module_version": "1.2.0",
            "_view_count": null,
            "flex_flow": null,
            "width": null,
            "min_width": null,
            "border": null,
            "align_items": null,
            "bottom": null,
            "_model_module": "@jupyter-widgets/base",
            "top": null,
            "grid_column": null,
            "overflow_y": null,
            "overflow_x": null,
            "grid_auto_flow": null,
            "grid_area": null,
            "grid_template_columns": null,
            "flex": null,
            "_model_name": "LayoutModel",
            "justify_items": null,
            "grid_row": null,
            "max_height": null,
            "align_content": null,
            "visibility": null,
            "align_self": null,
            "height": null,
            "min_height": null,
            "padding": null,
            "grid_auto_rows": null,
            "grid_gap": null,
            "max_width": null,
            "order": null,
            "_view_module_version": "1.2.0",
            "grid_template_areas": null,
            "object_position": null,
            "object_fit": null,
            "grid_auto_columns": null,
            "margin": null,
            "display": null,
            "left": null
          }
        },
        "14a542cf979e4c2195107bc053a1cf94": {
          "model_module": "@jupyter-widgets/controls",
          "model_name": "FloatProgressModel",
          "state": {
            "_view_name": "ProgressView",
            "style": "IPY_MODEL_bb2548a953414442ad94e9d06eb26b30",
            "_dom_classes": [],
            "description": "Downloading: ",
            "_model_name": "FloatProgressModel",
            "bar_style": "success",
            "max": 1610,
            "_view_module": "@jupyter-widgets/controls",
            "_model_module_version": "1.5.0",
            "value": 1610,
            "_view_count": null,
            "_view_module_version": "1.5.0",
            "orientation": "horizontal",
            "min": 0,
            "description_tooltip": null,
            "_model_module": "@jupyter-widgets/controls",
            "layout": "IPY_MODEL_1c81716ae7fd468aa9fe5caf1bcd1b1b"
          }
        },
        "404520b4b598445c86e382d67552fee2": {
          "model_module": "@jupyter-widgets/controls",
          "model_name": "HTMLModel",
          "state": {
            "_view_name": "HTMLView",
            "style": "IPY_MODEL_141f59fb61a748c79f7390db88386e24",
            "_dom_classes": [],
            "description": "",
            "_model_name": "HTMLModel",
            "placeholder": "​",
            "_view_module": "@jupyter-widgets/controls",
            "_model_module_version": "1.5.0",
            "value": " 9.50k/? [00:21&lt;00:00, 435B/s]",
            "_view_count": null,
            "_view_module_version": "1.5.0",
            "description_tooltip": null,
            "_model_module": "@jupyter-widgets/controls",
            "layout": "IPY_MODEL_eafbea5aacf04468866a355b35b09adf"
          }
        },
        "bb2548a953414442ad94e9d06eb26b30": {
          "model_module": "@jupyter-widgets/controls",
          "model_name": "ProgressStyleModel",
          "state": {
            "_view_name": "StyleView",
            "_model_name": "ProgressStyleModel",
            "description_width": "initial",
            "_view_module": "@jupyter-widgets/base",
            "_model_module_version": "1.5.0",
            "_view_count": null,
            "_view_module_version": "1.2.0",
            "bar_color": null,
            "_model_module": "@jupyter-widgets/controls"
          }
        },
        "1c81716ae7fd468aa9fe5caf1bcd1b1b": {
          "model_module": "@jupyter-widgets/base",
          "model_name": "LayoutModel",
          "state": {
            "_view_name": "LayoutView",
            "grid_template_rows": null,
            "right": null,
            "justify_content": null,
            "_view_module": "@jupyter-widgets/base",
            "overflow": null,
            "_model_module_version": "1.2.0",
            "_view_count": null,
            "flex_flow": null,
            "width": null,
            "min_width": null,
            "border": null,
            "align_items": null,
            "bottom": null,
            "_model_module": "@jupyter-widgets/base",
            "top": null,
            "grid_column": null,
            "overflow_y": null,
            "overflow_x": null,
            "grid_auto_flow": null,
            "grid_area": null,
            "grid_template_columns": null,
            "flex": null,
            "_model_name": "LayoutModel",
            "justify_items": null,
            "grid_row": null,
            "max_height": null,
            "align_content": null,
            "visibility": null,
            "align_self": null,
            "height": null,
            "min_height": null,
            "padding": null,
            "grid_auto_rows": null,
            "grid_gap": null,
            "max_width": null,
            "order": null,
            "_view_module_version": "1.2.0",
            "grid_template_areas": null,
            "object_position": null,
            "object_fit": null,
            "grid_auto_columns": null,
            "margin": null,
            "display": null,
            "left": null
          }
        },
        "141f59fb61a748c79f7390db88386e24": {
          "model_module": "@jupyter-widgets/controls",
          "model_name": "DescriptionStyleModel",
          "state": {
            "_view_name": "StyleView",
            "_model_name": "DescriptionStyleModel",
            "description_width": "",
            "_view_module": "@jupyter-widgets/base",
            "_model_module_version": "1.5.0",
            "_view_count": null,
            "_view_module_version": "1.2.0",
            "_model_module": "@jupyter-widgets/controls"
          }
        },
        "eafbea5aacf04468866a355b35b09adf": {
          "model_module": "@jupyter-widgets/base",
          "model_name": "LayoutModel",
          "state": {
            "_view_name": "LayoutView",
            "grid_template_rows": null,
            "right": null,
            "justify_content": null,
            "_view_module": "@jupyter-widgets/base",
            "overflow": null,
            "_model_module_version": "1.2.0",
            "_view_count": null,
            "flex_flow": null,
            "width": null,
            "min_width": null,
            "border": null,
            "align_items": null,
            "bottom": null,
            "_model_module": "@jupyter-widgets/base",
            "top": null,
            "grid_column": null,
            "overflow_y": null,
            "overflow_x": null,
            "grid_auto_flow": null,
            "grid_area": null,
            "grid_template_columns": null,
            "flex": null,
            "_model_name": "LayoutModel",
            "justify_items": null,
            "grid_row": null,
            "max_height": null,
            "align_content": null,
            "visibility": null,
            "align_self": null,
            "height": null,
            "min_height": null,
            "padding": null,
            "grid_auto_rows": null,
            "grid_gap": null,
            "max_width": null,
            "order": null,
            "_view_module_version": "1.2.0",
            "grid_template_areas": null,
            "object_position": null,
            "object_fit": null,
            "grid_auto_columns": null,
            "margin": null,
            "display": null,
            "left": null
          }
        },
        "6fad9f1a307147f8b866460561792b37": {
          "model_module": "@jupyter-widgets/controls",
          "model_name": "HBoxModel",
          "state": {
            "_view_name": "HBoxView",
            "_dom_classes": [],
            "_model_name": "HBoxModel",
            "_view_module": "@jupyter-widgets/controls",
            "_model_module_version": "1.5.0",
            "_view_count": null,
            "_view_module_version": "1.5.0",
            "box_style": "",
            "layout": "IPY_MODEL_5b90c8167d054451bff2128b6794ea25",
            "_model_module": "@jupyter-widgets/controls",
            "children": [
              "IPY_MODEL_785e934be88f4a11824673aa1cb4b8ab",
              "IPY_MODEL_c99dc0151956436b90d6001bb355eba7"
            ]
          }
        },
        "5b90c8167d054451bff2128b6794ea25": {
          "model_module": "@jupyter-widgets/base",
          "model_name": "LayoutModel",
          "state": {
            "_view_name": "LayoutView",
            "grid_template_rows": null,
            "right": null,
            "justify_content": null,
            "_view_module": "@jupyter-widgets/base",
            "overflow": null,
            "_model_module_version": "1.2.0",
            "_view_count": null,
            "flex_flow": null,
            "width": null,
            "min_width": null,
            "border": null,
            "align_items": null,
            "bottom": null,
            "_model_module": "@jupyter-widgets/base",
            "top": null,
            "grid_column": null,
            "overflow_y": null,
            "overflow_x": null,
            "grid_auto_flow": null,
            "grid_area": null,
            "grid_template_columns": null,
            "flex": null,
            "_model_name": "LayoutModel",
            "justify_items": null,
            "grid_row": null,
            "max_height": null,
            "align_content": null,
            "visibility": null,
            "align_self": null,
            "height": null,
            "min_height": null,
            "padding": null,
            "grid_auto_rows": null,
            "grid_gap": null,
            "max_width": null,
            "order": null,
            "_view_module_version": "1.2.0",
            "grid_template_areas": null,
            "object_position": null,
            "object_fit": null,
            "grid_auto_columns": null,
            "margin": null,
            "display": null,
            "left": null
          }
        },
        "785e934be88f4a11824673aa1cb4b8ab": {
          "model_module": "@jupyter-widgets/controls",
          "model_name": "FloatProgressModel",
          "state": {
            "_view_name": "ProgressView",
            "style": "IPY_MODEL_c3abbdd41aea498e9cd5c2e3e9592cef",
            "_dom_classes": [],
            "description": "Downloading: ",
            "_model_name": "FloatProgressModel",
            "bar_style": "success",
            "max": 1,
            "_view_module": "@jupyter-widgets/controls",
            "_model_module_version": "1.5.0",
            "value": 1,
            "_view_count": null,
            "_view_module_version": "1.5.0",
            "orientation": "horizontal",
            "min": 0,
            "description_tooltip": null,
            "_model_module": "@jupyter-widgets/controls",
            "layout": "IPY_MODEL_4d6edb42e3674294bdcbdf3fd29dd34e"
          }
        },
        "c99dc0151956436b90d6001bb355eba7": {
          "model_module": "@jupyter-widgets/controls",
          "model_name": "HTMLModel",
          "state": {
            "_view_name": "HTMLView",
            "style": "IPY_MODEL_c260108de733447893da3728f451b8ca",
            "_dom_classes": [],
            "description": "",
            "_model_name": "HTMLModel",
            "placeholder": "​",
            "_view_module": "@jupyter-widgets/controls",
            "_model_module_version": "1.5.0",
            "value": " 159M/? [00:03&lt;00:00, 41.6MB/s]",
            "_view_count": null,
            "_view_module_version": "1.5.0",
            "description_tooltip": null,
            "_model_module": "@jupyter-widgets/controls",
            "layout": "IPY_MODEL_459e390a499a4d13922d96b468a6dc80"
          }
        },
        "c3abbdd41aea498e9cd5c2e3e9592cef": {
          "model_module": "@jupyter-widgets/controls",
          "model_name": "ProgressStyleModel",
          "state": {
            "_view_name": "StyleView",
            "_model_name": "ProgressStyleModel",
            "description_width": "initial",
            "_view_module": "@jupyter-widgets/base",
            "_model_module_version": "1.5.0",
            "_view_count": null,
            "_view_module_version": "1.2.0",
            "bar_color": null,
            "_model_module": "@jupyter-widgets/controls"
          }
        },
        "4d6edb42e3674294bdcbdf3fd29dd34e": {
          "model_module": "@jupyter-widgets/base",
          "model_name": "LayoutModel",
          "state": {
            "_view_name": "LayoutView",
            "grid_template_rows": null,
            "right": null,
            "justify_content": null,
            "_view_module": "@jupyter-widgets/base",
            "overflow": null,
            "_model_module_version": "1.2.0",
            "_view_count": null,
            "flex_flow": null,
            "width": null,
            "min_width": null,
            "border": null,
            "align_items": null,
            "bottom": null,
            "_model_module": "@jupyter-widgets/base",
            "top": null,
            "grid_column": null,
            "overflow_y": null,
            "overflow_x": null,
            "grid_auto_flow": null,
            "grid_area": null,
            "grid_template_columns": null,
            "flex": null,
            "_model_name": "LayoutModel",
            "justify_items": null,
            "grid_row": null,
            "max_height": null,
            "align_content": null,
            "visibility": null,
            "align_self": null,
            "height": null,
            "min_height": null,
            "padding": null,
            "grid_auto_rows": null,
            "grid_gap": null,
            "max_width": null,
            "order": null,
            "_view_module_version": "1.2.0",
            "grid_template_areas": null,
            "object_position": null,
            "object_fit": null,
            "grid_auto_columns": null,
            "margin": null,
            "display": null,
            "left": null
          }
        },
        "c260108de733447893da3728f451b8ca": {
          "model_module": "@jupyter-widgets/controls",
          "model_name": "DescriptionStyleModel",
          "state": {
            "_view_name": "StyleView",
            "_model_name": "DescriptionStyleModel",
            "description_width": "",
            "_view_module": "@jupyter-widgets/base",
            "_model_module_version": "1.5.0",
            "_view_count": null,
            "_view_module_version": "1.2.0",
            "_model_module": "@jupyter-widgets/controls"
          }
        },
        "459e390a499a4d13922d96b468a6dc80": {
          "model_module": "@jupyter-widgets/base",
          "model_name": "LayoutModel",
          "state": {
            "_view_name": "LayoutView",
            "grid_template_rows": null,
            "right": null,
            "justify_content": null,
            "_view_module": "@jupyter-widgets/base",
            "overflow": null,
            "_model_module_version": "1.2.0",
            "_view_count": null,
            "flex_flow": null,
            "width": null,
            "min_width": null,
            "border": null,
            "align_items": null,
            "bottom": null,
            "_model_module": "@jupyter-widgets/base",
            "top": null,
            "grid_column": null,
            "overflow_y": null,
            "overflow_x": null,
            "grid_auto_flow": null,
            "grid_area": null,
            "grid_template_columns": null,
            "flex": null,
            "_model_name": "LayoutModel",
            "justify_items": null,
            "grid_row": null,
            "max_height": null,
            "align_content": null,
            "visibility": null,
            "align_self": null,
            "height": null,
            "min_height": null,
            "padding": null,
            "grid_auto_rows": null,
            "grid_gap": null,
            "max_width": null,
            "order": null,
            "_view_module_version": "1.2.0",
            "grid_template_areas": null,
            "object_position": null,
            "object_fit": null,
            "grid_auto_columns": null,
            "margin": null,
            "display": null,
            "left": null
          }
        },
        "25603fddc1304ea8b081bf22ed2b98ec": {
          "model_module": "@jupyter-widgets/controls",
          "model_name": "HBoxModel",
          "state": {
            "_view_name": "HBoxView",
            "_dom_classes": [],
            "_model_name": "HBoxModel",
            "_view_module": "@jupyter-widgets/controls",
            "_model_module_version": "1.5.0",
            "_view_count": null,
            "_view_module_version": "1.5.0",
            "box_style": "",
            "layout": "IPY_MODEL_fc5774adf299437390bda0fcbba0ddcd",
            "_model_module": "@jupyter-widgets/controls",
            "children": [
              "IPY_MODEL_952ce2ab58684153817c49703a07c8c9",
              "IPY_MODEL_55e7225eada6417da105017fb7c94c35"
            ]
          }
        },
        "fc5774adf299437390bda0fcbba0ddcd": {
          "model_module": "@jupyter-widgets/base",
          "model_name": "LayoutModel",
          "state": {
            "_view_name": "LayoutView",
            "grid_template_rows": null,
            "right": null,
            "justify_content": null,
            "_view_module": "@jupyter-widgets/base",
            "overflow": null,
            "_model_module_version": "1.2.0",
            "_view_count": null,
            "flex_flow": null,
            "width": null,
            "min_width": null,
            "border": null,
            "align_items": null,
            "bottom": null,
            "_model_module": "@jupyter-widgets/base",
            "top": null,
            "grid_column": null,
            "overflow_y": null,
            "overflow_x": null,
            "grid_auto_flow": null,
            "grid_area": null,
            "grid_template_columns": null,
            "flex": null,
            "_model_name": "LayoutModel",
            "justify_items": null,
            "grid_row": null,
            "max_height": null,
            "align_content": null,
            "visibility": null,
            "align_self": null,
            "height": null,
            "min_height": null,
            "padding": null,
            "grid_auto_rows": null,
            "grid_gap": null,
            "max_width": null,
            "order": null,
            "_view_module_version": "1.2.0",
            "grid_template_areas": null,
            "object_position": null,
            "object_fit": null,
            "grid_auto_columns": null,
            "margin": null,
            "display": null,
            "left": null
          }
        },
        "952ce2ab58684153817c49703a07c8c9": {
          "model_module": "@jupyter-widgets/controls",
          "model_name": "FloatProgressModel",
          "state": {
            "_view_name": "ProgressView",
            "style": "IPY_MODEL_223b23bdd2c445d8b07792ecf7fb99c6",
            "_dom_classes": [],
            "description": "Downloading: ",
            "_model_name": "FloatProgressModel",
            "bar_style": "success",
            "max": 1,
            "_view_module": "@jupyter-widgets/controls",
            "_model_module_version": "1.5.0",
            "value": 1,
            "_view_count": null,
            "_view_module_version": "1.5.0",
            "orientation": "horizontal",
            "min": 0,
            "description_tooltip": null,
            "_model_module": "@jupyter-widgets/controls",
            "layout": "IPY_MODEL_df5d88f19ef646b4a2f3efad3e8a7cbe"
          }
        },
        "55e7225eada6417da105017fb7c94c35": {
          "model_module": "@jupyter-widgets/controls",
          "model_name": "HTMLModel",
          "state": {
            "_view_name": "HTMLView",
            "style": "IPY_MODEL_9da33df9b96e491884fbd5fce83dfe61",
            "_dom_classes": [],
            "description": "",
            "_model_name": "HTMLModel",
            "placeholder": "​",
            "_view_module": "@jupyter-widgets/controls",
            "_model_module_version": "1.5.0",
            "value": " 376M/? [00:13&lt;00:00, 27.4MB/s]",
            "_view_count": null,
            "_view_module_version": "1.5.0",
            "description_tooltip": null,
            "_model_module": "@jupyter-widgets/controls",
            "layout": "IPY_MODEL_a7fc656e04e84f85bca100576aae7536"
          }
        },
        "223b23bdd2c445d8b07792ecf7fb99c6": {
          "model_module": "@jupyter-widgets/controls",
          "model_name": "ProgressStyleModel",
          "state": {
            "_view_name": "StyleView",
            "_model_name": "ProgressStyleModel",
            "description_width": "initial",
            "_view_module": "@jupyter-widgets/base",
            "_model_module_version": "1.5.0",
            "_view_count": null,
            "_view_module_version": "1.2.0",
            "bar_color": null,
            "_model_module": "@jupyter-widgets/controls"
          }
        },
        "df5d88f19ef646b4a2f3efad3e8a7cbe": {
          "model_module": "@jupyter-widgets/base",
          "model_name": "LayoutModel",
          "state": {
            "_view_name": "LayoutView",
            "grid_template_rows": null,
            "right": null,
            "justify_content": null,
            "_view_module": "@jupyter-widgets/base",
            "overflow": null,
            "_model_module_version": "1.2.0",
            "_view_count": null,
            "flex_flow": null,
            "width": null,
            "min_width": null,
            "border": null,
            "align_items": null,
            "bottom": null,
            "_model_module": "@jupyter-widgets/base",
            "top": null,
            "grid_column": null,
            "overflow_y": null,
            "overflow_x": null,
            "grid_auto_flow": null,
            "grid_area": null,
            "grid_template_columns": null,
            "flex": null,
            "_model_name": "LayoutModel",
            "justify_items": null,
            "grid_row": null,
            "max_height": null,
            "align_content": null,
            "visibility": null,
            "align_self": null,
            "height": null,
            "min_height": null,
            "padding": null,
            "grid_auto_rows": null,
            "grid_gap": null,
            "max_width": null,
            "order": null,
            "_view_module_version": "1.2.0",
            "grid_template_areas": null,
            "object_position": null,
            "object_fit": null,
            "grid_auto_columns": null,
            "margin": null,
            "display": null,
            "left": null
          }
        },
        "9da33df9b96e491884fbd5fce83dfe61": {
          "model_module": "@jupyter-widgets/controls",
          "model_name": "DescriptionStyleModel",
          "state": {
            "_view_name": "StyleView",
            "_model_name": "DescriptionStyleModel",
            "description_width": "",
            "_view_module": "@jupyter-widgets/base",
            "_model_module_version": "1.5.0",
            "_view_count": null,
            "_view_module_version": "1.2.0",
            "_model_module": "@jupyter-widgets/controls"
          }
        },
        "a7fc656e04e84f85bca100576aae7536": {
          "model_module": "@jupyter-widgets/base",
          "model_name": "LayoutModel",
          "state": {
            "_view_name": "LayoutView",
            "grid_template_rows": null,
            "right": null,
            "justify_content": null,
            "_view_module": "@jupyter-widgets/base",
            "overflow": null,
            "_model_module_version": "1.2.0",
            "_view_count": null,
            "flex_flow": null,
            "width": null,
            "min_width": null,
            "border": null,
            "align_items": null,
            "bottom": null,
            "_model_module": "@jupyter-widgets/base",
            "top": null,
            "grid_column": null,
            "overflow_y": null,
            "overflow_x": null,
            "grid_auto_flow": null,
            "grid_area": null,
            "grid_template_columns": null,
            "flex": null,
            "_model_name": "LayoutModel",
            "justify_items": null,
            "grid_row": null,
            "max_height": null,
            "align_content": null,
            "visibility": null,
            "align_self": null,
            "height": null,
            "min_height": null,
            "padding": null,
            "grid_auto_rows": null,
            "grid_gap": null,
            "max_width": null,
            "order": null,
            "_view_module_version": "1.2.0",
            "grid_template_areas": null,
            "object_position": null,
            "object_fit": null,
            "grid_auto_columns": null,
            "margin": null,
            "display": null,
            "left": null
          }
        },
        "b94dbe5b3945472e8cb801d1dfe2c09c": {
          "model_module": "@jupyter-widgets/controls",
          "model_name": "HBoxModel",
          "state": {
            "_view_name": "HBoxView",
            "_dom_classes": [],
            "_model_name": "HBoxModel",
            "_view_module": "@jupyter-widgets/controls",
            "_model_module_version": "1.5.0",
            "_view_count": null,
            "_view_module_version": "1.5.0",
            "box_style": "",
            "layout": "IPY_MODEL_1a12216f693d45f09291515b277a6364",
            "_model_module": "@jupyter-widgets/controls",
            "children": [
              "IPY_MODEL_8c7c7cab4895414f936ebfcaa5618a9b",
              "IPY_MODEL_8b7b23e758a84e69b9fa968b2edafb63"
            ]
          }
        },
        "1a12216f693d45f09291515b277a6364": {
          "model_module": "@jupyter-widgets/base",
          "model_name": "LayoutModel",
          "state": {
            "_view_name": "LayoutView",
            "grid_template_rows": null,
            "right": null,
            "justify_content": null,
            "_view_module": "@jupyter-widgets/base",
            "overflow": null,
            "_model_module_version": "1.2.0",
            "_view_count": null,
            "flex_flow": null,
            "width": null,
            "min_width": null,
            "border": null,
            "align_items": null,
            "bottom": null,
            "_model_module": "@jupyter-widgets/base",
            "top": null,
            "grid_column": null,
            "overflow_y": null,
            "overflow_x": null,
            "grid_auto_flow": null,
            "grid_area": null,
            "grid_template_columns": null,
            "flex": null,
            "_model_name": "LayoutModel",
            "justify_items": null,
            "grid_row": null,
            "max_height": null,
            "align_content": null,
            "visibility": null,
            "align_self": null,
            "height": null,
            "min_height": null,
            "padding": null,
            "grid_auto_rows": null,
            "grid_gap": null,
            "max_width": null,
            "order": null,
            "_view_module_version": "1.2.0",
            "grid_template_areas": null,
            "object_position": null,
            "object_fit": null,
            "grid_auto_columns": null,
            "margin": null,
            "display": null,
            "left": null
          }
        },
        "8c7c7cab4895414f936ebfcaa5618a9b": {
          "model_module": "@jupyter-widgets/controls",
          "model_name": "FloatProgressModel",
          "state": {
            "_view_name": "ProgressView",
            "style": "IPY_MODEL_55159aa7fbb846189462dd9055c1570e",
            "_dom_classes": [],
            "description": "Downloading: ",
            "_model_name": "FloatProgressModel",
            "bar_style": "success",
            "max": 572061,
            "_view_module": "@jupyter-widgets/controls",
            "_model_module_version": "1.5.0",
            "value": 572061,
            "_view_count": null,
            "_view_module_version": "1.5.0",
            "orientation": "horizontal",
            "min": 0,
            "description_tooltip": null,
            "_model_module": "@jupyter-widgets/controls",
            "layout": "IPY_MODEL_8aeb5c4c359547fdb75dc28c04525b07"
          }
        },
        "8b7b23e758a84e69b9fa968b2edafb63": {
          "model_module": "@jupyter-widgets/controls",
          "model_name": "HTMLModel",
          "state": {
            "_view_name": "HTMLView",
            "style": "IPY_MODEL_2e3afb54645b4d7286b700fa2a1fcb03",
            "_dom_classes": [],
            "description": "",
            "_model_name": "HTMLModel",
            "placeholder": "​",
            "_view_module": "@jupyter-widgets/controls",
            "_model_module_version": "1.5.0",
            "value": " 2.11M/? [00:07&lt;00:00, 276kB/s]",
            "_view_count": null,
            "_view_module_version": "1.5.0",
            "description_tooltip": null,
            "_model_module": "@jupyter-widgets/controls",
            "layout": "IPY_MODEL_c0de385bed1248c79b8885ce7c51fa44"
          }
        },
        "55159aa7fbb846189462dd9055c1570e": {
          "model_module": "@jupyter-widgets/controls",
          "model_name": "ProgressStyleModel",
          "state": {
            "_view_name": "StyleView",
            "_model_name": "ProgressStyleModel",
            "description_width": "initial",
            "_view_module": "@jupyter-widgets/base",
            "_model_module_version": "1.5.0",
            "_view_count": null,
            "_view_module_version": "1.2.0",
            "bar_color": null,
            "_model_module": "@jupyter-widgets/controls"
          }
        },
        "8aeb5c4c359547fdb75dc28c04525b07": {
          "model_module": "@jupyter-widgets/base",
          "model_name": "LayoutModel",
          "state": {
            "_view_name": "LayoutView",
            "grid_template_rows": null,
            "right": null,
            "justify_content": null,
            "_view_module": "@jupyter-widgets/base",
            "overflow": null,
            "_model_module_version": "1.2.0",
            "_view_count": null,
            "flex_flow": null,
            "width": null,
            "min_width": null,
            "border": null,
            "align_items": null,
            "bottom": null,
            "_model_module": "@jupyter-widgets/base",
            "top": null,
            "grid_column": null,
            "overflow_y": null,
            "overflow_x": null,
            "grid_auto_flow": null,
            "grid_area": null,
            "grid_template_columns": null,
            "flex": null,
            "_model_name": "LayoutModel",
            "justify_items": null,
            "grid_row": null,
            "max_height": null,
            "align_content": null,
            "visibility": null,
            "align_self": null,
            "height": null,
            "min_height": null,
            "padding": null,
            "grid_auto_rows": null,
            "grid_gap": null,
            "max_width": null,
            "order": null,
            "_view_module_version": "1.2.0",
            "grid_template_areas": null,
            "object_position": null,
            "object_fit": null,
            "grid_auto_columns": null,
            "margin": null,
            "display": null,
            "left": null
          }
        },
        "2e3afb54645b4d7286b700fa2a1fcb03": {
          "model_module": "@jupyter-widgets/controls",
          "model_name": "DescriptionStyleModel",
          "state": {
            "_view_name": "StyleView",
            "_model_name": "DescriptionStyleModel",
            "description_width": "",
            "_view_module": "@jupyter-widgets/base",
            "_model_module_version": "1.5.0",
            "_view_count": null,
            "_view_module_version": "1.2.0",
            "_model_module": "@jupyter-widgets/controls"
          }
        },
        "c0de385bed1248c79b8885ce7c51fa44": {
          "model_module": "@jupyter-widgets/base",
          "model_name": "LayoutModel",
          "state": {
            "_view_name": "LayoutView",
            "grid_template_rows": null,
            "right": null,
            "justify_content": null,
            "_view_module": "@jupyter-widgets/base",
            "overflow": null,
            "_model_module_version": "1.2.0",
            "_view_count": null,
            "flex_flow": null,
            "width": null,
            "min_width": null,
            "border": null,
            "align_items": null,
            "bottom": null,
            "_model_module": "@jupyter-widgets/base",
            "top": null,
            "grid_column": null,
            "overflow_y": null,
            "overflow_x": null,
            "grid_auto_flow": null,
            "grid_area": null,
            "grid_template_columns": null,
            "flex": null,
            "_model_name": "LayoutModel",
            "justify_items": null,
            "grid_row": null,
            "max_height": null,
            "align_content": null,
            "visibility": null,
            "align_self": null,
            "height": null,
            "min_height": null,
            "padding": null,
            "grid_auto_rows": null,
            "grid_gap": null,
            "max_width": null,
            "order": null,
            "_view_module_version": "1.2.0",
            "grid_template_areas": null,
            "object_position": null,
            "object_fit": null,
            "grid_auto_columns": null,
            "margin": null,
            "display": null,
            "left": null
          }
        },
        "60a2be7aa8924f259703663cbc35d303": {
          "model_module": "@jupyter-widgets/controls",
          "model_name": "HBoxModel",
          "state": {
            "_view_name": "HBoxView",
            "_dom_classes": [],
            "_model_name": "HBoxModel",
            "_view_module": "@jupyter-widgets/controls",
            "_model_module_version": "1.5.0",
            "_view_count": null,
            "_view_module_version": "1.5.0",
            "box_style": "",
            "layout": "IPY_MODEL_e67fad29bc804b109ff335f54bf68186",
            "_model_module": "@jupyter-widgets/controls",
            "children": [
              "IPY_MODEL_077516711e1048c89d24d8fa4292ff6a",
              "IPY_MODEL_5b5d9e842e7942da9cc4950c38b8f882"
            ]
          }
        },
        "e67fad29bc804b109ff335f54bf68186": {
          "model_module": "@jupyter-widgets/base",
          "model_name": "LayoutModel",
          "state": {
            "_view_name": "LayoutView",
            "grid_template_rows": null,
            "right": null,
            "justify_content": null,
            "_view_module": "@jupyter-widgets/base",
            "overflow": null,
            "_model_module_version": "1.2.0",
            "_view_count": null,
            "flex_flow": null,
            "width": null,
            "min_width": null,
            "border": null,
            "align_items": null,
            "bottom": null,
            "_model_module": "@jupyter-widgets/base",
            "top": null,
            "grid_column": null,
            "overflow_y": null,
            "overflow_x": null,
            "grid_auto_flow": null,
            "grid_area": null,
            "grid_template_columns": null,
            "flex": null,
            "_model_name": "LayoutModel",
            "justify_items": null,
            "grid_row": null,
            "max_height": null,
            "align_content": null,
            "visibility": null,
            "align_self": null,
            "height": null,
            "min_height": null,
            "padding": null,
            "grid_auto_rows": null,
            "grid_gap": null,
            "max_width": null,
            "order": null,
            "_view_module_version": "1.2.0",
            "grid_template_areas": null,
            "object_position": null,
            "object_fit": null,
            "grid_auto_columns": null,
            "margin": null,
            "display": null,
            "left": null
          }
        },
        "077516711e1048c89d24d8fa4292ff6a": {
          "model_module": "@jupyter-widgets/controls",
          "model_name": "FloatProgressModel",
          "state": {
            "_view_name": "ProgressView",
            "style": "IPY_MODEL_c7832761c1cb4201a1d7e79c99222c36",
            "_dom_classes": [],
            "description": "Downloading: ",
            "_model_name": "FloatProgressModel",
            "bar_style": "success",
            "max": 12259516,
            "_view_module": "@jupyter-widgets/controls",
            "_model_module_version": "1.5.0",
            "value": 12259516,
            "_view_count": null,
            "_view_module_version": "1.5.0",
            "orientation": "horizontal",
            "min": 0,
            "description_tooltip": null,
            "_model_module": "@jupyter-widgets/controls",
            "layout": "IPY_MODEL_697471ed0f5a4142bb328025f50c49d3"
          }
        },
        "5b5d9e842e7942da9cc4950c38b8f882": {
          "model_module": "@jupyter-widgets/controls",
          "model_name": "HTMLModel",
          "state": {
            "_view_name": "HTMLView",
            "style": "IPY_MODEL_13697b36de3d419ebd5eb2f86c26c1a2",
            "_dom_classes": [],
            "description": "",
            "_model_name": "HTMLModel",
            "placeholder": "​",
            "_view_module": "@jupyter-widgets/controls",
            "_model_module_version": "1.5.0",
            "value": " 46.4M/? [00:02&lt;00:00, 21.1MB/s]",
            "_view_count": null,
            "_view_module_version": "1.5.0",
            "description_tooltip": null,
            "_model_module": "@jupyter-widgets/controls",
            "layout": "IPY_MODEL_184dcbf5586d42b8b711d6e131a0f533"
          }
        },
        "c7832761c1cb4201a1d7e79c99222c36": {
          "model_module": "@jupyter-widgets/controls",
          "model_name": "ProgressStyleModel",
          "state": {
            "_view_name": "StyleView",
            "_model_name": "ProgressStyleModel",
            "description_width": "initial",
            "_view_module": "@jupyter-widgets/base",
            "_model_module_version": "1.5.0",
            "_view_count": null,
            "_view_module_version": "1.2.0",
            "bar_color": null,
            "_model_module": "@jupyter-widgets/controls"
          }
        },
        "697471ed0f5a4142bb328025f50c49d3": {
          "model_module": "@jupyter-widgets/base",
          "model_name": "LayoutModel",
          "state": {
            "_view_name": "LayoutView",
            "grid_template_rows": null,
            "right": null,
            "justify_content": null,
            "_view_module": "@jupyter-widgets/base",
            "overflow": null,
            "_model_module_version": "1.2.0",
            "_view_count": null,
            "flex_flow": null,
            "width": null,
            "min_width": null,
            "border": null,
            "align_items": null,
            "bottom": null,
            "_model_module": "@jupyter-widgets/base",
            "top": null,
            "grid_column": null,
            "overflow_y": null,
            "overflow_x": null,
            "grid_auto_flow": null,
            "grid_area": null,
            "grid_template_columns": null,
            "flex": null,
            "_model_name": "LayoutModel",
            "justify_items": null,
            "grid_row": null,
            "max_height": null,
            "align_content": null,
            "visibility": null,
            "align_self": null,
            "height": null,
            "min_height": null,
            "padding": null,
            "grid_auto_rows": null,
            "grid_gap": null,
            "max_width": null,
            "order": null,
            "_view_module_version": "1.2.0",
            "grid_template_areas": null,
            "object_position": null,
            "object_fit": null,
            "grid_auto_columns": null,
            "margin": null,
            "display": null,
            "left": null
          }
        },
        "13697b36de3d419ebd5eb2f86c26c1a2": {
          "model_module": "@jupyter-widgets/controls",
          "model_name": "DescriptionStyleModel",
          "state": {
            "_view_name": "StyleView",
            "_model_name": "DescriptionStyleModel",
            "description_width": "",
            "_view_module": "@jupyter-widgets/base",
            "_model_module_version": "1.5.0",
            "_view_count": null,
            "_view_module_version": "1.2.0",
            "_model_module": "@jupyter-widgets/controls"
          }
        },
        "184dcbf5586d42b8b711d6e131a0f533": {
          "model_module": "@jupyter-widgets/base",
          "model_name": "LayoutModel",
          "state": {
            "_view_name": "LayoutView",
            "grid_template_rows": null,
            "right": null,
            "justify_content": null,
            "_view_module": "@jupyter-widgets/base",
            "overflow": null,
            "_model_module_version": "1.2.0",
            "_view_count": null,
            "flex_flow": null,
            "width": null,
            "min_width": null,
            "border": null,
            "align_items": null,
            "bottom": null,
            "_model_module": "@jupyter-widgets/base",
            "top": null,
            "grid_column": null,
            "overflow_y": null,
            "overflow_x": null,
            "grid_auto_flow": null,
            "grid_area": null,
            "grid_template_columns": null,
            "flex": null,
            "_model_name": "LayoutModel",
            "justify_items": null,
            "grid_row": null,
            "max_height": null,
            "align_content": null,
            "visibility": null,
            "align_self": null,
            "height": null,
            "min_height": null,
            "padding": null,
            "grid_auto_rows": null,
            "grid_gap": null,
            "max_width": null,
            "order": null,
            "_view_module_version": "1.2.0",
            "grid_template_areas": null,
            "object_position": null,
            "object_fit": null,
            "grid_auto_columns": null,
            "margin": null,
            "display": null,
            "left": null
          }
        },
        "314186f629fb4b8880c0a1ab572885f8": {
          "model_module": "@jupyter-widgets/controls",
          "model_name": "HBoxModel",
          "state": {
            "_view_name": "HBoxView",
            "_dom_classes": [],
            "_model_name": "HBoxModel",
            "_view_module": "@jupyter-widgets/controls",
            "_model_module_version": "1.5.0",
            "_view_count": null,
            "_view_module_version": "1.5.0",
            "box_style": "",
            "layout": "IPY_MODEL_05bd978b66974d4dbab64a119bb2685f",
            "_model_module": "@jupyter-widgets/controls",
            "children": [
              "IPY_MODEL_7c88235c03f5461aac9d5d20e3bc87d1",
              "IPY_MODEL_280ebaf7bf494572bcf78902e3effbdf"
            ]
          }
        },
        "05bd978b66974d4dbab64a119bb2685f": {
          "model_module": "@jupyter-widgets/base",
          "model_name": "LayoutModel",
          "state": {
            "_view_name": "LayoutView",
            "grid_template_rows": null,
            "right": null,
            "justify_content": null,
            "_view_module": "@jupyter-widgets/base",
            "overflow": null,
            "_model_module_version": "1.2.0",
            "_view_count": null,
            "flex_flow": null,
            "width": null,
            "min_width": null,
            "border": null,
            "align_items": null,
            "bottom": null,
            "_model_module": "@jupyter-widgets/base",
            "top": null,
            "grid_column": null,
            "overflow_y": null,
            "overflow_x": null,
            "grid_auto_flow": null,
            "grid_area": null,
            "grid_template_columns": null,
            "flex": null,
            "_model_name": "LayoutModel",
            "justify_items": null,
            "grid_row": null,
            "max_height": null,
            "align_content": null,
            "visibility": null,
            "align_self": null,
            "height": null,
            "min_height": null,
            "padding": null,
            "grid_auto_rows": null,
            "grid_gap": null,
            "max_width": null,
            "order": null,
            "_view_module_version": "1.2.0",
            "grid_template_areas": null,
            "object_position": null,
            "object_fit": null,
            "grid_auto_columns": null,
            "margin": null,
            "display": null,
            "left": null
          }
        },
        "7c88235c03f5461aac9d5d20e3bc87d1": {
          "model_module": "@jupyter-widgets/controls",
          "model_name": "FloatProgressModel",
          "state": {
            "_view_name": "ProgressView",
            "style": "IPY_MODEL_53fdc5c86c9a4f28a7a4233c42fa0ed5",
            "_dom_classes": [],
            "description": "Downloading: ",
            "_model_name": "FloatProgressModel",
            "bar_style": "success",
            "max": 660943,
            "_view_module": "@jupyter-widgets/controls",
            "_model_module_version": "1.5.0",
            "value": 660943,
            "_view_count": null,
            "_view_module_version": "1.5.0",
            "orientation": "horizontal",
            "min": 0,
            "description_tooltip": null,
            "_model_module": "@jupyter-widgets/controls",
            "layout": "IPY_MODEL_a3b3386987314b4992b9e07a9a7cb0f1"
          }
        },
        "280ebaf7bf494572bcf78902e3effbdf": {
          "model_module": "@jupyter-widgets/controls",
          "model_name": "HTMLModel",
          "state": {
            "_view_name": "HTMLView",
            "style": "IPY_MODEL_d6e7bbbeba8d4a048dda832088be1290",
            "_dom_classes": [],
            "description": "",
            "_model_name": "HTMLModel",
            "placeholder": "​",
            "_view_module": "@jupyter-widgets/controls",
            "_model_module_version": "1.5.0",
            "value": " 2.43M/? [00:21&lt;00:00, 112kB/s]",
            "_view_count": null,
            "_view_module_version": "1.5.0",
            "description_tooltip": null,
            "_model_module": "@jupyter-widgets/controls",
            "layout": "IPY_MODEL_e54f0d2cb01d46b7b4b6cd8fc6498449"
          }
        },
        "53fdc5c86c9a4f28a7a4233c42fa0ed5": {
          "model_module": "@jupyter-widgets/controls",
          "model_name": "ProgressStyleModel",
          "state": {
            "_view_name": "StyleView",
            "_model_name": "ProgressStyleModel",
            "description_width": "initial",
            "_view_module": "@jupyter-widgets/base",
            "_model_module_version": "1.5.0",
            "_view_count": null,
            "_view_module_version": "1.2.0",
            "bar_color": null,
            "_model_module": "@jupyter-widgets/controls"
          }
        },
        "a3b3386987314b4992b9e07a9a7cb0f1": {
          "model_module": "@jupyter-widgets/base",
          "model_name": "LayoutModel",
          "state": {
            "_view_name": "LayoutView",
            "grid_template_rows": null,
            "right": null,
            "justify_content": null,
            "_view_module": "@jupyter-widgets/base",
            "overflow": null,
            "_model_module_version": "1.2.0",
            "_view_count": null,
            "flex_flow": null,
            "width": null,
            "min_width": null,
            "border": null,
            "align_items": null,
            "bottom": null,
            "_model_module": "@jupyter-widgets/base",
            "top": null,
            "grid_column": null,
            "overflow_y": null,
            "overflow_x": null,
            "grid_auto_flow": null,
            "grid_area": null,
            "grid_template_columns": null,
            "flex": null,
            "_model_name": "LayoutModel",
            "justify_items": null,
            "grid_row": null,
            "max_height": null,
            "align_content": null,
            "visibility": null,
            "align_self": null,
            "height": null,
            "min_height": null,
            "padding": null,
            "grid_auto_rows": null,
            "grid_gap": null,
            "max_width": null,
            "order": null,
            "_view_module_version": "1.2.0",
            "grid_template_areas": null,
            "object_position": null,
            "object_fit": null,
            "grid_auto_columns": null,
            "margin": null,
            "display": null,
            "left": null
          }
        },
        "d6e7bbbeba8d4a048dda832088be1290": {
          "model_module": "@jupyter-widgets/controls",
          "model_name": "DescriptionStyleModel",
          "state": {
            "_view_name": "StyleView",
            "_model_name": "DescriptionStyleModel",
            "description_width": "",
            "_view_module": "@jupyter-widgets/base",
            "_model_module_version": "1.5.0",
            "_view_count": null,
            "_view_module_version": "1.2.0",
            "_model_module": "@jupyter-widgets/controls"
          }
        },
        "e54f0d2cb01d46b7b4b6cd8fc6498449": {
          "model_module": "@jupyter-widgets/base",
          "model_name": "LayoutModel",
          "state": {
            "_view_name": "LayoutView",
            "grid_template_rows": null,
            "right": null,
            "justify_content": null,
            "_view_module": "@jupyter-widgets/base",
            "overflow": null,
            "_model_module_version": "1.2.0",
            "_view_count": null,
            "flex_flow": null,
            "width": null,
            "min_width": null,
            "border": null,
            "align_items": null,
            "bottom": null,
            "_model_module": "@jupyter-widgets/base",
            "top": null,
            "grid_column": null,
            "overflow_y": null,
            "overflow_x": null,
            "grid_auto_flow": null,
            "grid_area": null,
            "grid_template_columns": null,
            "flex": null,
            "_model_name": "LayoutModel",
            "justify_items": null,
            "grid_row": null,
            "max_height": null,
            "align_content": null,
            "visibility": null,
            "align_self": null,
            "height": null,
            "min_height": null,
            "padding": null,
            "grid_auto_rows": null,
            "grid_gap": null,
            "max_width": null,
            "order": null,
            "_view_module_version": "1.2.0",
            "grid_template_areas": null,
            "object_position": null,
            "object_fit": null,
            "grid_auto_columns": null,
            "margin": null,
            "display": null,
            "left": null
          }
        },
        "9abb0d77471b45ee8feae3017bc3543b": {
          "model_module": "@jupyter-widgets/controls",
          "model_name": "HBoxModel",
          "state": {
            "_view_name": "HBoxView",
            "_dom_classes": [],
            "_model_name": "HBoxModel",
            "_view_module": "@jupyter-widgets/controls",
            "_model_module_version": "1.5.0",
            "_view_count": null,
            "_view_module_version": "1.5.0",
            "box_style": "",
            "layout": "IPY_MODEL_cca70230e6be4cecabdc196fb5a22bb8",
            "_model_module": "@jupyter-widgets/controls",
            "children": [
              "IPY_MODEL_8c73aab1bf074d40a1fd805c41709580",
              "IPY_MODEL_923131e58dc5423d9b5d6ae9ee106573"
            ]
          }
        },
        "cca70230e6be4cecabdc196fb5a22bb8": {
          "model_module": "@jupyter-widgets/base",
          "model_name": "LayoutModel",
          "state": {
            "_view_name": "LayoutView",
            "grid_template_rows": null,
            "right": null,
            "justify_content": null,
            "_view_module": "@jupyter-widgets/base",
            "overflow": null,
            "_model_module_version": "1.2.0",
            "_view_count": null,
            "flex_flow": null,
            "width": null,
            "min_width": null,
            "border": null,
            "align_items": null,
            "bottom": null,
            "_model_module": "@jupyter-widgets/base",
            "top": null,
            "grid_column": null,
            "overflow_y": null,
            "overflow_x": null,
            "grid_auto_flow": null,
            "grid_area": null,
            "grid_template_columns": null,
            "flex": null,
            "_model_name": "LayoutModel",
            "justify_items": null,
            "grid_row": null,
            "max_height": null,
            "align_content": null,
            "visibility": null,
            "align_self": null,
            "height": null,
            "min_height": null,
            "padding": null,
            "grid_auto_rows": null,
            "grid_gap": null,
            "max_width": null,
            "order": null,
            "_view_module_version": "1.2.0",
            "grid_template_areas": null,
            "object_position": null,
            "object_fit": null,
            "grid_auto_columns": null,
            "margin": null,
            "display": null,
            "left": null
          }
        },
        "8c73aab1bf074d40a1fd805c41709580": {
          "model_module": "@jupyter-widgets/controls",
          "model_name": "FloatProgressModel",
          "state": {
            "_view_name": "ProgressView",
            "style": "IPY_MODEL_b9c9e8eaf0be47449546a3da51e79eed",
            "_dom_classes": [],
            "description": "",
            "_model_name": "FloatProgressModel",
            "bar_style": "info",
            "max": 1,
            "_view_module": "@jupyter-widgets/controls",
            "_model_module_version": "1.5.0",
            "value": 1,
            "_view_count": null,
            "_view_module_version": "1.5.0",
            "orientation": "horizontal",
            "min": 0,
            "description_tooltip": null,
            "_model_module": "@jupyter-widgets/controls",
            "layout": "IPY_MODEL_f4a209d2ea7340e4a2cc5a5ad7bfa915"
          }
        },
        "923131e58dc5423d9b5d6ae9ee106573": {
          "model_module": "@jupyter-widgets/controls",
          "model_name": "HTMLModel",
          "state": {
            "_view_name": "HTMLView",
            "style": "IPY_MODEL_da89fc66431d4f0383a9e5ccdcbcdb86",
            "_dom_classes": [],
            "description": "",
            "_model_name": "HTMLModel",
            "placeholder": "​",
            "_view_module": "@jupyter-widgets/controls",
            "_model_module_version": "1.5.0",
            "value": " 287113/0 [00:42&lt;00:00, 7211.09 examples/s]",
            "_view_count": null,
            "_view_module_version": "1.5.0",
            "description_tooltip": null,
            "_model_module": "@jupyter-widgets/controls",
            "layout": "IPY_MODEL_02b6f530b4f8419aaf4bb460dd357ac3"
          }
        },
        "b9c9e8eaf0be47449546a3da51e79eed": {
          "model_module": "@jupyter-widgets/controls",
          "model_name": "ProgressStyleModel",
          "state": {
            "_view_name": "StyleView",
            "_model_name": "ProgressStyleModel",
            "description_width": "initial",
            "_view_module": "@jupyter-widgets/base",
            "_model_module_version": "1.5.0",
            "_view_count": null,
            "_view_module_version": "1.2.0",
            "bar_color": null,
            "_model_module": "@jupyter-widgets/controls"
          }
        },
        "f4a209d2ea7340e4a2cc5a5ad7bfa915": {
          "model_module": "@jupyter-widgets/base",
          "model_name": "LayoutModel",
          "state": {
            "_view_name": "LayoutView",
            "grid_template_rows": null,
            "right": null,
            "justify_content": null,
            "_view_module": "@jupyter-widgets/base",
            "overflow": null,
            "_model_module_version": "1.2.0",
            "_view_count": null,
            "flex_flow": null,
            "width": null,
            "min_width": null,
            "border": null,
            "align_items": null,
            "bottom": null,
            "_model_module": "@jupyter-widgets/base",
            "top": null,
            "grid_column": null,
            "overflow_y": null,
            "overflow_x": null,
            "grid_auto_flow": null,
            "grid_area": null,
            "grid_template_columns": null,
            "flex": null,
            "_model_name": "LayoutModel",
            "justify_items": null,
            "grid_row": null,
            "max_height": null,
            "align_content": null,
            "visibility": null,
            "align_self": null,
            "height": null,
            "min_height": null,
            "padding": null,
            "grid_auto_rows": null,
            "grid_gap": null,
            "max_width": null,
            "order": null,
            "_view_module_version": "1.2.0",
            "grid_template_areas": null,
            "object_position": null,
            "object_fit": null,
            "grid_auto_columns": null,
            "margin": null,
            "display": null,
            "left": null
          }
        },
        "da89fc66431d4f0383a9e5ccdcbcdb86": {
          "model_module": "@jupyter-widgets/controls",
          "model_name": "DescriptionStyleModel",
          "state": {
            "_view_name": "StyleView",
            "_model_name": "DescriptionStyleModel",
            "description_width": "",
            "_view_module": "@jupyter-widgets/base",
            "_model_module_version": "1.5.0",
            "_view_count": null,
            "_view_module_version": "1.2.0",
            "_model_module": "@jupyter-widgets/controls"
          }
        },
        "02b6f530b4f8419aaf4bb460dd357ac3": {
          "model_module": "@jupyter-widgets/base",
          "model_name": "LayoutModel",
          "state": {
            "_view_name": "LayoutView",
            "grid_template_rows": null,
            "right": null,
            "justify_content": null,
            "_view_module": "@jupyter-widgets/base",
            "overflow": null,
            "_model_module_version": "1.2.0",
            "_view_count": null,
            "flex_flow": null,
            "width": null,
            "min_width": null,
            "border": null,
            "align_items": null,
            "bottom": null,
            "_model_module": "@jupyter-widgets/base",
            "top": null,
            "grid_column": null,
            "overflow_y": null,
            "overflow_x": null,
            "grid_auto_flow": null,
            "grid_area": null,
            "grid_template_columns": null,
            "flex": null,
            "_model_name": "LayoutModel",
            "justify_items": null,
            "grid_row": null,
            "max_height": null,
            "align_content": null,
            "visibility": null,
            "align_self": null,
            "height": null,
            "min_height": null,
            "padding": null,
            "grid_auto_rows": null,
            "grid_gap": null,
            "max_width": null,
            "order": null,
            "_view_module_version": "1.2.0",
            "grid_template_areas": null,
            "object_position": null,
            "object_fit": null,
            "grid_auto_columns": null,
            "margin": null,
            "display": null,
            "left": null
          }
        },
        "244e9398c7e64729a536ab4ff0345fff": {
          "model_module": "@jupyter-widgets/controls",
          "model_name": "HBoxModel",
          "state": {
            "_view_name": "HBoxView",
            "_dom_classes": [],
            "_model_name": "HBoxModel",
            "_view_module": "@jupyter-widgets/controls",
            "_model_module_version": "1.5.0",
            "_view_count": null,
            "_view_module_version": "1.5.0",
            "box_style": "",
            "layout": "IPY_MODEL_fbb3a5058b7b4a43b60e088d42348f5a",
            "_model_module": "@jupyter-widgets/controls",
            "children": [
              "IPY_MODEL_b377a6563a894758b7736aa5c09d6750",
              "IPY_MODEL_8ab6430f12d3456dbc5b47da12dea722"
            ]
          }
        },
        "fbb3a5058b7b4a43b60e088d42348f5a": {
          "model_module": "@jupyter-widgets/base",
          "model_name": "LayoutModel",
          "state": {
            "_view_name": "LayoutView",
            "grid_template_rows": null,
            "right": null,
            "justify_content": null,
            "_view_module": "@jupyter-widgets/base",
            "overflow": null,
            "_model_module_version": "1.2.0",
            "_view_count": null,
            "flex_flow": null,
            "width": null,
            "min_width": null,
            "border": null,
            "align_items": null,
            "bottom": null,
            "_model_module": "@jupyter-widgets/base",
            "top": null,
            "grid_column": null,
            "overflow_y": null,
            "overflow_x": null,
            "grid_auto_flow": null,
            "grid_area": null,
            "grid_template_columns": null,
            "flex": null,
            "_model_name": "LayoutModel",
            "justify_items": null,
            "grid_row": null,
            "max_height": null,
            "align_content": null,
            "visibility": null,
            "align_self": null,
            "height": null,
            "min_height": null,
            "padding": null,
            "grid_auto_rows": null,
            "grid_gap": null,
            "max_width": null,
            "order": null,
            "_view_module_version": "1.2.0",
            "grid_template_areas": null,
            "object_position": null,
            "object_fit": null,
            "grid_auto_columns": null,
            "margin": null,
            "display": null,
            "left": null
          }
        },
        "b377a6563a894758b7736aa5c09d6750": {
          "model_module": "@jupyter-widgets/controls",
          "model_name": "FloatProgressModel",
          "state": {
            "_view_name": "ProgressView",
            "style": "IPY_MODEL_5266a6a866734a1fa1c16bb36e075c1b",
            "_dom_classes": [],
            "description": "",
            "_model_name": "FloatProgressModel",
            "bar_style": "info",
            "max": 1,
            "_view_module": "@jupyter-widgets/controls",
            "_model_module_version": "1.5.0",
            "value": 1,
            "_view_count": null,
            "_view_module_version": "1.5.0",
            "orientation": "horizontal",
            "min": 0,
            "description_tooltip": null,
            "_model_module": "@jupyter-widgets/controls",
            "layout": "IPY_MODEL_7b82bbf40f0a453bac3c45258cb453da"
          }
        },
        "8ab6430f12d3456dbc5b47da12dea722": {
          "model_module": "@jupyter-widgets/controls",
          "model_name": "HTMLModel",
          "state": {
            "_view_name": "HTMLView",
            "style": "IPY_MODEL_fb4d0a38b7ad493ca2529bdedd2cc752",
            "_dom_classes": [],
            "description": "",
            "_model_name": "HTMLModel",
            "placeholder": "​",
            "_view_module": "@jupyter-widgets/controls",
            "_model_module_version": "1.5.0",
            "value": " 13368/0 [00:01&lt;00:00, 6237.67 examples/s]",
            "_view_count": null,
            "_view_module_version": "1.5.0",
            "description_tooltip": null,
            "_model_module": "@jupyter-widgets/controls",
            "layout": "IPY_MODEL_f2fdef5d77234fd29963c2940be5ab53"
          }
        },
        "5266a6a866734a1fa1c16bb36e075c1b": {
          "model_module": "@jupyter-widgets/controls",
          "model_name": "ProgressStyleModel",
          "state": {
            "_view_name": "StyleView",
            "_model_name": "ProgressStyleModel",
            "description_width": "initial",
            "_view_module": "@jupyter-widgets/base",
            "_model_module_version": "1.5.0",
            "_view_count": null,
            "_view_module_version": "1.2.0",
            "bar_color": null,
            "_model_module": "@jupyter-widgets/controls"
          }
        },
        "7b82bbf40f0a453bac3c45258cb453da": {
          "model_module": "@jupyter-widgets/base",
          "model_name": "LayoutModel",
          "state": {
            "_view_name": "LayoutView",
            "grid_template_rows": null,
            "right": null,
            "justify_content": null,
            "_view_module": "@jupyter-widgets/base",
            "overflow": null,
            "_model_module_version": "1.2.0",
            "_view_count": null,
            "flex_flow": null,
            "width": null,
            "min_width": null,
            "border": null,
            "align_items": null,
            "bottom": null,
            "_model_module": "@jupyter-widgets/base",
            "top": null,
            "grid_column": null,
            "overflow_y": null,
            "overflow_x": null,
            "grid_auto_flow": null,
            "grid_area": null,
            "grid_template_columns": null,
            "flex": null,
            "_model_name": "LayoutModel",
            "justify_items": null,
            "grid_row": null,
            "max_height": null,
            "align_content": null,
            "visibility": null,
            "align_self": null,
            "height": null,
            "min_height": null,
            "padding": null,
            "grid_auto_rows": null,
            "grid_gap": null,
            "max_width": null,
            "order": null,
            "_view_module_version": "1.2.0",
            "grid_template_areas": null,
            "object_position": null,
            "object_fit": null,
            "grid_auto_columns": null,
            "margin": null,
            "display": null,
            "left": null
          }
        },
        "fb4d0a38b7ad493ca2529bdedd2cc752": {
          "model_module": "@jupyter-widgets/controls",
          "model_name": "DescriptionStyleModel",
          "state": {
            "_view_name": "StyleView",
            "_model_name": "DescriptionStyleModel",
            "description_width": "",
            "_view_module": "@jupyter-widgets/base",
            "_model_module_version": "1.5.0",
            "_view_count": null,
            "_view_module_version": "1.2.0",
            "_model_module": "@jupyter-widgets/controls"
          }
        },
        "f2fdef5d77234fd29963c2940be5ab53": {
          "model_module": "@jupyter-widgets/base",
          "model_name": "LayoutModel",
          "state": {
            "_view_name": "LayoutView",
            "grid_template_rows": null,
            "right": null,
            "justify_content": null,
            "_view_module": "@jupyter-widgets/base",
            "overflow": null,
            "_model_module_version": "1.2.0",
            "_view_count": null,
            "flex_flow": null,
            "width": null,
            "min_width": null,
            "border": null,
            "align_items": null,
            "bottom": null,
            "_model_module": "@jupyter-widgets/base",
            "top": null,
            "grid_column": null,
            "overflow_y": null,
            "overflow_x": null,
            "grid_auto_flow": null,
            "grid_area": null,
            "grid_template_columns": null,
            "flex": null,
            "_model_name": "LayoutModel",
            "justify_items": null,
            "grid_row": null,
            "max_height": null,
            "align_content": null,
            "visibility": null,
            "align_self": null,
            "height": null,
            "min_height": null,
            "padding": null,
            "grid_auto_rows": null,
            "grid_gap": null,
            "max_width": null,
            "order": null,
            "_view_module_version": "1.2.0",
            "grid_template_areas": null,
            "object_position": null,
            "object_fit": null,
            "grid_auto_columns": null,
            "margin": null,
            "display": null,
            "left": null
          }
        },
        "752896915ded47bcb37b53c125ef9d62": {
          "model_module": "@jupyter-widgets/controls",
          "model_name": "HBoxModel",
          "state": {
            "_view_name": "HBoxView",
            "_dom_classes": [],
            "_model_name": "HBoxModel",
            "_view_module": "@jupyter-widgets/controls",
            "_model_module_version": "1.5.0",
            "_view_count": null,
            "_view_module_version": "1.5.0",
            "box_style": "",
            "layout": "IPY_MODEL_2244df3f7ec7425995d74a066781a7bb",
            "_model_module": "@jupyter-widgets/controls",
            "children": [
              "IPY_MODEL_eb1163bed3a341849ad896fc2287146f",
              "IPY_MODEL_7696fe7e344a477391d1fd1727ba5fdb"
            ]
          }
        },
        "2244df3f7ec7425995d74a066781a7bb": {
          "model_module": "@jupyter-widgets/base",
          "model_name": "LayoutModel",
          "state": {
            "_view_name": "LayoutView",
            "grid_template_rows": null,
            "right": null,
            "justify_content": null,
            "_view_module": "@jupyter-widgets/base",
            "overflow": null,
            "_model_module_version": "1.2.0",
            "_view_count": null,
            "flex_flow": null,
            "width": null,
            "min_width": null,
            "border": null,
            "align_items": null,
            "bottom": null,
            "_model_module": "@jupyter-widgets/base",
            "top": null,
            "grid_column": null,
            "overflow_y": null,
            "overflow_x": null,
            "grid_auto_flow": null,
            "grid_area": null,
            "grid_template_columns": null,
            "flex": null,
            "_model_name": "LayoutModel",
            "justify_items": null,
            "grid_row": null,
            "max_height": null,
            "align_content": null,
            "visibility": null,
            "align_self": null,
            "height": null,
            "min_height": null,
            "padding": null,
            "grid_auto_rows": null,
            "grid_gap": null,
            "max_width": null,
            "order": null,
            "_view_module_version": "1.2.0",
            "grid_template_areas": null,
            "object_position": null,
            "object_fit": null,
            "grid_auto_columns": null,
            "margin": null,
            "display": null,
            "left": null
          }
        },
        "eb1163bed3a341849ad896fc2287146f": {
          "model_module": "@jupyter-widgets/controls",
          "model_name": "FloatProgressModel",
          "state": {
            "_view_name": "ProgressView",
            "style": "IPY_MODEL_460738c4dd644ecfa422eb3d0a127856",
            "_dom_classes": [],
            "description": "",
            "_model_name": "FloatProgressModel",
            "bar_style": "info",
            "max": 1,
            "_view_module": "@jupyter-widgets/controls",
            "_model_module_version": "1.5.0",
            "value": 1,
            "_view_count": null,
            "_view_module_version": "1.5.0",
            "orientation": "horizontal",
            "min": 0,
            "description_tooltip": null,
            "_model_module": "@jupyter-widgets/controls",
            "layout": "IPY_MODEL_86d395a4697a4f73a1b92679ec246456"
          }
        },
        "7696fe7e344a477391d1fd1727ba5fdb": {
          "model_module": "@jupyter-widgets/controls",
          "model_name": "HTMLModel",
          "state": {
            "_view_name": "HTMLView",
            "style": "IPY_MODEL_ed16dfc45a64425f83bd0f06cf8d3adc",
            "_dom_classes": [],
            "description": "",
            "_model_name": "HTMLModel",
            "placeholder": "​",
            "_view_module": "@jupyter-widgets/controls",
            "_model_module_version": "1.5.0",
            "value": " 11490/0 [00:01&lt;00:00, 5676.30 examples/s]",
            "_view_count": null,
            "_view_module_version": "1.5.0",
            "description_tooltip": null,
            "_model_module": "@jupyter-widgets/controls",
            "layout": "IPY_MODEL_925004588d014458824290eff004ff89"
          }
        },
        "460738c4dd644ecfa422eb3d0a127856": {
          "model_module": "@jupyter-widgets/controls",
          "model_name": "ProgressStyleModel",
          "state": {
            "_view_name": "StyleView",
            "_model_name": "ProgressStyleModel",
            "description_width": "initial",
            "_view_module": "@jupyter-widgets/base",
            "_model_module_version": "1.5.0",
            "_view_count": null,
            "_view_module_version": "1.2.0",
            "bar_color": null,
            "_model_module": "@jupyter-widgets/controls"
          }
        },
        "86d395a4697a4f73a1b92679ec246456": {
          "model_module": "@jupyter-widgets/base",
          "model_name": "LayoutModel",
          "state": {
            "_view_name": "LayoutView",
            "grid_template_rows": null,
            "right": null,
            "justify_content": null,
            "_view_module": "@jupyter-widgets/base",
            "overflow": null,
            "_model_module_version": "1.2.0",
            "_view_count": null,
            "flex_flow": null,
            "width": null,
            "min_width": null,
            "border": null,
            "align_items": null,
            "bottom": null,
            "_model_module": "@jupyter-widgets/base",
            "top": null,
            "grid_column": null,
            "overflow_y": null,
            "overflow_x": null,
            "grid_auto_flow": null,
            "grid_area": null,
            "grid_template_columns": null,
            "flex": null,
            "_model_name": "LayoutModel",
            "justify_items": null,
            "grid_row": null,
            "max_height": null,
            "align_content": null,
            "visibility": null,
            "align_self": null,
            "height": null,
            "min_height": null,
            "padding": null,
            "grid_auto_rows": null,
            "grid_gap": null,
            "max_width": null,
            "order": null,
            "_view_module_version": "1.2.0",
            "grid_template_areas": null,
            "object_position": null,
            "object_fit": null,
            "grid_auto_columns": null,
            "margin": null,
            "display": null,
            "left": null
          }
        },
        "ed16dfc45a64425f83bd0f06cf8d3adc": {
          "model_module": "@jupyter-widgets/controls",
          "model_name": "DescriptionStyleModel",
          "state": {
            "_view_name": "StyleView",
            "_model_name": "DescriptionStyleModel",
            "description_width": "",
            "_view_module": "@jupyter-widgets/base",
            "_model_module_version": "1.5.0",
            "_view_count": null,
            "_view_module_version": "1.2.0",
            "_model_module": "@jupyter-widgets/controls"
          }
        },
        "925004588d014458824290eff004ff89": {
          "model_module": "@jupyter-widgets/base",
          "model_name": "LayoutModel",
          "state": {
            "_view_name": "LayoutView",
            "grid_template_rows": null,
            "right": null,
            "justify_content": null,
            "_view_module": "@jupyter-widgets/base",
            "overflow": null,
            "_model_module_version": "1.2.0",
            "_view_count": null,
            "flex_flow": null,
            "width": null,
            "min_width": null,
            "border": null,
            "align_items": null,
            "bottom": null,
            "_model_module": "@jupyter-widgets/base",
            "top": null,
            "grid_column": null,
            "overflow_y": null,
            "overflow_x": null,
            "grid_auto_flow": null,
            "grid_area": null,
            "grid_template_columns": null,
            "flex": null,
            "_model_name": "LayoutModel",
            "justify_items": null,
            "grid_row": null,
            "max_height": null,
            "align_content": null,
            "visibility": null,
            "align_self": null,
            "height": null,
            "min_height": null,
            "padding": null,
            "grid_auto_rows": null,
            "grid_gap": null,
            "max_width": null,
            "order": null,
            "_view_module_version": "1.2.0",
            "grid_template_areas": null,
            "object_position": null,
            "object_fit": null,
            "grid_auto_columns": null,
            "margin": null,
            "display": null,
            "left": null
          }
        }
      }
    }
  },
  "cells": [
    {
      "cell_type": "code",
      "metadata": {
        "id": "2c-D6QjxHACO",
        "colab": {
          "base_uri": "https://localhost:8080/"
        },
        "outputId": "dfaf02ad-6f92-49ab-a531-548b1540d56d"
      },
      "source": [
        "!pip install spacy==2.3.2\n",
        "# print(torch.cuda.is_available())"
      ],
      "execution_count": 1,
      "outputs": [
        {
          "output_type": "stream",
          "text": [
            "Collecting spacy==2.3.2\n",
            "\u001b[?25l  Downloading https://files.pythonhosted.org/packages/10/b5/c7a92c7ce5d4b353b70b4b5b4385687206c8b230ddfe08746ab0fd310a3a/spacy-2.3.2-cp36-cp36m-manylinux1_x86_64.whl (9.9MB)\n",
            "\u001b[K     |████████████████████████████████| 10.0MB 4.0MB/s \n",
            "\u001b[?25hRequirement already satisfied: cymem<2.1.0,>=2.0.2 in /usr/local/lib/python3.6/dist-packages (from spacy==2.3.2) (2.0.4)\n",
            "Requirement already satisfied: srsly<1.1.0,>=1.0.2 in /usr/local/lib/python3.6/dist-packages (from spacy==2.3.2) (1.0.2)\n",
            "Requirement already satisfied: requests<3.0.0,>=2.13.0 in /usr/local/lib/python3.6/dist-packages (from spacy==2.3.2) (2.23.0)\n",
            "Requirement already satisfied: blis<0.5.0,>=0.4.0 in /usr/local/lib/python3.6/dist-packages (from spacy==2.3.2) (0.4.1)\n",
            "Requirement already satisfied: catalogue<1.1.0,>=0.0.7 in /usr/local/lib/python3.6/dist-packages (from spacy==2.3.2) (1.0.0)\n",
            "Requirement already satisfied: setuptools in /usr/local/lib/python3.6/dist-packages (from spacy==2.3.2) (50.3.2)\n",
            "Collecting thinc==7.4.1\n",
            "\u001b[?25l  Downloading https://files.pythonhosted.org/packages/10/ae/ef3ae5e93639c0ef8e3eb32e3c18341e511b3c515fcfc603f4b808087651/thinc-7.4.1-cp36-cp36m-manylinux1_x86_64.whl (2.1MB)\n",
            "\u001b[K     |████████████████████████████████| 2.1MB 55.3MB/s \n",
            "\u001b[?25hRequirement already satisfied: plac<1.2.0,>=0.9.6 in /usr/local/lib/python3.6/dist-packages (from spacy==2.3.2) (1.1.3)\n",
            "Requirement already satisfied: tqdm<5.0.0,>=4.38.0 in /usr/local/lib/python3.6/dist-packages (from spacy==2.3.2) (4.41.1)\n",
            "Requirement already satisfied: preshed<3.1.0,>=3.0.2 in /usr/local/lib/python3.6/dist-packages (from spacy==2.3.2) (3.0.2)\n",
            "Requirement already satisfied: murmurhash<1.1.0,>=0.28.0 in /usr/local/lib/python3.6/dist-packages (from spacy==2.3.2) (1.0.3)\n",
            "Requirement already satisfied: numpy>=1.15.0 in /usr/local/lib/python3.6/dist-packages (from spacy==2.3.2) (1.18.5)\n",
            "Requirement already satisfied: wasabi<1.1.0,>=0.4.0 in /usr/local/lib/python3.6/dist-packages (from spacy==2.3.2) (0.8.0)\n",
            "Requirement already satisfied: chardet<4,>=3.0.2 in /usr/local/lib/python3.6/dist-packages (from requests<3.0.0,>=2.13.0->spacy==2.3.2) (3.0.4)\n",
            "Requirement already satisfied: certifi>=2017.4.17 in /usr/local/lib/python3.6/dist-packages (from requests<3.0.0,>=2.13.0->spacy==2.3.2) (2020.6.20)\n",
            "Requirement already satisfied: idna<3,>=2.5 in /usr/local/lib/python3.6/dist-packages (from requests<3.0.0,>=2.13.0->spacy==2.3.2) (2.10)\n",
            "Requirement already satisfied: urllib3!=1.25.0,!=1.25.1,<1.26,>=1.21.1 in /usr/local/lib/python3.6/dist-packages (from requests<3.0.0,>=2.13.0->spacy==2.3.2) (1.24.3)\n",
            "Requirement already satisfied: importlib-metadata>=0.20; python_version < \"3.8\" in /usr/local/lib/python3.6/dist-packages (from catalogue<1.1.0,>=0.0.7->spacy==2.3.2) (2.0.0)\n",
            "Requirement already satisfied: zipp>=0.5 in /usr/local/lib/python3.6/dist-packages (from importlib-metadata>=0.20; python_version < \"3.8\"->catalogue<1.1.0,>=0.0.7->spacy==2.3.2) (3.4.0)\n",
            "Installing collected packages: thinc, spacy\n",
            "  Found existing installation: thinc 7.4.0\n",
            "    Uninstalling thinc-7.4.0:\n",
            "      Successfully uninstalled thinc-7.4.0\n",
            "  Found existing installation: spacy 2.2.4\n",
            "    Uninstalling spacy-2.2.4:\n",
            "      Successfully uninstalled spacy-2.2.4\n",
            "Successfully installed spacy-2.3.2 thinc-7.4.1\n"
          ],
          "name": "stdout"
        }
      ]
    },
    {
      "cell_type": "code",
      "metadata": {
        "id": "H1Ht02vn2gVg",
        "colab": {
          "base_uri": "https://localhost:8080/"
        },
        "outputId": "67f19e8d-2aaf-4898-a6e5-f566f2df7da9"
      },
      "source": [
        "import torch\n",
        "import torch.nn as nn\n",
        "import torch.optim as optim\n",
        "import torch.nn.functional as F\n",
        "\n",
        "from torchtext import data\n",
        "from torchtext.data import Field\n",
        "from torchtext.data import BucketIterator\n",
        "\n",
        "\n",
        "import spacy\n",
        "import numpy as np\n",
        "import os\n",
        "import random\n",
        "import pandas as pd\n",
        "import time\n",
        "import math\n",
        "\n",
        "from sklearn.model_selection import train_test_split\n",
        "\n",
        "device = torch.device('cuda' if torch.cuda.is_available() else 'cpu')\n",
        "print(device)"
      ],
      "execution_count": 2,
      "outputs": [
        {
          "output_type": "stream",
          "text": [
            "cuda\n"
          ],
          "name": "stdout"
        }
      ]
    },
    {
      "cell_type": "code",
      "metadata": {
        "id": "0mSOdYEWKBJx",
        "colab": {
          "base_uri": "https://localhost:8080/"
        },
        "outputId": "b0c622f2-7e64-42d5-eb2c-1e6bee207cf7"
      },
      "source": [
        "\n",
        "device = torch.device('cuda' if torch.cuda.is_available() else 'cpu')\n",
        "print(device)"
      ],
      "execution_count": 3,
      "outputs": [
        {
          "output_type": "stream",
          "text": [
            "cuda\n"
          ],
          "name": "stdout"
        }
      ]
    },
    {
      "cell_type": "code",
      "metadata": {
        "id": "qO6r2PRK1dXc"
      },
      "source": [
        "# !pip freeze > requirements.txt\n",
        "# !cat requirements.txt | grep spacy\n",
        "# !cat requirements.txt | grep torch\n",
        "# !cat requirements.txt | grep torchtext\n",
        "# !cat requirements.txt | grep torchvision"
      ],
      "execution_count": 4,
      "outputs": []
    },
    {
      "cell_type": "code",
      "metadata": {
        "id": "1ra0TQgRHwvX",
        "colab": {
          "base_uri": "https://localhost:8080/"
        },
        "outputId": "87d5ea7a-72c8-4082-e225-0ce4a98b94e5"
      },
      "source": [
        "!pip install datasets"
      ],
      "execution_count": 5,
      "outputs": [
        {
          "output_type": "stream",
          "text": [
            "Collecting datasets\n",
            "\u001b[?25l  Downloading https://files.pythonhosted.org/packages/f0/f4/2a3d6aee93ae7fce6c936dda2d7f534ad5f044a21238f85e28f0b205adf0/datasets-1.1.2-py3-none-any.whl (147kB)\n",
            "\r\u001b[K     |██▎                             | 10kB 24.9MB/s eta 0:00:01\r\u001b[K     |████▌                           | 20kB 9.8MB/s eta 0:00:01\r\u001b[K     |██████▊                         | 30kB 7.8MB/s eta 0:00:01\r\u001b[K     |█████████                       | 40kB 7.1MB/s eta 0:00:01\r\u001b[K     |███████████▏                    | 51kB 4.4MB/s eta 0:00:01\r\u001b[K     |█████████████▍                  | 61kB 4.9MB/s eta 0:00:01\r\u001b[K     |███████████████▋                | 71kB 4.9MB/s eta 0:00:01\r\u001b[K     |█████████████████▉              | 81kB 5.3MB/s eta 0:00:01\r\u001b[K     |████████████████████            | 92kB 5.7MB/s eta 0:00:01\r\u001b[K     |██████████████████████▎         | 102kB 5.7MB/s eta 0:00:01\r\u001b[K     |████████████████████████▌       | 112kB 5.7MB/s eta 0:00:01\r\u001b[K     |██████████████████████████▊     | 122kB 5.7MB/s eta 0:00:01\r\u001b[K     |█████████████████████████████   | 133kB 5.7MB/s eta 0:00:01\r\u001b[K     |███████████████████████████████▏| 143kB 5.7MB/s eta 0:00:01\r\u001b[K     |████████████████████████████████| 153kB 5.7MB/s \n",
            "\u001b[?25hRequirement already satisfied: tqdm<4.50.0,>=4.27 in /usr/local/lib/python3.6/dist-packages (from datasets) (4.41.1)\n",
            "Requirement already satisfied: dill in /usr/local/lib/python3.6/dist-packages (from datasets) (0.3.3)\n",
            "Requirement already satisfied: filelock in /usr/local/lib/python3.6/dist-packages (from datasets) (3.0.12)\n",
            "Requirement already satisfied: dataclasses; python_version < \"3.7\" in /usr/local/lib/python3.6/dist-packages (from datasets) (0.7)\n",
            "Requirement already satisfied: multiprocess in /usr/local/lib/python3.6/dist-packages (from datasets) (0.70.10)\n",
            "Collecting xxhash\n",
            "\u001b[?25l  Downloading https://files.pythonhosted.org/packages/f7/73/826b19f3594756cb1c6c23d2fbd8ca6a77a9cd3b650c9dec5acc85004c38/xxhash-2.0.0-cp36-cp36m-manylinux2010_x86_64.whl (242kB)\n",
            "\u001b[K     |████████████████████████████████| 245kB 36.0MB/s \n",
            "\u001b[?25hRequirement already satisfied: requests>=2.19.0 in /usr/local/lib/python3.6/dist-packages (from datasets) (2.23.0)\n",
            "Requirement already satisfied: pandas in /usr/local/lib/python3.6/dist-packages (from datasets) (1.1.4)\n",
            "Collecting pyarrow>=0.17.1\n",
            "\u001b[?25l  Downloading https://files.pythonhosted.org/packages/d7/e1/27958a70848f8f7089bff8d6ebe42519daf01f976d28b481e1bfd52c8097/pyarrow-2.0.0-cp36-cp36m-manylinux2014_x86_64.whl (17.7MB)\n",
            "\u001b[K     |████████████████████████████████| 17.7MB 215kB/s \n",
            "\u001b[?25hRequirement already satisfied: numpy>=1.17 in /usr/local/lib/python3.6/dist-packages (from datasets) (1.18.5)\n",
            "Requirement already satisfied: urllib3!=1.25.0,!=1.25.1,<1.26,>=1.21.1 in /usr/local/lib/python3.6/dist-packages (from requests>=2.19.0->datasets) (1.24.3)\n",
            "Requirement already satisfied: chardet<4,>=3.0.2 in /usr/local/lib/python3.6/dist-packages (from requests>=2.19.0->datasets) (3.0.4)\n",
            "Requirement already satisfied: certifi>=2017.4.17 in /usr/local/lib/python3.6/dist-packages (from requests>=2.19.0->datasets) (2020.6.20)\n",
            "Requirement already satisfied: idna<3,>=2.5 in /usr/local/lib/python3.6/dist-packages (from requests>=2.19.0->datasets) (2.10)\n",
            "Requirement already satisfied: pytz>=2017.2 in /usr/local/lib/python3.6/dist-packages (from pandas->datasets) (2018.9)\n",
            "Requirement already satisfied: python-dateutil>=2.7.3 in /usr/local/lib/python3.6/dist-packages (from pandas->datasets) (2.8.1)\n",
            "Requirement already satisfied: six>=1.5 in /usr/local/lib/python3.6/dist-packages (from python-dateutil>=2.7.3->pandas->datasets) (1.15.0)\n",
            "Installing collected packages: xxhash, pyarrow, datasets\n",
            "  Found existing installation: pyarrow 0.14.1\n",
            "    Uninstalling pyarrow-0.14.1:\n",
            "      Successfully uninstalled pyarrow-0.14.1\n",
            "Successfully installed datasets-1.1.2 pyarrow-2.0.0 xxhash-2.0.0\n"
          ],
          "name": "stdout"
        }
      ]
    },
    {
      "cell_type": "code",
      "metadata": {
        "id": "G6IJHLTIHpNs",
        "colab": {
          "base_uri": "https://localhost:8080/",
          "height": 431,
          "referenced_widgets": [
            "6cedba0cf9bc41d79e5368b6ed76daf2",
            "4f0f07a2bb18434cb639006fcb65b527",
            "76e71bf89e404f5e9ea6b7279ddaa7bc",
            "e4c1138df86f4a52935959a58bc2bde5",
            "52ae03ec25fa4a06be065f6da0a179e1",
            "af3f6df636db4638abe3752ebf150ebb",
            "2405bf629c7f475bb9af2829ca25c858",
            "ceff22c9b3794ef5aeb79593f5c83768",
            "299cb0421d034b18b4858bc4fe68bfc7",
            "2eb6b7844c76469fa2fd12e9e168e04c",
            "14a542cf979e4c2195107bc053a1cf94",
            "404520b4b598445c86e382d67552fee2",
            "bb2548a953414442ad94e9d06eb26b30",
            "1c81716ae7fd468aa9fe5caf1bcd1b1b",
            "141f59fb61a748c79f7390db88386e24",
            "eafbea5aacf04468866a355b35b09adf",
            "6fad9f1a307147f8b866460561792b37",
            "5b90c8167d054451bff2128b6794ea25",
            "785e934be88f4a11824673aa1cb4b8ab",
            "c99dc0151956436b90d6001bb355eba7",
            "c3abbdd41aea498e9cd5c2e3e9592cef",
            "4d6edb42e3674294bdcbdf3fd29dd34e",
            "c260108de733447893da3728f451b8ca",
            "459e390a499a4d13922d96b468a6dc80",
            "25603fddc1304ea8b081bf22ed2b98ec",
            "fc5774adf299437390bda0fcbba0ddcd",
            "952ce2ab58684153817c49703a07c8c9",
            "55e7225eada6417da105017fb7c94c35",
            "223b23bdd2c445d8b07792ecf7fb99c6",
            "df5d88f19ef646b4a2f3efad3e8a7cbe",
            "9da33df9b96e491884fbd5fce83dfe61",
            "a7fc656e04e84f85bca100576aae7536",
            "b94dbe5b3945472e8cb801d1dfe2c09c",
            "1a12216f693d45f09291515b277a6364",
            "8c7c7cab4895414f936ebfcaa5618a9b",
            "8b7b23e758a84e69b9fa968b2edafb63",
            "55159aa7fbb846189462dd9055c1570e",
            "8aeb5c4c359547fdb75dc28c04525b07",
            "2e3afb54645b4d7286b700fa2a1fcb03",
            "c0de385bed1248c79b8885ce7c51fa44",
            "60a2be7aa8924f259703663cbc35d303",
            "e67fad29bc804b109ff335f54bf68186",
            "077516711e1048c89d24d8fa4292ff6a",
            "5b5d9e842e7942da9cc4950c38b8f882",
            "c7832761c1cb4201a1d7e79c99222c36",
            "697471ed0f5a4142bb328025f50c49d3",
            "13697b36de3d419ebd5eb2f86c26c1a2",
            "184dcbf5586d42b8b711d6e131a0f533",
            "314186f629fb4b8880c0a1ab572885f8",
            "05bd978b66974d4dbab64a119bb2685f",
            "7c88235c03f5461aac9d5d20e3bc87d1",
            "280ebaf7bf494572bcf78902e3effbdf",
            "53fdc5c86c9a4f28a7a4233c42fa0ed5",
            "a3b3386987314b4992b9e07a9a7cb0f1",
            "d6e7bbbeba8d4a048dda832088be1290",
            "e54f0d2cb01d46b7b4b6cd8fc6498449",
            "9abb0d77471b45ee8feae3017bc3543b",
            "cca70230e6be4cecabdc196fb5a22bb8",
            "8c73aab1bf074d40a1fd805c41709580",
            "923131e58dc5423d9b5d6ae9ee106573",
            "b9c9e8eaf0be47449546a3da51e79eed",
            "f4a209d2ea7340e4a2cc5a5ad7bfa915",
            "da89fc66431d4f0383a9e5ccdcbcdb86",
            "02b6f530b4f8419aaf4bb460dd357ac3",
            "244e9398c7e64729a536ab4ff0345fff",
            "fbb3a5058b7b4a43b60e088d42348f5a",
            "b377a6563a894758b7736aa5c09d6750",
            "8ab6430f12d3456dbc5b47da12dea722",
            "5266a6a866734a1fa1c16bb36e075c1b",
            "7b82bbf40f0a453bac3c45258cb453da",
            "fb4d0a38b7ad493ca2529bdedd2cc752",
            "f2fdef5d77234fd29963c2940be5ab53",
            "752896915ded47bcb37b53c125ef9d62",
            "2244df3f7ec7425995d74a066781a7bb",
            "eb1163bed3a341849ad896fc2287146f",
            "7696fe7e344a477391d1fd1727ba5fdb",
            "460738c4dd644ecfa422eb3d0a127856",
            "86d395a4697a4f73a1b92679ec246456",
            "ed16dfc45a64425f83bd0f06cf8d3adc",
            "925004588d014458824290eff004ff89"
          ]
        },
        "outputId": "63b25fba-a8ab-4a67-a231-6b02517e620e"
      },
      "source": [
        "from datasets import list_datasets, load_dataset, list_metrics, load_metric\n",
        "dataset = load_dataset(\"cnn_dailymail\", '3.0.0')\n",
        "train=dataset['train']\n",
        "test=dataset['test']\n",
        "validate=dataset['validation']\n",
        "\n",
        "print(len(test))"
      ],
      "execution_count": 6,
      "outputs": [
        {
          "output_type": "display_data",
          "data": {
            "application/vnd.jupyter.widget-view+json": {
              "model_id": "6cedba0cf9bc41d79e5368b6ed76daf2",
              "version_minor": 0,
              "version_major": 2
            },
            "text/plain": [
              "HBox(children=(FloatProgress(value=0.0, description='Downloading', max=3528.0, style=ProgressStyle(description…"
            ]
          },
          "metadata": {
            "tags": []
          }
        },
        {
          "output_type": "stream",
          "text": [
            "\n"
          ],
          "name": "stdout"
        },
        {
          "output_type": "display_data",
          "data": {
            "application/vnd.jupyter.widget-view+json": {
              "model_id": "299cb0421d034b18b4858bc4fe68bfc7",
              "version_minor": 0,
              "version_major": 2
            },
            "text/plain": [
              "HBox(children=(FloatProgress(value=0.0, description='Downloading', max=1610.0, style=ProgressStyle(description…"
            ]
          },
          "metadata": {
            "tags": []
          }
        },
        {
          "output_type": "stream",
          "text": [
            "\n",
            "Downloading and preparing dataset cnn_dailymail/3.0.0 (download: 558.32 MiB, generated: 1.28 GiB, post-processed: Unknown size, total: 1.82 GiB) to /root/.cache/huggingface/datasets/cnn_dailymail/3.0.0/3.0.0/0128610a44e10f25b4af6689441c72af86205282d26399642f7db38fa7535602...\n"
          ],
          "name": "stdout"
        },
        {
          "output_type": "display_data",
          "data": {
            "application/vnd.jupyter.widget-view+json": {
              "model_id": "6fad9f1a307147f8b866460561792b37",
              "version_minor": 0,
              "version_major": 2
            },
            "text/plain": [
              "HBox(children=(FloatProgress(value=1.0, bar_style='info', description='Downloading', max=1.0, style=ProgressSt…"
            ]
          },
          "metadata": {
            "tags": []
          }
        },
        {
          "output_type": "stream",
          "text": [
            "\n"
          ],
          "name": "stdout"
        },
        {
          "output_type": "display_data",
          "data": {
            "application/vnd.jupyter.widget-view+json": {
              "model_id": "25603fddc1304ea8b081bf22ed2b98ec",
              "version_minor": 0,
              "version_major": 2
            },
            "text/plain": [
              "HBox(children=(FloatProgress(value=1.0, bar_style='info', description='Downloading', max=1.0, style=ProgressSt…"
            ]
          },
          "metadata": {
            "tags": []
          }
        },
        {
          "output_type": "stream",
          "text": [
            "\n"
          ],
          "name": "stdout"
        },
        {
          "output_type": "display_data",
          "data": {
            "application/vnd.jupyter.widget-view+json": {
              "model_id": "b94dbe5b3945472e8cb801d1dfe2c09c",
              "version_minor": 0,
              "version_major": 2
            },
            "text/plain": [
              "HBox(children=(FloatProgress(value=0.0, description='Downloading', max=572061.0, style=ProgressStyle(descripti…"
            ]
          },
          "metadata": {
            "tags": []
          }
        },
        {
          "output_type": "stream",
          "text": [
            "\n"
          ],
          "name": "stdout"
        },
        {
          "output_type": "display_data",
          "data": {
            "application/vnd.jupyter.widget-view+json": {
              "model_id": "60a2be7aa8924f259703663cbc35d303",
              "version_minor": 0,
              "version_major": 2
            },
            "text/plain": [
              "HBox(children=(FloatProgress(value=0.0, description='Downloading', max=12259516.0, style=ProgressStyle(descrip…"
            ]
          },
          "metadata": {
            "tags": []
          }
        },
        {
          "output_type": "stream",
          "text": [
            "\n"
          ],
          "name": "stdout"
        },
        {
          "output_type": "display_data",
          "data": {
            "application/vnd.jupyter.widget-view+json": {
              "model_id": "314186f629fb4b8880c0a1ab572885f8",
              "version_minor": 0,
              "version_major": 2
            },
            "text/plain": [
              "HBox(children=(FloatProgress(value=0.0, description='Downloading', max=660943.0, style=ProgressStyle(descripti…"
            ]
          },
          "metadata": {
            "tags": []
          }
        },
        {
          "output_type": "stream",
          "text": [
            "\n"
          ],
          "name": "stdout"
        },
        {
          "output_type": "display_data",
          "data": {
            "application/vnd.jupyter.widget-view+json": {
              "model_id": "9abb0d77471b45ee8feae3017bc3543b",
              "version_minor": 0,
              "version_major": 2
            },
            "text/plain": [
              "HBox(children=(FloatProgress(value=1.0, bar_style='info', max=1.0), HTML(value='')))"
            ]
          },
          "metadata": {
            "tags": []
          }
        },
        {
          "output_type": "stream",
          "text": [
            "\r"
          ],
          "name": "stdout"
        },
        {
          "output_type": "display_data",
          "data": {
            "application/vnd.jupyter.widget-view+json": {
              "model_id": "244e9398c7e64729a536ab4ff0345fff",
              "version_minor": 0,
              "version_major": 2
            },
            "text/plain": [
              "HBox(children=(FloatProgress(value=1.0, bar_style='info', max=1.0), HTML(value='')))"
            ]
          },
          "metadata": {
            "tags": []
          }
        },
        {
          "output_type": "stream",
          "text": [
            "\r"
          ],
          "name": "stdout"
        },
        {
          "output_type": "display_data",
          "data": {
            "application/vnd.jupyter.widget-view+json": {
              "model_id": "752896915ded47bcb37b53c125ef9d62",
              "version_minor": 0,
              "version_major": 2
            },
            "text/plain": [
              "HBox(children=(FloatProgress(value=1.0, bar_style='info', max=1.0), HTML(value='')))"
            ]
          },
          "metadata": {
            "tags": []
          }
        },
        {
          "output_type": "stream",
          "text": [
            "\rDataset cnn_dailymail downloaded and prepared to /root/.cache/huggingface/datasets/cnn_dailymail/3.0.0/3.0.0/0128610a44e10f25b4af6689441c72af86205282d26399642f7db38fa7535602. Subsequent calls will reuse this data.\n",
            "11490\n"
          ],
          "name": "stdout"
        }
      ]
    },
    {
      "cell_type": "code",
      "metadata": {
        "id": "c2-nmyLEPR_k",
        "colab": {
          "base_uri": "https://localhost:8080/"
        },
        "outputId": "095b3057-137d-49a7-bf14-611304bad82a"
      },
      "source": [
        "type(train)"
      ],
      "execution_count": 7,
      "outputs": [
        {
          "output_type": "execute_result",
          "data": {
            "text/plain": [
              "datasets.arrow_dataset.Dataset"
            ]
          },
          "metadata": {
            "tags": []
          },
          "execution_count": 7
        }
      ]
    },
    {
      "cell_type": "code",
      "metadata": {
        "id": "bKcPcQPhHruL"
      },
      "source": [
        "SEED = 42\n",
        "\n",
        "random.seed(SEED)\n",
        "np.random.seed(SEED)\n",
        "torch.manual_seed(SEED)\n",
        "torch.cuda.manual_seed(SEED)\n",
        "torch.backends.cudnn.deterministic = True"
      ],
      "execution_count": 8,
      "outputs": []
    },
    {
      "cell_type": "code",
      "metadata": {
        "id": "j9oWJerSHt4I"
      },
      "source": [
        "stories_train = []\n",
        "summaries_train = []\n",
        "\n",
        "stories_test = []\n",
        "summaries_test = []\n",
        "\n",
        "stories_validate = []\n",
        "summaries_validate = []\n",
        "\n",
        "num = 100000000\n",
        "for i in range(len(train)):\n",
        "    story = train[i]['article']\n",
        "    summary = train[i]['highlights']\n",
        "    stories_train.append(story)\n",
        "    summaries_train.append(summary)\n",
        "    if i == num:\n",
        "       break\n",
        "for i in range(len(test)):\n",
        "    story = test[i]['article']\n",
        "    summary = test[i]['highlights']\n",
        "    stories_test.append(story)\n",
        "    summaries_test.append(summary)\n",
        "    if i == num:\n",
        "       break\n",
        "for i in range(len(validate)):\n",
        "    story = validate[i]['article']\n",
        "    summary = validate[i]['highlights']\n",
        "    stories_validate.append(story)\n",
        "    summaries_validate.append(summary)\n",
        "    if i == num:\n",
        "       break\n",
        "\n",
        "del train\n",
        "del test\n",
        "del validate\n",
        "del dataset"
      ],
      "execution_count": 9,
      "outputs": []
    },
    {
      "cell_type": "code",
      "metadata": {
        "id": "TwYYGAihH8Aq"
      },
      "source": [
        "DATA_TRAIN = {\"story\": [story for story in stories_train], \"summary\": [summary for summary in summaries_train]}\n",
        "DATA_TEST = {\"story\": [story for story in stories_test], \"summary\": [summary for summary in summaries_test]}\n",
        "DATA_VALIDATE = {\"story\": [story for story in stories_validate], \"summary\": [summary for summary in summaries_validate]}\n",
        "\n",
        "stories_train.clear()\n",
        "summaries_train.clear()\n",
        "stories_test.clear()\n",
        "summaries_test.clear()\n",
        "stories_validate.clear()\n",
        "summaries_validate.clear()\n"
      ],
      "execution_count": 10,
      "outputs": []
    },
    {
      "cell_type": "code",
      "metadata": {
        "id": "j5Z9foaVH8To"
      },
      "source": [
        "df_train = pd.DataFrame(DATA_TRAIN, columns=[\"story\", \"summary\"])\n",
        "df_test = pd.DataFrame(DATA_TEST, columns=[\"story\", \"summary\"])\n",
        "df_validate = pd.DataFrame(DATA_VALIDATE, columns=[\"story\", \"summary\"])\n",
        "\n",
        "DATA_TRAIN.clear()\n",
        "DATA_TEST.clear()\n",
        "DATA_VALIDATE.clear()\n",
        "\n",
        "df_train.to_csv(\"train_data.csv\")\n",
        "df_test.to_csv(\"test_data.csv\")\n",
        "df_validate.to_csv(\"validation_data.csv\")"
      ],
      "execution_count": 11,
      "outputs": []
    },
    {
      "cell_type": "code",
      "metadata": {
        "id": "DOzIT3W0H9tP"
      },
      "source": [
        "# df_train.to_json(\"train_data.json\", orient=\"records\", lines=True)\n",
        "# df_test.to_json(\"test_data.json\", orient=\"records\", lines=True)\n",
        "# df_validate.to_json(\"validation_data.json\", orient=\"records\", lines=True)\n",
        "\n",
        "# del df_train\n",
        "# del df_test\n",
        "# del df_validate"
      ],
      "execution_count": 12,
      "outputs": []
    },
    {
      "cell_type": "code",
      "metadata": {
        "id": "HlibIrbWH-xt",
        "colab": {
          "base_uri": "https://localhost:8080/"
        },
        "outputId": "a996f93a-7aab-4072-e928-f6783950ddc0"
      },
      "source": [
        "!python -m spacy download en\n",
        "spacy_en = spacy.load('en')\n",
        "MAX_LENGTH = 400\n",
        "\n",
        "def tokenize(text):\n",
        "    tokens = spacy_en.tokenizer(text)\n",
        "    length = len(tokens)\n",
        "    \n",
        "    cnt = 0\n",
        "    toRet = []\n",
        "    \n",
        "    for tok in tokens:\n",
        "        if cnt < length and cnt < MAX_LENGTH:\n",
        "            toRet.append(tok.text)\n",
        "            cnt += 1\n",
        "        \n",
        "        else:\n",
        "            break\n",
        "    \n",
        "    return toRet\n"
      ],
      "execution_count": 13,
      "outputs": [
        {
          "output_type": "stream",
          "text": [
            "Collecting en_core_web_sm==2.3.1\n",
            "\u001b[?25l  Downloading https://github.com/explosion/spacy-models/releases/download/en_core_web_sm-2.3.1/en_core_web_sm-2.3.1.tar.gz (12.0MB)\n",
            "\u001b[K     |████████████████████████████████| 12.1MB 1.1MB/s \n",
            "\u001b[?25hRequirement already satisfied: spacy<2.4.0,>=2.3.0 in /usr/local/lib/python3.6/dist-packages (from en_core_web_sm==2.3.1) (2.3.2)\n",
            "Requirement already satisfied: cymem<2.1.0,>=2.0.2 in /usr/local/lib/python3.6/dist-packages (from spacy<2.4.0,>=2.3.0->en_core_web_sm==2.3.1) (2.0.4)\n",
            "Requirement already satisfied: thinc==7.4.1 in /usr/local/lib/python3.6/dist-packages (from spacy<2.4.0,>=2.3.0->en_core_web_sm==2.3.1) (7.4.1)\n",
            "Requirement already satisfied: requests<3.0.0,>=2.13.0 in /usr/local/lib/python3.6/dist-packages (from spacy<2.4.0,>=2.3.0->en_core_web_sm==2.3.1) (2.23.0)\n",
            "Requirement already satisfied: numpy>=1.15.0 in /usr/local/lib/python3.6/dist-packages (from spacy<2.4.0,>=2.3.0->en_core_web_sm==2.3.1) (1.18.5)\n",
            "Requirement already satisfied: tqdm<5.0.0,>=4.38.0 in /usr/local/lib/python3.6/dist-packages (from spacy<2.4.0,>=2.3.0->en_core_web_sm==2.3.1) (4.41.1)\n",
            "Requirement already satisfied: wasabi<1.1.0,>=0.4.0 in /usr/local/lib/python3.6/dist-packages (from spacy<2.4.0,>=2.3.0->en_core_web_sm==2.3.1) (0.8.0)\n",
            "Requirement already satisfied: plac<1.2.0,>=0.9.6 in /usr/local/lib/python3.6/dist-packages (from spacy<2.4.0,>=2.3.0->en_core_web_sm==2.3.1) (1.1.3)\n",
            "Requirement already satisfied: srsly<1.1.0,>=1.0.2 in /usr/local/lib/python3.6/dist-packages (from spacy<2.4.0,>=2.3.0->en_core_web_sm==2.3.1) (1.0.2)\n",
            "Requirement already satisfied: catalogue<1.1.0,>=0.0.7 in /usr/local/lib/python3.6/dist-packages (from spacy<2.4.0,>=2.3.0->en_core_web_sm==2.3.1) (1.0.0)\n",
            "Requirement already satisfied: setuptools in /usr/local/lib/python3.6/dist-packages (from spacy<2.4.0,>=2.3.0->en_core_web_sm==2.3.1) (50.3.2)\n",
            "Requirement already satisfied: blis<0.5.0,>=0.4.0 in /usr/local/lib/python3.6/dist-packages (from spacy<2.4.0,>=2.3.0->en_core_web_sm==2.3.1) (0.4.1)\n",
            "Requirement already satisfied: preshed<3.1.0,>=3.0.2 in /usr/local/lib/python3.6/dist-packages (from spacy<2.4.0,>=2.3.0->en_core_web_sm==2.3.1) (3.0.2)\n",
            "Requirement already satisfied: murmurhash<1.1.0,>=0.28.0 in /usr/local/lib/python3.6/dist-packages (from spacy<2.4.0,>=2.3.0->en_core_web_sm==2.3.1) (1.0.3)\n",
            "Requirement already satisfied: urllib3!=1.25.0,!=1.25.1,<1.26,>=1.21.1 in /usr/local/lib/python3.6/dist-packages (from requests<3.0.0,>=2.13.0->spacy<2.4.0,>=2.3.0->en_core_web_sm==2.3.1) (1.24.3)\n",
            "Requirement already satisfied: certifi>=2017.4.17 in /usr/local/lib/python3.6/dist-packages (from requests<3.0.0,>=2.13.0->spacy<2.4.0,>=2.3.0->en_core_web_sm==2.3.1) (2020.6.20)\n",
            "Requirement already satisfied: idna<3,>=2.5 in /usr/local/lib/python3.6/dist-packages (from requests<3.0.0,>=2.13.0->spacy<2.4.0,>=2.3.0->en_core_web_sm==2.3.1) (2.10)\n",
            "Requirement already satisfied: chardet<4,>=3.0.2 in /usr/local/lib/python3.6/dist-packages (from requests<3.0.0,>=2.13.0->spacy<2.4.0,>=2.3.0->en_core_web_sm==2.3.1) (3.0.4)\n",
            "Requirement already satisfied: importlib-metadata>=0.20; python_version < \"3.8\" in /usr/local/lib/python3.6/dist-packages (from catalogue<1.1.0,>=0.0.7->spacy<2.4.0,>=2.3.0->en_core_web_sm==2.3.1) (2.0.0)\n",
            "Requirement already satisfied: zipp>=0.5 in /usr/local/lib/python3.6/dist-packages (from importlib-metadata>=0.20; python_version < \"3.8\"->catalogue<1.1.0,>=0.0.7->spacy<2.4.0,>=2.3.0->en_core_web_sm==2.3.1) (3.4.0)\n",
            "Building wheels for collected packages: en-core-web-sm\n",
            "  Building wheel for en-core-web-sm (setup.py) ... \u001b[?25l\u001b[?25hdone\n",
            "  Created wheel for en-core-web-sm: filename=en_core_web_sm-2.3.1-cp36-none-any.whl size=12047109 sha256=bc5551f87e37b5abd94683b50b23cc1016b16235b3dd726ab5c08f0458b25591\n",
            "  Stored in directory: /tmp/pip-ephem-wheel-cache-af0zr_tj/wheels/2b/3f/41/f0b92863355c3ba34bb32b37d8a0c662959da0058202094f46\n",
            "Successfully built en-core-web-sm\n",
            "Installing collected packages: en-core-web-sm\n",
            "  Found existing installation: en-core-web-sm 2.2.5\n",
            "    Uninstalling en-core-web-sm-2.2.5:\n",
            "      Successfully uninstalled en-core-web-sm-2.2.5\n",
            "Successfully installed en-core-web-sm-2.3.1\n",
            "\u001b[38;5;2m✔ Download and installation successful\u001b[0m\n",
            "You can now load the model via spacy.load('en_core_web_sm')\n",
            "\u001b[38;5;2m✔ Linking successful\u001b[0m\n",
            "/usr/local/lib/python3.6/dist-packages/en_core_web_sm -->\n",
            "/usr/local/lib/python3.6/dist-packages/spacy/data/en\n",
            "You can now load the model via spacy.load('en')\n"
          ],
          "name": "stdout"
        }
      ]
    },
    {
      "cell_type": "code",
      "metadata": {
        "id": "iiijM2VGICRf"
      },
      "source": [
        "story_field = Field(tokenize = tokenize, init_token = '<sos>', eos_token = '<eos>', lower = True, include_lengths = True)\n",
        "summary_field = Field(tokenize =tokenize, init_token = '<sos>', eos_token = '<eos>', lower = True)\n",
        "fields = {'story': ('story', story_field), 'summary': ('summary', summary_field)}\n",
        "\n"
      ],
      "execution_count": 14,
      "outputs": []
    },
    {
      "cell_type": "code",
      "metadata": {
        "id": "E_L-6r9ZIDnn"
      },
      "source": [
        "train_data, validation_data, test_data = data.TabularDataset.splits(path = '',\n",
        "                                        train = 'train_data.csv',\n",
        "                                        validation = 'validation_data.csv',\n",
        "                                        test = 'test_data.csv',\n",
        "                                        format = 'csv',\n",
        "                                        fields = fields)"
      ],
      "execution_count": 16,
      "outputs": []
    },
    {
      "cell_type": "code",
      "metadata": {
        "id": "4H1DhivcIFG-"
      },
      "source": [
        "BATCH_SIZE = 8\n",
        "\n",
        "train_iterator, valid_iterator, test_iterator = BucketIterator.splits(\n",
        "    (train_data, validation_data, test_data), \n",
        "     batch_size = BATCH_SIZE,\n",
        "     shuffle = True,\n",
        "     sort_within_batch = True,\n",
        "     sort_key = lambda x : len(x.story),\n",
        "     repeat = False,\n",
        "     device = device)"
      ],
      "execution_count": 17,
      "outputs": []
    },
    {
      "cell_type": "code",
      "metadata": {
        "id": "3j_2fCKoIG9m",
        "colab": {
          "base_uri": "https://localhost:8080/"
        },
        "outputId": "374fc2bd-5527-4048-ac2b-1c6ac774cc3a"
      },
      "source": [
        "story_field.build_vocab(train_data, min_freq = 2)\n",
        "summary_field.build_vocab(train_data, min_freq = 2)\n",
        "\n",
        "# import pickle\n",
        "\n",
        "# with open('summary_field.pkl', 'rb') as f:\n",
        "#     summary_field.vocab = pickle.load(f)\n",
        "\n",
        "# with open('story_field.pkl', 'rb') as f:\n",
        "#     story_field.vocab = pickle.load(f)\n",
        "\n",
        "print(len(story_field.vocab))\n",
        "print(len(summary_field.vocab))"
      ],
      "execution_count": 18,
      "outputs": [
        {
          "output_type": "stream",
          "text": [
            "300\n",
            "34\n"
          ],
          "name": "stdout"
        }
      ]
    },
    {
      "cell_type": "code",
      "metadata": {
        "id": "o2vbFd9NcIY5"
      },
      "source": [
        "def save_vocab(vocab, path):\n",
        "    import pickle\n",
        "    output = open(path, 'wb')\n",
        "    pickle.dump(vocab, output)\n",
        "    output.close()\n",
        "\n",
        "save_vocab(story_field.vocab, \"story_field.pkl\")\n",
        "save_vocab(summary_field.vocab, \"summary_field.pkl\")"
      ],
      "execution_count": 19,
      "outputs": []
    },
    {
      "cell_type": "code",
      "metadata": {
        "id": "BNNnBdCWdINU"
      },
      "source": [
        ""
      ],
      "execution_count": 19,
      "outputs": []
    },
    {
      "cell_type": "code",
      "metadata": {
        "id": "o2pkHE1KbT9d"
      },
      "source": [
        "# del train_data\n",
        "# !rm train_data.json\n",
        "# !rm test_data.json\n",
        "# !rm validation_data.json\n",
        "# del validation_data\n",
        "# print(type(train_data))"
      ],
      "execution_count": 20,
      "outputs": []
    },
    {
      "cell_type": "code",
      "metadata": {
        "id": "_sKngSCqIIi6"
      },
      "source": [
        "class Encoder(nn.Module):\n",
        "    def __init__(self, input_dim, emb_dim, enc_hid_dim, dec_hid_dim, dropout):\n",
        "        super().__init__()\n",
        "        \n",
        "        self.embedding = nn.Embedding(input_dim, emb_dim)\n",
        "        \n",
        "        self.rnn = nn.GRU(emb_dim, enc_hid_dim, bidirectional = True)\n",
        "        \n",
        "        self.fc = nn.Linear(enc_hid_dim * 2, dec_hid_dim)\n",
        "        \n",
        "        self.dropout = nn.Dropout(dropout)\n",
        "        \n",
        "    def forward(self, src, src_len):\n",
        "        \n",
        "        #src = [src len, batch size]\n",
        "        #src_len = [batch size]\n",
        "        \n",
        "        embedded = self.dropout(self.embedding(src))\n",
        "        \n",
        "        #embedded = [src len, batch size, emb dim]\n",
        "                \n",
        "        packed_embedded = nn.utils.rnn.pack_padded_sequence(embedded, src_len)\n",
        "                \n",
        "        packed_outputs, hidden = self.rnn(packed_embedded)\n",
        "                                 \n",
        "        #packed_outputs is a packed sequence containing all hidden states\n",
        "        #hidden is now from the final non-padded element in the batch\n",
        "            \n",
        "        outputs, _ = nn.utils.rnn.pad_packed_sequence(packed_outputs) \n",
        "            \n",
        "        #outputs is now a non-packed sequence, all hidden states obtained\n",
        "        #  when the input is a pad token are all zeros\n",
        "            \n",
        "        #outputs = [src len, batch size, hid dim * num directions]\n",
        "        #hidden = [n layers * num directions, batch size, hid dim]\n",
        "        \n",
        "        #hidden is stacked [forward_1, backward_1, forward_2, backward_2, ...]\n",
        "        #outputs are always from the last layer\n",
        "        \n",
        "        #hidden [-2, :, : ] is the last of the forwards RNN \n",
        "        #hidden [-1, :, : ] is the last of the backwards RNN\n",
        "        \n",
        "        #initial decoder hidden is final hidden state of the forwards and backwards \n",
        "        #  encoder RNNs fed through a linear layer\n",
        "        hidden = torch.tanh(self.fc(torch.cat((hidden[-2,:,:], hidden[-1,:,:]), dim = 1)))\n",
        "        \n",
        "        #outputs = [src len, batch size, enc hid dim * 2]\n",
        "        #hidden = [batch size, dec hid dim]\n",
        "        \n",
        "        return outputs, hidden"
      ],
      "execution_count": 21,
      "outputs": []
    },
    {
      "cell_type": "code",
      "metadata": {
        "id": "ywd8kemUILTR"
      },
      "source": [
        "class Attention(nn.Module):\n",
        "    def __init__(self, enc_hid_dim, dec_hid_dim):\n",
        "        super().__init__()\n",
        "        \n",
        "        self.attn = nn.Linear((enc_hid_dim * 2) + dec_hid_dim, dec_hid_dim)\n",
        "        self.v = nn.Linear(dec_hid_dim, 1, bias = False)\n",
        "        \n",
        "    def forward(self, hidden, encoder_outputs, mask):\n",
        "        \n",
        "        #hidden = [batch size, dec hid dim]\n",
        "        #encoder_outputs = [src len, batch size, enc hid dim * 2]\n",
        "        \n",
        "        batch_size = encoder_outputs.shape[1]\n",
        "        src_len = encoder_outputs.shape[0]\n",
        "        \n",
        "        #repeat decoder hidden state src_len times\n",
        "        hidden = hidden.unsqueeze(1).repeat(1, src_len, 1)\n",
        "  \n",
        "        encoder_outputs = encoder_outputs.permute(1, 0, 2)\n",
        "        \n",
        "        #hidden = [batch size, src len, dec hid dim]\n",
        "        #encoder_outputs = [batch size, src len, enc hid dim * 2]\n",
        "        \n",
        "        energy = torch.tanh(self.attn(torch.cat((hidden, encoder_outputs), dim = 2))) \n",
        "        \n",
        "        #energy = [batch size, src len, dec hid dim]\n",
        "\n",
        "        attention = self.v(energy).squeeze(2)\n",
        "        \n",
        "        #attention = [batch size, src len]\n",
        "        \n",
        "        attention = attention.masked_fill(mask == 0, -1e10)\n",
        "        \n",
        "        return F.softmax(attention, dim = 1)"
      ],
      "execution_count": 22,
      "outputs": []
    },
    {
      "cell_type": "code",
      "metadata": {
        "id": "CW9_FlLyIPJk"
      },
      "source": [
        "class Decoder(nn.Module):\n",
        "    def __init__(self, output_dim, emb_dim, enc_hid_dim, dec_hid_dim, dropout, attention):\n",
        "        super().__init__()\n",
        "\n",
        "        self.output_dim = output_dim\n",
        "        self.attention = attention\n",
        "        self.embedding = nn.Embedding(output_dim, emb_dim)  \n",
        "        self.rnn = nn.GRU((enc_hid_dim * 2) + emb_dim, dec_hid_dim)\n",
        "        self.fc_out = nn.Linear((enc_hid_dim * 2) + dec_hid_dim + emb_dim, output_dim)\n",
        "        self.dropout = nn.Dropout(dropout)\n",
        "        \n",
        "    def forward(self, input, hidden, encoder_outputs, mask):\n",
        "                   \n",
        "        input = input.unsqueeze(0)  \n",
        "        embedded = self.dropout(self.embedding(input))  \n",
        "        a = self.attention(hidden, encoder_outputs, mask)\n",
        "        a = a.unsqueeze(1)\n",
        "        encoder_outputs = encoder_outputs.permute(1, 0, 2)\n",
        "        weighted = torch.bmm(a, encoder_outputs)\n",
        "        weighted = weighted.permute(1, 0, 2)\n",
        "        rnn_input = torch.cat((embedded, weighted), dim = 2)         \n",
        "        output, hidden = self.rnn(rnn_input, hidden.unsqueeze(0))\n",
        "        embedded = embedded.squeeze(0)\n",
        "        output = output.squeeze(0)\n",
        "        weighted = weighted.squeeze(0)\n",
        "        prediction = self.fc_out(torch.cat((output, weighted, embedded), dim = 1))\n",
        "        \n",
        "        return prediction, hidden.squeeze(0), a.squeeze(1)"
      ],
      "execution_count": 27,
      "outputs": []
    },
    {
      "cell_type": "code",
      "metadata": {
        "id": "hdfpzHRIISGC"
      },
      "source": [
        "class Seq2Seq(nn.Module):\n",
        "    def __init__(self, encoder, decoder, src_pad_idx, device):\n",
        "        super().__init__()\n",
        "        \n",
        "        self.encoder = encoder\n",
        "        self.decoder = decoder\n",
        "        self.src_pad_idx = src_pad_idx\n",
        "        self.device = device\n",
        "        \n",
        "    def create_mask(self, src):\n",
        "        mask = (src != self.src_pad_idx).permute(1, 0)\n",
        "        return mask\n",
        "        \n",
        "    def forward(self, src, src_len, trg, teacher_forcing_ratio = 0.5):\n",
        "        \n",
        "        #src = [src len, batch size]\n",
        "        #src_len = [batch size]\n",
        "        #trg = [trg len, batch size]\n",
        "        #teacher_forcing_ratio is probability to use teacher forcing\n",
        "        #e.g. if teacher_forcing_ratio is 0.75 we use teacher forcing 75% of the time\n",
        "                    \n",
        "        batch_size = src.shape[1]\n",
        "        trg_len = trg.shape[0]\n",
        "        trg_vocab_size = self.decoder.output_dim\n",
        "        \n",
        "        #tensor to store decoder outputs\n",
        "        outputs = torch.zeros(trg_len, batch_size, trg_vocab_size).to(self.device)\n",
        "        \n",
        "        #encoder_outputs is all hidden states of the input sequence, back and forwards\n",
        "        #hidden is the final forward and backward hidden states, passed through a linear layer\n",
        "        encoder_outputs, hidden = self.encoder(src, src_len)\n",
        "                \n",
        "        #first input to the decoder is the <sos> tokens\n",
        "        input = trg[0,:]\n",
        "        \n",
        "        mask = self.create_mask(src)\n",
        "\n",
        "        #mask = [batch size, src len]\n",
        "                \n",
        "        for t in range(1, trg_len):\n",
        "            \n",
        "            #insert input token embedding, previous hidden state, all encoder hidden states \n",
        "            #  and mask\n",
        "            #receive output tensor (predictions) and new hidden state\n",
        "            output, hidden, _ = self.decoder(input, hidden, encoder_outputs, mask)\n",
        "            \n",
        "            #place predictions in a tensor holding predictions for each token\n",
        "            outputs[t] = output\n",
        "            \n",
        "            #decide if we are going to use teacher forcing or not\n",
        "            teacher_force = random.random() < teacher_forcing_ratio\n",
        "            \n",
        "            #get the highest predicted token from our predictions\n",
        "            top1 = output.argmax(1) \n",
        "            \n",
        "            #if teacher forcing, use actual next token as next input\n",
        "            #if not, use predicted token\n",
        "            input = trg[t] if teacher_force else top1\n",
        "            \n",
        "        return outputs"
      ],
      "execution_count": 28,
      "outputs": []
    },
    {
      "cell_type": "code",
      "metadata": {
        "id": "vMjbVoq_IVmk"
      },
      "source": [
        "INPUT_DIM = len(story_field.vocab)\n",
        "OUTPUT_DIM = len(summary_field.vocab)\n",
        "ENC_EMB_DIM = 100\n",
        "DEC_EMB_DIM = 100\n",
        "ENC_HID_DIM = 100\n",
        "DEC_HID_DIM = 100\n",
        "ENC_DROPOUT = 0.5\n",
        "DEC_DROPOUT = 0.5\n",
        "SRC_PAD_IDX = story_field.vocab.stoi[story_field.pad_token]"
      ],
      "execution_count": 29,
      "outputs": []
    },
    {
      "cell_type": "code",
      "metadata": {
        "id": "kQzki3F1IX00"
      },
      "source": [
        "attn = Attention(ENC_HID_DIM, DEC_HID_DIM).to(device)\n",
        "enc = Encoder(INPUT_DIM, ENC_EMB_DIM, ENC_HID_DIM, DEC_HID_DIM, ENC_DROPOUT).to(device)\n",
        "dec = Decoder(OUTPUT_DIM, DEC_EMB_DIM, ENC_HID_DIM, DEC_HID_DIM, DEC_DROPOUT, attn).to(device)\n",
        "\n",
        "model = Seq2Seq(enc, dec, SRC_PAD_IDX, device).to(device)"
      ],
      "execution_count": 30,
      "outputs": []
    },
    {
      "cell_type": "code",
      "metadata": {
        "id": "3nIyDj7XIZDM"
      },
      "source": [
        "optimizer = optim.Adam(model.parameters())\n",
        "TRG_PAD_IDX = summary_field.vocab.stoi[summary_field.pad_token]\n",
        "criterion = nn.CrossEntropyLoss(ignore_index = TRG_PAD_IDX)"
      ],
      "execution_count": 31,
      "outputs": []
    },
    {
      "cell_type": "code",
      "metadata": {
        "id": "DLYwLFrzJEE9"
      },
      "source": [
        ""
      ],
      "execution_count": null,
      "outputs": []
    },
    {
      "cell_type": "code",
      "metadata": {
        "id": "HkDHMhkPIlbl"
      },
      "source": [
        "# load_checkpoint(torch.load(\"./Mseq2seq_attention_padding-model.pt\"), model, optimizer)"
      ],
      "execution_count": null,
      "outputs": []
    },
    {
      "cell_type": "code",
      "metadata": {
        "id": "hGUjEBVIJpq8"
      },
      "source": [
        "def evaluate(model, iterator, criterion):\n",
        "    \n",
        "    model.eval()\n",
        "    \n",
        "    epoch_loss = 0\n",
        "    \n",
        "    with torch.no_grad():\n",
        "    \n",
        "        for i, batch in enumerate(iterator):\n",
        "\n",
        "            src, src_len = batch.story\n",
        "            trg = batch.summary\n",
        "\n",
        "            output = model(src.to(device), src_len, trg.to(device), 0) #turn off teacher forcing\n",
        "            \n",
        "            #trg = [trg len, batch size]\n",
        "            #output = [trg len, batch size, output dim]\n",
        "\n",
        "            output_dim = output.shape[-1]\n",
        "            \n",
        "            output = output[1:].view(-1, output_dim)\n",
        "            trg = trg[1:].view(-1)\n",
        "\n",
        "            #trg = [(trg len - 1) * batch size]\n",
        "            #output = [(trg len - 1) * batch size, output dim]\n",
        "\n",
        "            loss = criterion(output.to(device), trg.to(device))\n",
        "\n",
        "            epoch_loss += loss.item()\n",
        "        \n",
        "    return epoch_loss / len(iterator)\n"
      ],
      "execution_count": null,
      "outputs": []
    },
    {
      "cell_type": "code",
      "metadata": {
        "id": "TVAUidENJqZ6"
      },
      "source": [
        "def epoch_time(start_time, end_time):\n",
        "    elapsed_time = end_time - start_time\n",
        "    elapsed_mins = int(elapsed_time / 60)\n",
        "    elapsed_secs = int(elapsed_time - (elapsed_mins * 60))\n",
        "    return elapsed_mins, elapsed_secs"
      ],
      "execution_count": null,
      "outputs": []
    },
    {
      "cell_type": "code",
      "metadata": {
        "id": "l08Xm-JrJsaL",
        "colab": {
          "base_uri": "https://localhost:8080/"
        },
        "outputId": "07e88c45-9ef0-4b80-ca3d-aeb0dfe7e7d4"
      },
      "source": [
        "model.load_state_dict(torch.load('gloveseq2seq.pt'))\n"
      ],
      "execution_count": null,
      "outputs": [
        {
          "output_type": "execute_result",
          "data": {
            "text/plain": [
              "<All keys matched successfully>"
            ]
          },
          "metadata": {
            "tags": []
          },
          "execution_count": 27
        }
      ]
    },
    {
      "cell_type": "code",
      "metadata": {
        "id": "Zl-EwATLJ00q",
        "colab": {
          "base_uri": "https://localhost:8080/"
        },
        "outputId": "4df412fb-5dd0-4360-ec63-ed9a1638a7af"
      },
      "source": [
        "import torch\n",
        "print(torch.cuda.is_available())\n",
        "# test_loss = evaluate(model, test_iterator, criterion)\n",
        "\n",
        "# print(f'| Test Loss: {test_loss:.3f} | Test PPL: {math.exp(test_loss):7.3f} |')"
      ],
      "execution_count": null,
      "outputs": [
        {
          "output_type": "stream",
          "text": [
            "True\n"
          ],
          "name": "stdout"
        }
      ]
    },
    {
      "cell_type": "code",
      "metadata": {
        "id": "xRjlzt-6J2_K"
      },
      "source": [
        "def make_summary(sentence, src_field, trg_field, model, device, max_len = 100):\n",
        "\n",
        "    model.eval()\n",
        "        \n",
        "    if isinstance(sentence, str):\n",
        "        nlp = spacy.load('en')\n",
        "        tokens = [token.text.lower() for token in nlp(sentence)]\n",
        "    else:\n",
        "        tokens = [token.lower() for token in sentence]\n",
        "\n",
        "    tokens = [src_field.init_token] + tokens + [src_field.eos_token]\n",
        "    src_indexes = [src_field.vocab.stoi[token] for token in tokens]\n",
        "    src_tensor = torch.LongTensor(src_indexes).unsqueeze(1).to(device)\n",
        "    src_len = torch.LongTensor([len(src_indexes)]).to(device)\n",
        "    \n",
        "    with torch.no_grad():\n",
        "        encoder_outputs, hidden = model.encoder(src_tensor, src_len)\n",
        "\n",
        "    mask = model.create_mask(src_tensor)\n",
        "    trg_indexes = [trg_field.vocab.stoi[trg_field.init_token]]\n",
        "    attentions = torch.zeros(max_len, 1, len(src_indexes)).to(device)\n",
        "    \n",
        "    for i in range(max_len):\n",
        "        trg_tensor = torch.LongTensor([trg_indexes[-1]]).to(device)\n",
        "                \n",
        "        with torch.no_grad():\n",
        "            output, hidden, attention = model.decoder(trg_tensor, hidden, encoder_outputs, mask)\n",
        "\n",
        "        attentions[i] = attention\n",
        "        pred_token = output.argmax(1).item()\n",
        "        trg_indexes.append(pred_token)\n",
        "\n",
        "        if pred_token == trg_field.vocab.stoi[trg_field.eos_token]:\n",
        "            break\n",
        "    \n",
        "    trg_tokens = [trg_field.vocab.itos[i] for i in trg_indexes]\n",
        "    return trg_tokens[1:], attentions[:len(trg_tokens)-1]"
      ],
      "execution_count": null,
      "outputs": []
    },
    {
      "cell_type": "code",
      "metadata": {
        "id": "MlitQyccJ5ze",
        "colab": {
          "base_uri": "https://localhost:8080/",
          "height": 229
        },
        "outputId": "d08bcab2-ade8-4111-e9b8-3d24f8d5b61e"
      },
      "source": [
        "example_idx = 2\n",
        "\n",
        "src = vars(train_data.examples[example_idx])['story']\n",
        "trg = vars(train_data.examples[example_idx])['summary']\n",
        "\n",
        "print(f'src = {src}')\n",
        "print(f'trg = {trg}')\n",
        "\n",
        "summary, attention = make_summary(src, story_field, summary_field, model, device)\n",
        "\n",
        "print(f'predicted trg = {summary}')"
      ],
      "execution_count": null,
      "outputs": [
        {
          "output_type": "error",
          "ename": "NameError",
          "evalue": "ignored",
          "traceback": [
            "\u001b[0;31m---------------------------------------------------------------------------\u001b[0m",
            "\u001b[0;31mNameError\u001b[0m                                 Traceback (most recent call last)",
            "\u001b[0;32m<ipython-input-91-637a1a11b8d8>\u001b[0m in \u001b[0;36m<module>\u001b[0;34m()\u001b[0m\n\u001b[1;32m      1\u001b[0m \u001b[0mexample_idx\u001b[0m \u001b[0;34m=\u001b[0m \u001b[0;36m2\u001b[0m\u001b[0;34m\u001b[0m\u001b[0;34m\u001b[0m\u001b[0m\n\u001b[1;32m      2\u001b[0m \u001b[0;34m\u001b[0m\u001b[0m\n\u001b[0;32m----> 3\u001b[0;31m \u001b[0msrc\u001b[0m \u001b[0;34m=\u001b[0m \u001b[0mvars\u001b[0m\u001b[0;34m(\u001b[0m\u001b[0mtrain_data\u001b[0m\u001b[0;34m.\u001b[0m\u001b[0mexamples\u001b[0m\u001b[0;34m[\u001b[0m\u001b[0mexample_idx\u001b[0m\u001b[0;34m]\u001b[0m\u001b[0;34m)\u001b[0m\u001b[0;34m[\u001b[0m\u001b[0;34m'story'\u001b[0m\u001b[0;34m]\u001b[0m\u001b[0;34m\u001b[0m\u001b[0;34m\u001b[0m\u001b[0m\n\u001b[0m\u001b[1;32m      4\u001b[0m \u001b[0mtrg\u001b[0m \u001b[0;34m=\u001b[0m \u001b[0mvars\u001b[0m\u001b[0;34m(\u001b[0m\u001b[0mtrain_data\u001b[0m\u001b[0;34m.\u001b[0m\u001b[0mexamples\u001b[0m\u001b[0;34m[\u001b[0m\u001b[0mexample_idx\u001b[0m\u001b[0;34m]\u001b[0m\u001b[0;34m)\u001b[0m\u001b[0;34m[\u001b[0m\u001b[0;34m'summary'\u001b[0m\u001b[0;34m]\u001b[0m\u001b[0;34m\u001b[0m\u001b[0;34m\u001b[0m\u001b[0m\n\u001b[1;32m      5\u001b[0m \u001b[0;34m\u001b[0m\u001b[0m\n",
            "\u001b[0;31mNameError\u001b[0m: name 'train_data' is not defined"
          ]
        }
      ]
    },
    {
      "cell_type": "code",
      "metadata": {
        "id": "1GYt6L-QJ9TJ",
        "colab": {
          "base_uri": "https://localhost:8080/",
          "height": 479
        },
        "outputId": "20316224-f72f-40ba-9efc-6c0c309f5746"
      },
      "source": [
        "example_idx = 500\n",
        "\n",
        "src = vars(validation_data.examples[example_idx])['story']\n",
        "trg = vars(validation_data.examples[example_idx])['summary']\n",
        "\n",
        "print(f'src = {\" \".join(src)}\\n')\n",
        "print(f'trg = {\" \".join(trg)}\\n')\n",
        "\n",
        "summary, attention = make_summary(src, story_field, story_field, model, device)\n",
        "summary = (\" \".join(summary)).replace(\"\\n\", \" \")\n",
        "\n",
        "print(f'predicted trg = {summary}')"
      ],
      "execution_count": null,
      "outputs": [
        {
          "output_type": "stream",
          "text": [
            "src = jerusalem ( cnn)after a bitter campaign , israeli prime minister benjamin netanyahu is claiming victory as his main rival isaac herzog concedes . many questions linger about exactly what this means for u.s.-israeli relations and israel 's standing in the middle east . cnn global affairs correspondent elise labott has been covering the israel election in depth and took to facebook to answer your questions about the election . here are five highlights from the chat : . 1 ) how did the race go from exit polls saying it was a neck - and - neck race to netanyahu claiming victory within a matter of hours ? i know , right ? it 's a great mystery as to how the exit polls got it so wrong . there 's one pollster here in israel named avi degani who predicted that netanyahu would win all along . he said that the polls here in israel rely too heavily on modern methodology and are n't really suitable for people outside city centers like tel aviv . there 's also the question of whether netanyahu gained more seats because of the 11th - hour push to the right . part of the explanation is that he cannibalized votes from the other right - wing parties . also worth noting that israeli elections always have surprises . in the last election , no one predicted the amazing turnout for yair lapid , whose yesh atid party won 19 seats . this time , he only won around 11 . why were the election polls so wrong ? 2 ) what does netanyahu have planned for his next term ? that 's the $ 6 million question . the obama administration was waiting for the election to be over to see who they would be dealing with . they knew even if prime minister netanyahu won re - election , they would need to re - engage with him . i think both sides realize that the u.s.-israeli relationship is too important to continue as it has been . but i think the tone prime minister netanyahu sets now will dictate how the white house deals with him . opinion : will netanyahu win seal iran deal ? 3 ) what is netanyahu 's plan regarding the israeli - palestinian conflict ? in the final days before the election , prime minister netanyahu\n",
            "\n",
            "trg = cnn 's elise labott holds facebook chat about israeli election results . \n",
            " she answers questions about why polls were wrong , why americans should care .\n",
            "\n"
          ],
          "name": "stdout"
        },
        {
          "output_type": "error",
          "ename": "KeyError",
          "evalue": "ignored",
          "traceback": [
            "\u001b[0;31m---------------------------------------------------------------------------\u001b[0m",
            "\u001b[0;31mKeyError\u001b[0m                                  Traceback (most recent call last)",
            "\u001b[0;32m<ipython-input-33-75288cda6248>\u001b[0m in \u001b[0;36m<module>\u001b[0;34m()\u001b[0m\n\u001b[1;32m      7\u001b[0m \u001b[0mprint\u001b[0m\u001b[0;34m(\u001b[0m\u001b[0;34mf'trg = {\" \".join(trg)}\\n'\u001b[0m\u001b[0;34m)\u001b[0m\u001b[0;34m\u001b[0m\u001b[0;34m\u001b[0m\u001b[0m\n\u001b[1;32m      8\u001b[0m \u001b[0;34m\u001b[0m\u001b[0m\n\u001b[0;32m----> 9\u001b[0;31m \u001b[0msummary\u001b[0m\u001b[0;34m,\u001b[0m \u001b[0mattention\u001b[0m \u001b[0;34m=\u001b[0m \u001b[0mmake_summary\u001b[0m\u001b[0;34m(\u001b[0m\u001b[0msrc\u001b[0m\u001b[0;34m,\u001b[0m \u001b[0mstory_field\u001b[0m\u001b[0;34m,\u001b[0m \u001b[0mstory_field\u001b[0m\u001b[0;34m,\u001b[0m \u001b[0mmodel\u001b[0m\u001b[0;34m,\u001b[0m \u001b[0mdevice\u001b[0m\u001b[0;34m)\u001b[0m\u001b[0;34m\u001b[0m\u001b[0;34m\u001b[0m\u001b[0m\n\u001b[0m\u001b[1;32m     10\u001b[0m \u001b[0msummary\u001b[0m \u001b[0;34m=\u001b[0m \u001b[0;34m(\u001b[0m\u001b[0;34m\" \"\u001b[0m\u001b[0;34m.\u001b[0m\u001b[0mjoin\u001b[0m\u001b[0;34m(\u001b[0m\u001b[0msummary\u001b[0m\u001b[0;34m)\u001b[0m\u001b[0;34m)\u001b[0m\u001b[0;34m.\u001b[0m\u001b[0mreplace\u001b[0m\u001b[0;34m(\u001b[0m\u001b[0;34m\"\\n\"\u001b[0m\u001b[0;34m,\u001b[0m \u001b[0;34m\" \"\u001b[0m\u001b[0;34m)\u001b[0m\u001b[0;34m\u001b[0m\u001b[0;34m\u001b[0m\u001b[0m\n\u001b[1;32m     11\u001b[0m \u001b[0;34m\u001b[0m\u001b[0m\n",
            "\u001b[0;32m<ipython-input-28-f46601ff8231>\u001b[0m in \u001b[0;36mmake_summary\u001b[0;34m(sentence, src_field, trg_field, model, device, max_len)\u001b[0m\n\u001b[1;32m     50\u001b[0m \u001b[0;34m\u001b[0m\u001b[0m\n\u001b[1;32m     51\u001b[0m     \u001b[0mtokens\u001b[0m \u001b[0;34m=\u001b[0m \u001b[0;34m[\u001b[0m\u001b[0msrc_field\u001b[0m\u001b[0;34m.\u001b[0m\u001b[0minit_token\u001b[0m\u001b[0;34m]\u001b[0m \u001b[0;34m+\u001b[0m \u001b[0mtokens\u001b[0m \u001b[0;34m+\u001b[0m \u001b[0;34m[\u001b[0m\u001b[0msrc_field\u001b[0m\u001b[0;34m.\u001b[0m\u001b[0meos_token\u001b[0m\u001b[0;34m]\u001b[0m\u001b[0;34m\u001b[0m\u001b[0;34m\u001b[0m\u001b[0m\n\u001b[0;32m---> 52\u001b[0;31m     \u001b[0msrc_indexes\u001b[0m \u001b[0;34m=\u001b[0m \u001b[0;34m[\u001b[0m\u001b[0msrc_field\u001b[0m\u001b[0;34m.\u001b[0m\u001b[0mvocab\u001b[0m\u001b[0;34m.\u001b[0m\u001b[0mstoi\u001b[0m\u001b[0;34m[\u001b[0m\u001b[0mtoken\u001b[0m\u001b[0;34m]\u001b[0m \u001b[0;32mfor\u001b[0m \u001b[0mtoken\u001b[0m \u001b[0;32min\u001b[0m \u001b[0mtokens\u001b[0m\u001b[0;34m]\u001b[0m\u001b[0;34m\u001b[0m\u001b[0;34m\u001b[0m\u001b[0m\n\u001b[0m\u001b[1;32m     53\u001b[0m     \u001b[0msrc_tensor\u001b[0m \u001b[0;34m=\u001b[0m \u001b[0mtorch\u001b[0m\u001b[0;34m.\u001b[0m\u001b[0mLongTensor\u001b[0m\u001b[0;34m(\u001b[0m\u001b[0msrc_indexes\u001b[0m\u001b[0;34m)\u001b[0m\u001b[0;34m.\u001b[0m\u001b[0munsqueeze\u001b[0m\u001b[0;34m(\u001b[0m\u001b[0;36m1\u001b[0m\u001b[0;34m)\u001b[0m\u001b[0;34m.\u001b[0m\u001b[0mto\u001b[0m\u001b[0;34m(\u001b[0m\u001b[0mdevice\u001b[0m\u001b[0;34m)\u001b[0m\u001b[0;34m\u001b[0m\u001b[0;34m\u001b[0m\u001b[0m\n\u001b[1;32m     54\u001b[0m     \u001b[0msrc_len\u001b[0m \u001b[0;34m=\u001b[0m \u001b[0mtorch\u001b[0m\u001b[0;34m.\u001b[0m\u001b[0mLongTensor\u001b[0m\u001b[0;34m(\u001b[0m\u001b[0;34m[\u001b[0m\u001b[0mlen\u001b[0m\u001b[0;34m(\u001b[0m\u001b[0msrc_indexes\u001b[0m\u001b[0;34m)\u001b[0m\u001b[0;34m]\u001b[0m\u001b[0;34m)\u001b[0m\u001b[0;34m.\u001b[0m\u001b[0mto\u001b[0m\u001b[0;34m(\u001b[0m\u001b[0mdevice\u001b[0m\u001b[0;34m)\u001b[0m\u001b[0;34m\u001b[0m\u001b[0;34m\u001b[0m\u001b[0m\n",
            "\u001b[0;32m<ipython-input-28-f46601ff8231>\u001b[0m in \u001b[0;36m<listcomp>\u001b[0;34m(.0)\u001b[0m\n\u001b[1;32m     50\u001b[0m \u001b[0;34m\u001b[0m\u001b[0m\n\u001b[1;32m     51\u001b[0m     \u001b[0mtokens\u001b[0m \u001b[0;34m=\u001b[0m \u001b[0;34m[\u001b[0m\u001b[0msrc_field\u001b[0m\u001b[0;34m.\u001b[0m\u001b[0minit_token\u001b[0m\u001b[0;34m]\u001b[0m \u001b[0;34m+\u001b[0m \u001b[0mtokens\u001b[0m \u001b[0;34m+\u001b[0m \u001b[0;34m[\u001b[0m\u001b[0msrc_field\u001b[0m\u001b[0;34m.\u001b[0m\u001b[0meos_token\u001b[0m\u001b[0;34m]\u001b[0m\u001b[0;34m\u001b[0m\u001b[0;34m\u001b[0m\u001b[0m\n\u001b[0;32m---> 52\u001b[0;31m     \u001b[0msrc_indexes\u001b[0m \u001b[0;34m=\u001b[0m \u001b[0;34m[\u001b[0m\u001b[0msrc_field\u001b[0m\u001b[0;34m.\u001b[0m\u001b[0mvocab\u001b[0m\u001b[0;34m.\u001b[0m\u001b[0mstoi\u001b[0m\u001b[0;34m[\u001b[0m\u001b[0mtoken\u001b[0m\u001b[0;34m]\u001b[0m \u001b[0;32mfor\u001b[0m \u001b[0mtoken\u001b[0m \u001b[0;32min\u001b[0m \u001b[0mtokens\u001b[0m\u001b[0;34m]\u001b[0m\u001b[0;34m\u001b[0m\u001b[0;34m\u001b[0m\u001b[0m\n\u001b[0m\u001b[1;32m     53\u001b[0m     \u001b[0msrc_tensor\u001b[0m \u001b[0;34m=\u001b[0m \u001b[0mtorch\u001b[0m\u001b[0;34m.\u001b[0m\u001b[0mLongTensor\u001b[0m\u001b[0;34m(\u001b[0m\u001b[0msrc_indexes\u001b[0m\u001b[0;34m)\u001b[0m\u001b[0;34m.\u001b[0m\u001b[0munsqueeze\u001b[0m\u001b[0;34m(\u001b[0m\u001b[0;36m1\u001b[0m\u001b[0;34m)\u001b[0m\u001b[0;34m.\u001b[0m\u001b[0mto\u001b[0m\u001b[0;34m(\u001b[0m\u001b[0mdevice\u001b[0m\u001b[0;34m)\u001b[0m\u001b[0;34m\u001b[0m\u001b[0;34m\u001b[0m\u001b[0m\n\u001b[1;32m     54\u001b[0m     \u001b[0msrc_len\u001b[0m \u001b[0;34m=\u001b[0m \u001b[0mtorch\u001b[0m\u001b[0;34m.\u001b[0m\u001b[0mLongTensor\u001b[0m\u001b[0;34m(\u001b[0m\u001b[0;34m[\u001b[0m\u001b[0mlen\u001b[0m\u001b[0;34m(\u001b[0m\u001b[0msrc_indexes\u001b[0m\u001b[0;34m)\u001b[0m\u001b[0;34m]\u001b[0m\u001b[0;34m)\u001b[0m\u001b[0;34m.\u001b[0m\u001b[0mto\u001b[0m\u001b[0;34m(\u001b[0m\u001b[0mdevice\u001b[0m\u001b[0;34m)\u001b[0m\u001b[0;34m\u001b[0m\u001b[0;34m\u001b[0m\u001b[0m\n",
            "\u001b[0;31mKeyError\u001b[0m: 'degani'"
          ]
        }
      ]
    },
    {
      "cell_type": "code",
      "metadata": {
        "id": "X_EXD3pOOA1E",
        "colab": {
          "base_uri": "https://localhost:8080/"
        },
        "outputId": "9c770207-e643-46d5-a3b8-d7ed52bc4be5"
      },
      "source": [
        "example_idx = 10000\n",
        "\n",
        "src = vars(validation_data.examples[example_idx])['story']\n",
        "trg = vars(validation_data.examples[example_idx])['summary']\n",
        "\n",
        "print(f'src = {\" \".join(src)}\\n')\n",
        "print(f'trg = {\" \".join(trg)}\\n')\n",
        "\n",
        "summary, attention = make_summary(src, story_field, summary_field, model, device)\n",
        "summary = (\" \".join(summary)).replace(\"\\n\", \" \")\n",
        "\n",
        "print(f'predicted trg = {summary}')"
      ],
      "execution_count": null,
      "outputs": [
        {
          "output_type": "stream",
          "text": [
            "src = convicted boyfriend killer jodi arias is spending several hours a day video - chatting to fans from her prison cell . the murderer , who narrowly escaped the death penalty for the brutal slaying of travis alexander in 2008 , is said to be the most popular inmate getting video calls - many from girls as young as 15 . photos have surfaced showing arias pulling faces and showing off a hershey 's from the confines of the cell where she spends 23-hours - a - day . scroll down for video . all smiles : ' fans ' take snaps of murderer arias as she shows off a hershey 's bar and smiles to the camera during video chats from prison cell . last saturday alone , arias took 27 video calls in jail with pictures from some of those calls having leaked . with each call lasting up to 20 minutes , it means arias spent up to nine hours that day skyping with followers and fans from a laptop . poser : the 34-year - old killer was snapped by admirers who have been skyping with arias in her prison cell following her conviction for murder . arias , a 34-year - old former waitress from salinas , california , was found guilty of the murder in 2013 , but jurors at the original trial deadlocked on whether to give her the death penalty . prosecutors accuse arias of murdering her ex - partner , travis alexander , in a jealous rage , but she says she acted in self - defense . alexander , 30 , was found dead in a shower at his phoenix - area home . he had been stabbed multiple times , his throat was cut almost from ear to ear , and he had been shot in the face . sheriff joe arpaio revealed arias used the jails video system to tell two 15-year - old admirers they should use fake id 's so they could keep talking with her on the jail video call system . ' the mother told the girls to stop , and evidently the girls got back on and arias advised them to get some phony id 's so they could get back on there because you have to be 18-years - old , ' he said . other admirers who have been taking photos of\n",
            "\n",
            "trg = arias took 27 video calls in just one day from her jail cell . \n",
            " 10 people have been banned from calling her including two teenager girls . \n",
            " spending hours chatting as each phonecall can last up to 20 minutes . \n",
            " has led to demands for infamous murderer to lose jail privilege . \n",
            " arias sentenced to life in prison for boyfriend travis alexander 's murder . \n",
            " alexander was stabbed 30 times , slit in the throat , and shot in the forehead , in 2008 .\n",
            "\n",
            "predicted trg = arias , 34 , was convicted of murdering alexander arias , 34 , was convicted .   arias .   arias , 34 , was convicted of murdering her alexander arias , 34 , was convicted of murdering her alexander arias .   arias was convicted of murdering her alexander arias , 34 , was convicted of murdering her alexander arias .   arias was convicted of murdering her alexander arias , 34 , was convicted of murdering her alexander arias .   arias was convicted of murdering her alexander arias , 34 , was convicted of murdering her arias\n"
          ],
          "name": "stdout"
        }
      ]
    },
    {
      "cell_type": "code",
      "metadata": {
        "id": "DC3YLDZCOAfW",
        "colab": {
          "base_uri": "https://localhost:8080/"
        },
        "outputId": "80b4f1d6-fe1e-431f-a4fd-27dcee26c782"
      },
      "source": [
        "example_idx = 999\n",
        "\n",
        "src = vars(validation_data.examples[example_idx])['story']\n",
        "trg = vars(validation_data.examples[example_idx])['summary']\n",
        "\n",
        "print(f'src = {\" \".join(src)}\\n')\n",
        "print(f'trg = {\" \".join(trg)}\\n')\n",
        "\n",
        "summary, attention = make_summary(src, story_field, summary_field, model, device)\n",
        "summary = (\" \".join(summary)).replace(\"\\n\", \" \")\n",
        "\n",
        "print(f'predicted trg = {summary}')\n",
        "\n",
        "# Factually incorrect summary. Pointer-Generator should hopefully not repeat this mistake."
      ],
      "execution_count": null,
      "outputs": [
        {
          "output_type": "stream",
          "text": [
            "src = ( cnn)it was always going to take an extraordinary performance from a very talented swimmer to beat michael phelps at his favorite event in an olympic final . for more than a decade , the great american had vanquished all comers in the 200 meters butterfly on both the world and olympic stage , but then along came chad le clos . when the south african chased down phelps in the final 50 meters of the race to snatch a dramatic fingertip victory by 0.05 seconds he created one of the defining moments of the 2012 london olympics . as a 12-year - old , le clos had gazed into his television set at home in durban watching in awe as phelps , widely regarded as the greatest swimmer of all - time , won six olympic gold medals at athens in 2004 . so perhaps it 's not surprising that lining up alongside his hero in an olympic final eight years later took on a slightly surreal air . \" my dream was always to swim like michael phelps so when i raced against him in the final it was actually a crazy feeling , \" le clos tells cnn 's human to hero series . \" when i touched at 150 ( meters ) i think i was 1.5 meters behind him . when i turned i actually looked at him underwater and i thought i was him -- i know it sounds absolutely crazy , but i saw myself as him going past someone else . \" \" i remembered how he used to come off the last turn and , you know , smoke everyone ... i thought , he 's done this for so many years and i remembered that when i was swimming . i do n't know what it was but it was magical . \" the mind - altering moment quickly morphed into a life - changing experience for the then 20-year - old who edged out phelps in the final stroke . \" it was such a huge moment for south africa . obviously , to represent your country is a huge honor but to beat michael phelps at the olympics was amazing , \" he says . \" as a young kid everyone wants to be like their heroes but you do n't actually think one day that you 're\n",
            "\n",
            "trg = south african swimmer stunned michael phelps at 2012 london olympics . \n",
            " after defeating his childhood idol , le clos has dominated 100 m and 200 m butterfly . \n",
            " his father bert is also famous for joyful celebrations following son 's win in london . \n",
            " the 22-year - old is hoping to square up to phelps again at rio in 2016 .\n",
            "\n",
            "predicted trg = michael phelps wins phelps phelps won olympic gold medal .   phelps won bronze medal in olympic games in olympic games .   phelps won bronze medal bronze medal in olympic games .   phelps won bronze medal bronze medal in olympic games . <eos>\n"
          ],
          "name": "stdout"
        }
      ]
    },
    {
      "cell_type": "code",
      "metadata": {
        "id": "wOMDcqSvOTrO",
        "colab": {
          "base_uri": "https://localhost:8080/"
        },
        "outputId": "36d74a66-e2ec-4068-ded3-4c0104944377"
      },
      "source": [
        "example_idx = 124\n",
        "\n",
        "src = vars(validation_data.examples[example_idx])['story']\n",
        "trg = vars(validation_data.examples[example_idx])['summary']\n",
        "\n",
        "print(f'src = {\" \".join(src)}\\n')\n",
        "print(f'trg = {\" \".join(trg)}\\n')\n",
        "\n",
        "summary, attention = make_summary(src, story_field, summary_field, model, device)\n",
        "summary = (\" \".join(summary)).replace(\"\\n\", \" \")\n",
        "\n",
        "print(f'predicted trg = {summary}')"
      ],
      "execution_count": null,
      "outputs": [
        {
          "output_type": "stream",
          "text": [
            "src = ( cnn)former manchester united star danny welbeck returned to haunt his old side to send holders arsenal into the semifinals of the fa cup with a 2 - 1 victory at old trafford monday . the england striker was surplus to requirements at louis van gaal 's united , but was quick to capitalize on a mistake by antonio valencia to grab the winner just after the hour mark . a disappointing night for united was compounded by a late red card for argentina international angel di maria , who was given his marching orders after manhandling referee michael oliver . di maria was initially booked for simulation and took his protests too far by grabbing the official , which led to his instant dismissal . with 10 men , united was never able to exert any real pressure on arsenal and it took two fine saves david de gea to deny further goals from santi cazorla and alexis sanchez for the away side . victory for arsenal booked a return to wembley for a last four clash with either reading or bradford city , who are replaying their quarterfinal tie next monday . liverpool or blackburn rovers will play aston villa in the other semifinal . arsenal had taken a 25th minute lead through nacho monreal , the spanish defender converting after fine move which involved mesut ozil and alex oxlade - chamberlain . but the advantage was short lived with di maria finding wayne rooney to score with a diving header . united looked to press ahead for the winner , but home hopes were dashed when valencia made a hash of a back pass and welbeck was quick to latch on to the loose ball and beat de gea . ' i believe it was justice for him to score he worked extremely hard today , ' arsenal manager arsene wenger said of welbeck . his counterpart van gaal will now , barring a miracle , be left without a trophy in his first season in charge of the english powerhouses , with the pressure now on to seal a top four place in the epl to guarantee champions league football next season .\n",
            "\n",
            "trg = arsenal beats man utd 2 - 1 in fa cup quarterfinal . \n",
            " former manchester united player danny welbeck scores winner . \n",
            " holders arsenal took the lead through nacho monreal before wayne rooney equalized . \n",
            " angel di maria sent off for shoving referee in second half .\n",
            "\n",
            "predicted trg = manchester united beat manchester united 2 - 1 fa cup in manchester united .   manchester united striker was to to the united .   manchester united .   manchester united striker to manchester united .   manchester united .   manchester united striker to manchester united . <eos>\n"
          ],
          "name": "stdout"
        }
      ]
    },
    {
      "cell_type": "code",
      "metadata": {
        "id": "NS-ThDDCJ-rd",
        "colab": {
          "base_uri": "https://localhost:8080/"
        },
        "outputId": "9afaf49c-f17a-4f43-b6f8-c998f4433332"
      },
      "source": [
        "example_idx = 12\n",
        "\n",
        "src = vars(test_data.examples[example_idx])['story']\n",
        "trg = vars(test_data.examples[example_idx])['summary']\n",
        "\n",
        "print(f'src = {\" \".join(src)}\\n')\n",
        "print(f'trg = {\" \".join(trg)}\\n')\n",
        "\n",
        "summary, attention = make_summary(src, story_field, summary_field, model, device)\n",
        "summary = (\" \".join(summary)).replace(\"\\n\", \" \")\n",
        "\n",
        "print(f'predicted trg = {summary}')"
      ],
      "execution_count": null,
      "outputs": [
        {
          "output_type": "stream",
          "text": [
            "src = ( cnn)more than 500 houthi rebels have been killed since the start of saudi - led military operations against yemeni shia fighters , a saudi defense ministry official said saturday , according to the state - run saudi press agency . a saudi general said saturday the nine - nation coalition has undertaken 1,200 airstrikes since they began on march 26 . gen. ahmed asiri added that the raids aim to keep the rebels from moving toward southern yemen ,   according to the spa . clashes took place friday near the saudi - yemeni border , in the najran region . saudi forces responded to mortar rounds fired by houthis on a saudi border site . three saudi military officers were killed and two others were wounded in the shelling , a defense official said , according to spa . a saudi source also confirmed to cnn 's nic robertson that three saudi soldiers were killed in the shelling . the yemeni health ministry on saturday said 385 civilians have been killed and 342 others have been wounded . the world health organization has put higher figure on both tolls -- 648 killed and 2,191 wounded -- but includes militant casualties in the totals . yemen has been descending into chaos in the weeks since houthi rebels -- minority shiites who have long complained of being marginalized in the majority sunni country -- forced yemeni president abdu rabu mansour hadi from power in january . and even before the crisis escalated with the saudi airstrikes , most of the 25 million people in yemen required humanitarian assistance to meet their most basic needs , the united nations said friday . cnn 's pierre meilhan and mohammed tawfeeq contributed to this report .\n",
            "\n",
            "trg = saudi general says more than 1,200 airstrikes since campaign began march 26 . \n",
            " three saudis were killed in attack on border position , source tells cnn .\n",
            "\n",
            "predicted trg = the least three yemeni fighters have killed in yemen , yemen .   interior ministry says .   the least three rebels have killed in yemen .   interior ministry says .   the least three civilians killed wounded in yemen , yemen . <eos>\n"
          ],
          "name": "stdout"
        }
      ]
    },
    {
      "cell_type": "code",
      "metadata": {
        "id": "upmXJcMqKAL4"
      },
      "source": [
        "def make_html_safe(s):\n",
        "  s.replace(\"<\", \"&lt;\")\n",
        "  s.replace(\">\", \"&gt;\")\n",
        "  return s"
      ],
      "execution_count": null,
      "outputs": []
    },
    {
      "cell_type": "code",
      "metadata": {
        "id": "zxZBD_bS3UrG"
      },
      "source": [
        "!rm -rf predicted\n",
        "!rm -rf target\n",
        "!mkdir predicted\n",
        "!mkdir target"
      ],
      "execution_count": null,
      "outputs": []
    },
    {
      "cell_type": "code",
      "metadata": {
        "id": "UJDrwwDTKByC"
      },
      "source": [
        "def store_data(data, src_field, trg_field, model, device, max_len = 100):\n",
        "    \n",
        "    trgs = []\n",
        "    pred_trgs = []\n",
        "    idx = 1\n",
        "    cnt = 0\n",
        "    for datum in data:\n",
        "        cnt += 1\n",
        "        if cnt == 100:\n",
        "          break\n",
        "        src = vars(datum)['story']\n",
        "        trg = vars(datum)['summary']\n",
        "        \n",
        "        src = ' '.join(src)\n",
        "        trg = ' '.join(trg)\n",
        "        pred_trg, _ = make_summary(src, src_field, trg_field, model, device, max_len)\n",
        "        pred_trg = pred_trg[:-1]\n",
        "        pred_trg = ' '.join(pred_trg)\n",
        "\n",
        "        trg = trg.replace(\"\\n\", \"\")\n",
        "        pred_trg = pred_trg.replace(\"\\n\", \"\")\n",
        "        trg = trg.split(\".\")\n",
        "        pred_trg = pred_trg.split(\".\")\n",
        "\n",
        "        trg = \"\\n\".join(trg)\n",
        "        pred_trg = \"\\n\".join(pred_trg)\n",
        "        trg = make_html_safe(trg)\n",
        "        pred_trg = make_html_safe(pred_trg)\n",
        "\n",
        "        pred_file = open(\"./predicted/file.\" + str(idx) + \".txt\", \"w+\")\n",
        "        trg_file = open(\"./target/file.\" + str(idx) +\".txt\", \"w+\")\n",
        "\n",
        "        pred_file.write(pred_trg)\n",
        "        trg_file.write(trg)\n",
        "        pred_file.close()\n",
        "        trg_file.close()\n",
        "        idx += 1\n",
        "        #cut off <eos> token\n",
        "        # \n",
        "        \n",
        "        # pred_trgs.append(pred_trg)\n",
        "        # trgs.append([trg])\n",
        "        \n",
        "    # return bleu_score(pred_trgs, trgs)"
      ],
      "execution_count": null,
      "outputs": []
    },
    {
      "cell_type": "code",
      "metadata": {
        "id": "S6gZhOh_KFi-"
      },
      "source": [
        "# !mkdir predicted\n",
        "# !mkdir targety\n",
        "store_data(test_data, story_field, summary_field, model, device)"
      ],
      "execution_count": null,
      "outputs": []
    },
    {
      "cell_type": "code",
      "metadata": {
        "id": "ccgwlsdqlEGQ"
      },
      "source": [
        "!cp -r target \"./drive/My Drive/IRE\"\n",
        "!cp -r predicted \"./drive/My Drive/IRE\"\n",
        "# !pip install pyrouge\n",
        "# !ls target"
      ],
      "execution_count": null,
      "outputs": []
    },
    {
      "cell_type": "code",
      "metadata": {
        "id": "A70T1a5PlmcC",
        "colab": {
          "base_uri": "https://localhost:8080/",
          "height": 1000
        },
        "outputId": "e3515004-3a90-4b97-fc71-1dcc166a5be5"
      },
      "source": [
        "from pyrouge import Rouge155\n",
        "\n",
        "r = Rouge155('pythonrouge/pythonrouge/RELEASE-1.5.5')\n",
        "r.system_dir = './predicted/'\n",
        "r.model_dir = './target'\n",
        "r.system_filename_pattern = 'file.(\\d+).txt'\n",
        "r.model_filename_pattern = 'file.#ID#.txt'\n",
        "\n",
        "output = r.convert_and_evaluate()\n",
        "print(output)\n",
        "output_dict = r.output_to_dict(output)"
      ],
      "execution_count": null,
      "outputs": [
        {
          "output_type": "stream",
          "text": [
            "2020-10-28 06:26:11,064 [MainThread  ] [INFO ]  Set ROUGE home directory to pythonrouge/pythonrouge/RELEASE-1.5.5.\n",
            "2020-10-28 06:26:11,065 [MainThread  ] [INFO ]  Writing summaries.\n",
            "2020-10-28 06:26:11,067 [MainThread  ] [INFO ]  Processing summaries. Saving system files to /tmp/tmp8rlkuve6/system and model files to /tmp/tmp8rlkuve6/model.\n",
            "2020-10-28 06:26:11,068 [MainThread  ] [INFO ]  Processing files in ./predicted/.\n",
            "2020-10-28 06:26:11,070 [MainThread  ] [INFO ]  Processing file.90.txt.\n",
            "2020-10-28 06:26:11,072 [MainThread  ] [INFO ]  Processing file.83.txt.\n",
            "2020-10-28 06:26:11,073 [MainThread  ] [INFO ]  Processing file.14.txt.\n",
            "2020-10-28 06:26:11,074 [MainThread  ] [INFO ]  Processing file.63.txt.\n",
            "2020-10-28 06:26:11,076 [MainThread  ] [INFO ]  Processing file.34.txt.\n",
            "2020-10-28 06:26:11,078 [MainThread  ] [INFO ]  Processing file.18.txt.\n",
            "2020-10-28 06:26:11,080 [MainThread  ] [INFO ]  Processing file.55.txt.\n",
            "2020-10-28 06:26:11,081 [MainThread  ] [INFO ]  Processing file.57.txt.\n",
            "2020-10-28 06:26:11,083 [MainThread  ] [INFO ]  Processing file.53.txt.\n",
            "2020-10-28 06:26:11,085 [MainThread  ] [INFO ]  Processing file.44.txt.\n",
            "2020-10-28 06:26:11,087 [MainThread  ] [INFO ]  Processing file.88.txt.\n",
            "2020-10-28 06:26:11,089 [MainThread  ] [INFO ]  Processing file.45.txt.\n",
            "2020-10-28 06:26:11,090 [MainThread  ] [INFO ]  Processing file.36.txt.\n",
            "2020-10-28 06:26:11,092 [MainThread  ] [INFO ]  Processing file.62.txt.\n",
            "2020-10-28 06:26:11,094 [MainThread  ] [INFO ]  Processing file.23.txt.\n",
            "2020-10-28 06:26:11,095 [MainThread  ] [INFO ]  Processing file.56.txt.\n",
            "2020-10-28 06:26:11,096 [MainThread  ] [INFO ]  Processing file.46.txt.\n",
            "2020-10-28 06:26:11,097 [MainThread  ] [INFO ]  Processing file.40.txt.\n",
            "2020-10-28 06:26:11,098 [MainThread  ] [INFO ]  Processing file.92.txt.\n",
            "2020-10-28 06:26:11,099 [MainThread  ] [INFO ]  Processing file.98.txt.\n",
            "2020-10-28 06:26:11,100 [MainThread  ] [INFO ]  Processing file.38.txt.\n",
            "2020-10-28 06:26:11,101 [MainThread  ] [INFO ]  Processing file.52.txt.\n",
            "2020-10-28 06:26:11,102 [MainThread  ] [INFO ]  Processing file.93.txt.\n",
            "2020-10-28 06:26:11,103 [MainThread  ] [INFO ]  Processing file.48.txt.\n",
            "2020-10-28 06:26:11,105 [MainThread  ] [INFO ]  Processing file.69.txt.\n",
            "2020-10-28 06:26:11,106 [MainThread  ] [INFO ]  Processing file.73.txt.\n",
            "2020-10-28 06:26:11,107 [MainThread  ] [INFO ]  Processing file.81.txt.\n",
            "2020-10-28 06:26:11,108 [MainThread  ] [INFO ]  Processing file.4.txt.\n",
            "2020-10-28 06:26:11,109 [MainThread  ] [INFO ]  Processing file.87.txt.\n",
            "2020-10-28 06:26:11,110 [MainThread  ] [INFO ]  Processing file.11.txt.\n",
            "2020-10-28 06:26:11,111 [MainThread  ] [INFO ]  Processing file.50.txt.\n",
            "2020-10-28 06:26:11,112 [MainThread  ] [INFO ]  Processing file.68.txt.\n",
            "2020-10-28 06:26:11,114 [MainThread  ] [INFO ]  Processing file.43.txt.\n",
            "2020-10-28 06:26:11,115 [MainThread  ] [INFO ]  Processing file.59.txt.\n",
            "2020-10-28 06:26:11,116 [MainThread  ] [INFO ]  Processing file.97.txt.\n",
            "2020-10-28 06:26:11,117 [MainThread  ] [INFO ]  Processing file.91.txt.\n",
            "2020-10-28 06:26:11,119 [MainThread  ] [INFO ]  Processing file.96.txt.\n",
            "2020-10-28 06:26:11,120 [MainThread  ] [INFO ]  Processing file.35.txt.\n",
            "2020-10-28 06:26:11,121 [MainThread  ] [INFO ]  Processing file.49.txt.\n",
            "2020-10-28 06:26:11,122 [MainThread  ] [INFO ]  Processing file.80.txt.\n",
            "2020-10-28 06:26:11,123 [MainThread  ] [INFO ]  Processing file.72.txt.\n",
            "2020-10-28 06:26:11,124 [MainThread  ] [INFO ]  Processing file.95.txt.\n",
            "2020-10-28 06:26:11,126 [MainThread  ] [INFO ]  Processing file.22.txt.\n",
            "2020-10-28 06:26:11,127 [MainThread  ] [INFO ]  Processing file.6.txt.\n",
            "2020-10-28 06:26:11,128 [MainThread  ] [INFO ]  Processing file.15.txt.\n",
            "2020-10-28 06:26:11,129 [MainThread  ] [INFO ]  Processing file.58.txt.\n",
            "2020-10-28 06:26:11,131 [MainThread  ] [INFO ]  Processing file.71.txt.\n",
            "2020-10-28 06:26:11,132 [MainThread  ] [INFO ]  Processing file.19.txt.\n",
            "2020-10-28 06:26:11,133 [MainThread  ] [INFO ]  Processing file.9.txt.\n",
            "2020-10-28 06:26:11,134 [MainThread  ] [INFO ]  Processing file.26.txt.\n",
            "2020-10-28 06:26:11,135 [MainThread  ] [INFO ]  Processing file.78.txt.\n",
            "2020-10-28 06:26:11,136 [MainThread  ] [INFO ]  Processing file.12.txt.\n",
            "2020-10-28 06:26:11,138 [MainThread  ] [INFO ]  Processing file.2.txt.\n",
            "2020-10-28 06:26:11,139 [MainThread  ] [INFO ]  Processing file.82.txt.\n",
            "2020-10-28 06:26:11,140 [MainThread  ] [INFO ]  Processing file.27.txt.\n",
            "2020-10-28 06:26:11,143 [MainThread  ] [INFO ]  Processing file.94.txt.\n",
            "2020-10-28 06:26:11,144 [MainThread  ] [INFO ]  Processing file.67.txt.\n",
            "2020-10-28 06:26:11,145 [MainThread  ] [INFO ]  Processing file.65.txt.\n",
            "2020-10-28 06:26:11,146 [MainThread  ] [INFO ]  Processing file.31.txt.\n",
            "2020-10-28 06:26:11,147 [MainThread  ] [INFO ]  Processing file.17.txt.\n",
            "2020-10-28 06:26:11,148 [MainThread  ] [INFO ]  Processing file.60.txt.\n",
            "2020-10-28 06:26:11,149 [MainThread  ] [INFO ]  Processing file.54.txt.\n",
            "2020-10-28 06:26:11,151 [MainThread  ] [INFO ]  Processing file.76.txt.\n",
            "2020-10-28 06:26:11,152 [MainThread  ] [INFO ]  Processing file.29.txt.\n",
            "2020-10-28 06:26:11,154 [MainThread  ] [INFO ]  Processing file.3.txt.\n",
            "2020-10-28 06:26:11,155 [MainThread  ] [INFO ]  Processing file.24.txt.\n",
            "2020-10-28 06:26:11,156 [MainThread  ] [INFO ]  Processing file.86.txt.\n",
            "2020-10-28 06:26:11,157 [MainThread  ] [INFO ]  Processing file.61.txt.\n",
            "2020-10-28 06:26:11,158 [MainThread  ] [INFO ]  Processing file.42.txt.\n",
            "2020-10-28 06:26:11,159 [MainThread  ] [INFO ]  Processing file.74.txt.\n",
            "2020-10-28 06:26:11,160 [MainThread  ] [INFO ]  Processing file.39.txt.\n",
            "2020-10-28 06:26:11,161 [MainThread  ] [INFO ]  Processing file.77.txt.\n",
            "2020-10-28 06:26:11,162 [MainThread  ] [INFO ]  Processing file.8.txt.\n",
            "2020-10-28 06:26:11,165 [MainThread  ] [INFO ]  Processing file.79.txt.\n",
            "2020-10-28 06:26:11,166 [MainThread  ] [INFO ]  Processing file.32.txt.\n",
            "2020-10-28 06:26:11,167 [MainThread  ] [INFO ]  Processing file.21.txt.\n",
            "2020-10-28 06:26:11,169 [MainThread  ] [INFO ]  Processing file.70.txt.\n",
            "2020-10-28 06:26:11,170 [MainThread  ] [INFO ]  Processing file.75.txt.\n",
            "2020-10-28 06:26:11,171 [MainThread  ] [INFO ]  Processing file.13.txt.\n",
            "2020-10-28 06:26:11,172 [MainThread  ] [INFO ]  Processing file.37.txt.\n",
            "2020-10-28 06:26:11,173 [MainThread  ] [INFO ]  Processing file.99.txt.\n",
            "2020-10-28 06:26:11,174 [MainThread  ] [INFO ]  Processing file.66.txt.\n",
            "2020-10-28 06:26:11,175 [MainThread  ] [INFO ]  Processing file.25.txt.\n",
            "2020-10-28 06:26:11,176 [MainThread  ] [INFO ]  Processing file.10.txt.\n",
            "2020-10-28 06:26:11,177 [MainThread  ] [INFO ]  Processing file.7.txt.\n",
            "2020-10-28 06:26:11,178 [MainThread  ] [INFO ]  Processing file.89.txt.\n",
            "2020-10-28 06:26:11,180 [MainThread  ] [INFO ]  Processing file.20.txt.\n",
            "2020-10-28 06:26:11,181 [MainThread  ] [INFO ]  Processing file.28.txt.\n",
            "2020-10-28 06:26:11,182 [MainThread  ] [INFO ]  Processing file.47.txt.\n",
            "2020-10-28 06:26:11,183 [MainThread  ] [INFO ]  Processing file.84.txt.\n",
            "2020-10-28 06:26:11,184 [MainThread  ] [INFO ]  Processing file.51.txt.\n",
            "2020-10-28 06:26:11,185 [MainThread  ] [INFO ]  Processing file.64.txt.\n",
            "2020-10-28 06:26:11,186 [MainThread  ] [INFO ]  Processing file.30.txt.\n",
            "2020-10-28 06:26:11,188 [MainThread  ] [INFO ]  Processing file.41.txt.\n",
            "2020-10-28 06:26:11,189 [MainThread  ] [INFO ]  Processing file.85.txt.\n",
            "2020-10-28 06:26:11,190 [MainThread  ] [INFO ]  Processing file.16.txt.\n",
            "2020-10-28 06:26:11,191 [MainThread  ] [INFO ]  Processing file.5.txt.\n",
            "2020-10-28 06:26:11,192 [MainThread  ] [INFO ]  Processing file.33.txt.\n",
            "2020-10-28 06:26:11,194 [MainThread  ] [INFO ]  Processing file.1.txt.\n",
            "2020-10-28 06:26:11,195 [MainThread  ] [INFO ]  Saved processed files to /tmp/tmp8rlkuve6/system.\n",
            "2020-10-28 06:26:11,196 [MainThread  ] [INFO ]  Processing files in ./target.\n",
            "2020-10-28 06:26:11,196 [MainThread  ] [INFO ]  Processing file.90.txt.\n",
            "2020-10-28 06:26:11,197 [MainThread  ] [INFO ]  Processing file.83.txt.\n",
            "2020-10-28 06:26:11,198 [MainThread  ] [INFO ]  Processing file.14.txt.\n",
            "2020-10-28 06:26:11,200 [MainThread  ] [INFO ]  Processing file.63.txt.\n",
            "2020-10-28 06:26:11,201 [MainThread  ] [INFO ]  Processing file.34.txt.\n",
            "2020-10-28 06:26:11,202 [MainThread  ] [INFO ]  Processing file.18.txt.\n",
            "2020-10-28 06:26:11,212 [MainThread  ] [INFO ]  Processing file.55.txt.\n",
            "2020-10-28 06:26:11,214 [MainThread  ] [INFO ]  Processing file.57.txt.\n",
            "2020-10-28 06:26:11,217 [MainThread  ] [INFO ]  Processing file.53.txt.\n",
            "2020-10-28 06:26:11,217 [MainThread  ] [INFO ]  Processing file.44.txt.\n",
            "2020-10-28 06:26:11,219 [MainThread  ] [INFO ]  Processing file.88.txt.\n",
            "2020-10-28 06:26:11,221 [MainThread  ] [INFO ]  Processing file.45.txt.\n",
            "2020-10-28 06:26:11,222 [MainThread  ] [INFO ]  Processing file.36.txt.\n",
            "2020-10-28 06:26:11,228 [MainThread  ] [INFO ]  Processing file.62.txt.\n",
            "2020-10-28 06:26:11,231 [MainThread  ] [INFO ]  Processing file.23.txt.\n",
            "2020-10-28 06:26:11,232 [MainThread  ] [INFO ]  Processing file.56.txt.\n",
            "2020-10-28 06:26:11,233 [MainThread  ] [INFO ]  Processing file.46.txt.\n",
            "2020-10-28 06:26:11,234 [MainThread  ] [INFO ]  Processing file.40.txt.\n",
            "2020-10-28 06:26:11,235 [MainThread  ] [INFO ]  Processing file.92.txt.\n",
            "2020-10-28 06:26:11,236 [MainThread  ] [INFO ]  Processing file.98.txt.\n",
            "2020-10-28 06:26:11,237 [MainThread  ] [INFO ]  Processing file.38.txt.\n",
            "2020-10-28 06:26:11,238 [MainThread  ] [INFO ]  Processing file.52.txt.\n",
            "2020-10-28 06:26:11,239 [MainThread  ] [INFO ]  Processing file.93.txt.\n",
            "2020-10-28 06:26:11,240 [MainThread  ] [INFO ]  Processing file.48.txt.\n",
            "2020-10-28 06:26:11,242 [MainThread  ] [INFO ]  Processing file.69.txt.\n",
            "2020-10-28 06:26:11,243 [MainThread  ] [INFO ]  Processing file.73.txt.\n",
            "2020-10-28 06:26:11,244 [MainThread  ] [INFO ]  Processing file.81.txt.\n",
            "2020-10-28 06:26:11,245 [MainThread  ] [INFO ]  Processing file.4.txt.\n",
            "2020-10-28 06:26:11,246 [MainThread  ] [INFO ]  Processing file.87.txt.\n",
            "2020-10-28 06:26:11,247 [MainThread  ] [INFO ]  Processing file.11.txt.\n",
            "2020-10-28 06:26:11,248 [MainThread  ] [INFO ]  Processing file.50.txt.\n",
            "2020-10-28 06:26:11,249 [MainThread  ] [INFO ]  Processing file.68.txt.\n",
            "2020-10-28 06:26:11,250 [MainThread  ] [INFO ]  Processing file.43.txt.\n",
            "2020-10-28 06:26:11,251 [MainThread  ] [INFO ]  Processing file.59.txt.\n",
            "2020-10-28 06:26:11,252 [MainThread  ] [INFO ]  Processing file.97.txt.\n",
            "2020-10-28 06:26:11,252 [MainThread  ] [INFO ]  Processing file.91.txt.\n",
            "2020-10-28 06:26:11,254 [MainThread  ] [INFO ]  Processing file.96.txt.\n",
            "2020-10-28 06:26:11,254 [MainThread  ] [INFO ]  Processing file.35.txt.\n",
            "2020-10-28 06:26:11,255 [MainThread  ] [INFO ]  Processing file.49.txt.\n",
            "2020-10-28 06:26:11,257 [MainThread  ] [INFO ]  Processing file.80.txt.\n",
            "2020-10-28 06:26:11,258 [MainThread  ] [INFO ]  Processing file.72.txt.\n",
            "2020-10-28 06:26:11,259 [MainThread  ] [INFO ]  Processing file.95.txt.\n",
            "2020-10-28 06:26:11,260 [MainThread  ] [INFO ]  Processing file.22.txt.\n",
            "2020-10-28 06:26:11,261 [MainThread  ] [INFO ]  Processing file.6.txt.\n",
            "2020-10-28 06:26:11,262 [MainThread  ] [INFO ]  Processing file.15.txt.\n",
            "2020-10-28 06:26:11,263 [MainThread  ] [INFO ]  Processing file.58.txt.\n",
            "2020-10-28 06:26:11,264 [MainThread  ] [INFO ]  Processing file.71.txt.\n",
            "2020-10-28 06:26:11,265 [MainThread  ] [INFO ]  Processing file.19.txt.\n",
            "2020-10-28 06:26:11,266 [MainThread  ] [INFO ]  Processing file.9.txt.\n",
            "2020-10-28 06:26:11,267 [MainThread  ] [INFO ]  Processing file.26.txt.\n",
            "2020-10-28 06:26:11,268 [MainThread  ] [INFO ]  Processing file.78.txt.\n",
            "2020-10-28 06:26:11,269 [MainThread  ] [INFO ]  Processing file.12.txt.\n",
            "2020-10-28 06:26:11,270 [MainThread  ] [INFO ]  Processing file.2.txt.\n",
            "2020-10-28 06:26:11,271 [MainThread  ] [INFO ]  Processing file.82.txt.\n",
            "2020-10-28 06:26:11,273 [MainThread  ] [INFO ]  Processing file.27.txt.\n",
            "2020-10-28 06:26:11,274 [MainThread  ] [INFO ]  Processing file.94.txt.\n",
            "2020-10-28 06:26:11,276 [MainThread  ] [INFO ]  Processing file.67.txt.\n",
            "2020-10-28 06:26:11,276 [MainThread  ] [INFO ]  Processing file.65.txt.\n",
            "2020-10-28 06:26:11,278 [MainThread  ] [INFO ]  Processing file.31.txt.\n",
            "2020-10-28 06:26:11,278 [MainThread  ] [INFO ]  Processing file.17.txt.\n",
            "2020-10-28 06:26:11,279 [MainThread  ] [INFO ]  Processing file.60.txt.\n",
            "2020-10-28 06:26:11,281 [MainThread  ] [INFO ]  Processing file.54.txt.\n",
            "2020-10-28 06:26:11,281 [MainThread  ] [INFO ]  Processing file.76.txt.\n",
            "2020-10-28 06:26:11,283 [MainThread  ] [INFO ]  Processing file.29.txt.\n",
            "2020-10-28 06:26:11,283 [MainThread  ] [INFO ]  Processing file.3.txt.\n",
            "2020-10-28 06:26:11,284 [MainThread  ] [INFO ]  Processing file.24.txt.\n",
            "2020-10-28 06:26:11,285 [MainThread  ] [INFO ]  Processing file.86.txt.\n",
            "2020-10-28 06:26:11,287 [MainThread  ] [INFO ]  Processing file.61.txt.\n",
            "2020-10-28 06:26:11,288 [MainThread  ] [INFO ]  Processing file.42.txt.\n",
            "2020-10-28 06:26:11,289 [MainThread  ] [INFO ]  Processing file.74.txt.\n",
            "2020-10-28 06:26:11,290 [MainThread  ] [INFO ]  Processing file.39.txt.\n",
            "2020-10-28 06:26:11,291 [MainThread  ] [INFO ]  Processing file.77.txt.\n",
            "2020-10-28 06:26:11,292 [MainThread  ] [INFO ]  Processing file.8.txt.\n",
            "2020-10-28 06:26:11,293 [MainThread  ] [INFO ]  Processing file.79.txt.\n",
            "2020-10-28 06:26:11,294 [MainThread  ] [INFO ]  Processing file.32.txt.\n",
            "2020-10-28 06:26:11,295 [MainThread  ] [INFO ]  Processing file.21.txt.\n",
            "2020-10-28 06:26:11,296 [MainThread  ] [INFO ]  Processing file.70.txt.\n",
            "2020-10-28 06:26:11,297 [MainThread  ] [INFO ]  Processing file.75.txt.\n",
            "2020-10-28 06:26:11,298 [MainThread  ] [INFO ]  Processing file.13.txt.\n",
            "2020-10-28 06:26:11,299 [MainThread  ] [INFO ]  Processing file.37.txt.\n",
            "2020-10-28 06:26:11,300 [MainThread  ] [INFO ]  Processing file.99.txt.\n",
            "2020-10-28 06:26:11,302 [MainThread  ] [INFO ]  Processing file.66.txt.\n",
            "2020-10-28 06:26:11,303 [MainThread  ] [INFO ]  Processing file.25.txt.\n",
            "2020-10-28 06:26:11,304 [MainThread  ] [INFO ]  Processing file.10.txt.\n",
            "2020-10-28 06:26:11,305 [MainThread  ] [INFO ]  Processing file.7.txt.\n",
            "2020-10-28 06:26:11,306 [MainThread  ] [INFO ]  Processing file.89.txt.\n",
            "2020-10-28 06:26:11,307 [MainThread  ] [INFO ]  Processing file.20.txt.\n",
            "2020-10-28 06:26:11,308 [MainThread  ] [INFO ]  Processing file.28.txt.\n",
            "2020-10-28 06:26:11,309 [MainThread  ] [INFO ]  Processing file.47.txt.\n",
            "2020-10-28 06:26:11,310 [MainThread  ] [INFO ]  Processing file.84.txt.\n",
            "2020-10-28 06:26:11,311 [MainThread  ] [INFO ]  Processing file.51.txt.\n",
            "2020-10-28 06:26:11,312 [MainThread  ] [INFO ]  Processing file.64.txt.\n",
            "2020-10-28 06:26:11,313 [MainThread  ] [INFO ]  Processing file.30.txt.\n",
            "2020-10-28 06:26:11,314 [MainThread  ] [INFO ]  Processing file.41.txt.\n",
            "2020-10-28 06:26:11,316 [MainThread  ] [INFO ]  Processing file.85.txt.\n",
            "2020-10-28 06:26:11,317 [MainThread  ] [INFO ]  Processing file.16.txt.\n",
            "2020-10-28 06:26:11,318 [MainThread  ] [INFO ]  Processing file.5.txt.\n",
            "2020-10-28 06:26:11,319 [MainThread  ] [INFO ]  Processing file.33.txt.\n",
            "2020-10-28 06:26:11,320 [MainThread  ] [INFO ]  Processing file.1.txt.\n",
            "2020-10-28 06:26:11,322 [MainThread  ] [INFO ]  Saved processed files to /tmp/tmp8rlkuve6/model.\n",
            "2020-10-28 06:26:11,393 [MainThread  ] [INFO ]  Written ROUGE configuration to /tmp/tmpsjuyy15s/rouge_conf.xml\n",
            "2020-10-28 06:26:11,394 [MainThread  ] [INFO ]  Running ROUGE with command pythonrouge/pythonrouge/RELEASE-1.5.5/ROUGE-1.5.5.pl -e pythonrouge/pythonrouge/RELEASE-1.5.5/data -c 95 -2 -1 -U -r 1000 -n 4 -w 1.2 -a -m /tmp/tmpsjuyy15s/rouge_conf.xml\n"
          ],
          "name": "stderr"
        },
        {
          "output_type": "error",
          "ename": "CalledProcessError",
          "evalue": "ignored",
          "traceback": [
            "\u001b[0;31m---------------------------------------------------------------------------\u001b[0m",
            "\u001b[0;31mCalledProcessError\u001b[0m                        Traceback (most recent call last)",
            "\u001b[0;32m<ipython-input-54-d0f7e5865ab9>\u001b[0m in \u001b[0;36m<module>\u001b[0;34m()\u001b[0m\n\u001b[1;32m      7\u001b[0m \u001b[0mr\u001b[0m\u001b[0;34m.\u001b[0m\u001b[0mmodel_filename_pattern\u001b[0m \u001b[0;34m=\u001b[0m \u001b[0;34m'file.#ID#.txt'\u001b[0m\u001b[0;34m\u001b[0m\u001b[0;34m\u001b[0m\u001b[0m\n\u001b[1;32m      8\u001b[0m \u001b[0;34m\u001b[0m\u001b[0m\n\u001b[0;32m----> 9\u001b[0;31m \u001b[0moutput\u001b[0m \u001b[0;34m=\u001b[0m \u001b[0mr\u001b[0m\u001b[0;34m.\u001b[0m\u001b[0mconvert_and_evaluate\u001b[0m\u001b[0;34m(\u001b[0m\u001b[0;34m)\u001b[0m\u001b[0;34m\u001b[0m\u001b[0;34m\u001b[0m\u001b[0m\n\u001b[0m\u001b[1;32m     10\u001b[0m \u001b[0mprint\u001b[0m\u001b[0;34m(\u001b[0m\u001b[0moutput\u001b[0m\u001b[0;34m)\u001b[0m\u001b[0;34m\u001b[0m\u001b[0;34m\u001b[0m\u001b[0m\n\u001b[1;32m     11\u001b[0m \u001b[0moutput_dict\u001b[0m \u001b[0;34m=\u001b[0m \u001b[0mr\u001b[0m\u001b[0;34m.\u001b[0m\u001b[0moutput_to_dict\u001b[0m\u001b[0;34m(\u001b[0m\u001b[0moutput\u001b[0m\u001b[0;34m)\u001b[0m\u001b[0;34m\u001b[0m\u001b[0;34m\u001b[0m\u001b[0m\n",
            "\u001b[0;32m/usr/local/lib/python3.6/dist-packages/pyrouge/Rouge155.py\u001b[0m in \u001b[0;36mconvert_and_evaluate\u001b[0;34m(self, system_id, split_sentences, rouge_args)\u001b[0m\n\u001b[1;32m    359\u001b[0m             \u001b[0mself\u001b[0m\u001b[0;34m.\u001b[0m\u001b[0msplit_sentences\u001b[0m\u001b[0;34m(\u001b[0m\u001b[0;34m)\u001b[0m\u001b[0;34m\u001b[0m\u001b[0;34m\u001b[0m\u001b[0m\n\u001b[1;32m    360\u001b[0m         \u001b[0mself\u001b[0m\u001b[0;34m.\u001b[0m\u001b[0m__write_summaries\u001b[0m\u001b[0;34m(\u001b[0m\u001b[0;34m)\u001b[0m\u001b[0;34m\u001b[0m\u001b[0;34m\u001b[0m\u001b[0m\n\u001b[0;32m--> 361\u001b[0;31m         \u001b[0mrouge_output\u001b[0m \u001b[0;34m=\u001b[0m \u001b[0mself\u001b[0m\u001b[0;34m.\u001b[0m\u001b[0mevaluate\u001b[0m\u001b[0;34m(\u001b[0m\u001b[0msystem_id\u001b[0m\u001b[0;34m,\u001b[0m \u001b[0mrouge_args\u001b[0m\u001b[0;34m)\u001b[0m\u001b[0;34m\u001b[0m\u001b[0;34m\u001b[0m\u001b[0m\n\u001b[0m\u001b[1;32m    362\u001b[0m         \u001b[0;32mreturn\u001b[0m \u001b[0mrouge_output\u001b[0m\u001b[0;34m\u001b[0m\u001b[0;34m\u001b[0m\u001b[0m\n\u001b[1;32m    363\u001b[0m \u001b[0;34m\u001b[0m\u001b[0m\n",
            "\u001b[0;32m/usr/local/lib/python3.6/dist-packages/pyrouge/Rouge155.py\u001b[0m in \u001b[0;36mevaluate\u001b[0;34m(self, system_id, rouge_args)\u001b[0m\n\u001b[1;32m    334\u001b[0m         self.log.info(\n\u001b[1;32m    335\u001b[0m             \"Running ROUGE with command {}\".format(\" \".join(command)))\n\u001b[0;32m--> 336\u001b[0;31m         \u001b[0mrouge_output\u001b[0m \u001b[0;34m=\u001b[0m \u001b[0mcheck_output\u001b[0m\u001b[0;34m(\u001b[0m\u001b[0mcommand\u001b[0m\u001b[0;34m)\u001b[0m\u001b[0;34m.\u001b[0m\u001b[0mdecode\u001b[0m\u001b[0;34m(\u001b[0m\u001b[0;34m\"UTF-8\"\u001b[0m\u001b[0;34m)\u001b[0m\u001b[0;34m\u001b[0m\u001b[0;34m\u001b[0m\u001b[0m\n\u001b[0m\u001b[1;32m    337\u001b[0m         \u001b[0;32mreturn\u001b[0m \u001b[0mrouge_output\u001b[0m\u001b[0;34m\u001b[0m\u001b[0;34m\u001b[0m\u001b[0m\n\u001b[1;32m    338\u001b[0m \u001b[0;34m\u001b[0m\u001b[0m\n",
            "\u001b[0;32m/usr/lib/python3.6/subprocess.py\u001b[0m in \u001b[0;36mcheck_output\u001b[0;34m(timeout, *popenargs, **kwargs)\u001b[0m\n\u001b[1;32m    354\u001b[0m \u001b[0;34m\u001b[0m\u001b[0m\n\u001b[1;32m    355\u001b[0m     return run(*popenargs, stdout=PIPE, timeout=timeout, check=True,\n\u001b[0;32m--> 356\u001b[0;31m                **kwargs).stdout\n\u001b[0m\u001b[1;32m    357\u001b[0m \u001b[0;34m\u001b[0m\u001b[0m\n\u001b[1;32m    358\u001b[0m \u001b[0;34m\u001b[0m\u001b[0m\n",
            "\u001b[0;32m/usr/lib/python3.6/subprocess.py\u001b[0m in \u001b[0;36mrun\u001b[0;34m(input, timeout, check, *popenargs, **kwargs)\u001b[0m\n\u001b[1;32m    436\u001b[0m         \u001b[0;32mif\u001b[0m \u001b[0mcheck\u001b[0m \u001b[0;32mand\u001b[0m \u001b[0mretcode\u001b[0m\u001b[0;34m:\u001b[0m\u001b[0;34m\u001b[0m\u001b[0;34m\u001b[0m\u001b[0m\n\u001b[1;32m    437\u001b[0m             raise CalledProcessError(retcode, process.args,\n\u001b[0;32m--> 438\u001b[0;31m                                      output=stdout, stderr=stderr)\n\u001b[0m\u001b[1;32m    439\u001b[0m     \u001b[0;32mreturn\u001b[0m \u001b[0mCompletedProcess\u001b[0m\u001b[0;34m(\u001b[0m\u001b[0mprocess\u001b[0m\u001b[0;34m.\u001b[0m\u001b[0margs\u001b[0m\u001b[0;34m,\u001b[0m \u001b[0mretcode\u001b[0m\u001b[0;34m,\u001b[0m \u001b[0mstdout\u001b[0m\u001b[0;34m,\u001b[0m \u001b[0mstderr\u001b[0m\u001b[0;34m)\u001b[0m\u001b[0;34m\u001b[0m\u001b[0;34m\u001b[0m\u001b[0m\n\u001b[1;32m    440\u001b[0m \u001b[0;34m\u001b[0m\u001b[0m\n",
            "\u001b[0;31mCalledProcessError\u001b[0m: Command '['pythonrouge/pythonrouge/RELEASE-1.5.5/ROUGE-1.5.5.pl', '-e', 'pythonrouge/pythonrouge/RELEASE-1.5.5/data', '-c', '95', '-2', '-1', '-U', '-r', '1000', '-n', '4', '-w', '1.2', '-a', '-m', '/tmp/tmpsjuyy15s/rouge_conf.xml']' returned non-zero exit status 2."
          ]
        }
      ]
    },
    {
      "cell_type": "code",
      "metadata": {
        "id": "WJWVRN1FmP02",
        "colab": {
          "base_uri": "https://localhost:8080/",
          "height": 134
        },
        "outputId": "c704d616-3c3f-482f-b168-8666a3a1c6b9"
      },
      "source": [
        "!git clone https://github.com/tagucci/pythonrouge"
      ],
      "execution_count": null,
      "outputs": [
        {
          "output_type": "stream",
          "text": [
            "Cloning into 'pythonrouge'...\n",
            "remote: Enumerating objects: 5, done.\u001b[K\n",
            "remote: Counting objects: 100% (5/5), done.\u001b[K\n",
            "remote: Compressing objects: 100% (5/5), done.\u001b[K\n",
            "remote: Total 314 (delta 0), reused 1 (delta 0), pack-reused 309\u001b[K\n",
            "Receiving objects: 100% (314/314), 362.05 KiB | 18.10 MiB/s, done.\n",
            "Resolving deltas: 100% (139/139), done.\n"
          ],
          "name": "stdout"
        }
      ]
    },
    {
      "cell_type": "code",
      "metadata": {
        "id": "2Q2Njfzv3f0H",
        "colab": {
          "base_uri": "https://localhost:8080/",
          "height": 84
        },
        "outputId": "ed4399e9-5884-4f89-d9c2-9bc015e339be"
      },
      "source": [
        "!python pythonrouge/setup.py install"
      ],
      "execution_count": null,
      "outputs": [
        {
          "output_type": "stream",
          "text": [
            "Traceback (most recent call last):\n",
            "  File \"pythonrouge/setup.py\", line 31, in <module>\n",
            "    long_description=open('README.md').read(),\n",
            "FileNotFoundError: [Errno 2] No such file or directory: 'README.md'\n"
          ],
          "name": "stdout"
        }
      ]
    },
    {
      "cell_type": "code",
      "metadata": {
        "id": "jb6Zdtzj34qC",
        "colab": {
          "base_uri": "https://localhost:8080/",
          "height": 205
        },
        "outputId": "18ea25d4-4995-4cef-e4ed-d66546bb71ea"
      },
      "source": [
        "!pip3 install git+https://github.com/tagucci/pythonrouge.git\n"
      ],
      "execution_count": null,
      "outputs": [
        {
          "output_type": "stream",
          "text": [
            "Collecting git+https://github.com/tagucci/pythonrouge.git\n",
            "  Cloning https://github.com/tagucci/pythonrouge.git to /tmp/pip-req-build-9nip1y_b\n",
            "  Running command git clone -q https://github.com/tagucci/pythonrouge.git /tmp/pip-req-build-9nip1y_b\n",
            "Building wheels for collected packages: pythonrouge\n",
            "  Building wheel for pythonrouge (setup.py) ... \u001b[?25l\u001b[?25hdone\n",
            "  Created wheel for pythonrouge: filename=pythonrouge-0.2-cp36-none-any.whl size=285402 sha256=1e27719bb80512f75b9135843f17dd28c3050fc28e5e8cf9ac86f0fc3ab13070\n",
            "  Stored in directory: /tmp/pip-ephem-wheel-cache-4p0yy6r3/wheels/fd/ff/be/6716935d513fa8656ab185cb0aa70aed382b72dda42bf09c95\n",
            "Successfully built pythonrouge\n",
            "Installing collected packages: pythonrouge\n",
            "Successfully installed pythonrouge-0.2\n"
          ],
          "name": "stdout"
        }
      ]
    },
    {
      "cell_type": "code",
      "metadata": {
        "id": "rF9pFkR-397-",
        "colab": {
          "base_uri": "https://localhost:8080/",
          "height": 34
        },
        "outputId": "6345220b-5989-4aea-9b4d-72bbc4f7f9bf"
      },
      "source": [
        "!ls \"pythonrouge/pythonrouge/RELEASE-1.5.5\""
      ],
      "execution_count": null,
      "outputs": [
        {
          "output_type": "stream",
          "text": [
            "data  README.txt  RELEASE-NOTE.txt  ROUGE-1.5.5.pl  runROUGE-test.pl  XML\n"
          ],
          "name": "stdout"
        }
      ]
    },
    {
      "cell_type": "code",
      "metadata": {
        "id": "x8KIKLNw4CDK",
        "colab": {
          "base_uri": "https://localhost:8080/",
          "height": 104
        },
        "outputId": "8014b75e-6691-47e1-8fa5-e5d11b816c32"
      },
      "source": [
        "!bash \"pythonrouge/pythonrouge/RELEASE-1.5.5/data/WordNet-2.0-Exceptions/buildExeptionDB.pl\" . exc WordNet-2.0.exc.db"
      ],
      "execution_count": null,
      "outputs": [
        {
          "output_type": "stream",
          "text": [
            "pythonrouge/pythonrouge/RELEASE-1.5.5/data/WordNet-2.0-Exceptions/buildExeptionDB.pl: line 2: use: command not found\n",
            "pythonrouge/pythonrouge/RELEASE-1.5.5/data/WordNet-2.0-Exceptions/buildExeptionDB.pl: line 3: @ARGV!=3: command not found\n",
            "pythonrouge/pythonrouge/RELEASE-1.5.5/data/WordNet-2.0-Exceptions/buildExeptionDB.pl: line 4: syntax error near unexpected token `DIR,$ARGV[0]'\n",
            "pythonrouge/pythonrouge/RELEASE-1.5.5/data/WordNet-2.0-Exceptions/buildExeptionDB.pl: line 4: `opendir(DIR,$ARGV[0])||die \"Cannot open directory $ARGV[0]\\n\";'\n"
          ],
          "name": "stdout"
        }
      ]
    },
    {
      "cell_type": "code",
      "metadata": {
        "id": "Pklo3-o85V5O",
        "colab": {
          "base_uri": "https://localhost:8080/",
          "height": 34
        },
        "outputId": "0ee27c9f-f8a1-4b1f-b593-827df8f464db"
      },
      "source": [
        "!ls \"pythonrouge/pythonrouge/RELEASE-1.5.5/data/WordNet-2.0-Exceptions/buildExeptionDB.pl\""
      ],
      "execution_count": null,
      "outputs": [
        {
          "output_type": "stream",
          "text": [
            "pythonrouge/pythonrouge/RELEASE-1.5.5/data/WordNet-2.0-Exceptions/buildExeptionDB.pl\n"
          ],
          "name": "stdout"
        }
      ]
    },
    {
      "cell_type": "code",
      "metadata": {
        "id": "EncwW9sA5ueb"
      },
      "source": [
        ""
      ],
      "execution_count": null,
      "outputs": []
    }
  ]
}